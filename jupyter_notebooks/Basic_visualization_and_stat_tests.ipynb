{
  "cells": [
    {
      "cell_type": "markdown",
      "metadata": {
        "id": "0aStgWSO0E0E"
      },
      "source": [
        "# **Basic visualization**"
      ]
    },
    {
      "cell_type": "markdown",
      "metadata": {
        "id": "1eLEkw5O0ECa"
      },
      "source": [
        "## Objectives\n",
        "\n",
        "* To identify and analyze appropriate graph types for effectively visualizing and validating hypotheses in the project, ensuring clear interpretation and accurate decision-making.\n",
        "\n",
        "\n",
        "* Hypothesis explored: \n",
        "\n",
        "Hypothesis 1 : Average temperature has increased over the years\n",
        "\n",
        "Hypothesis 2 : Countries with a higher percentage of renewable energy have lower CO2 emissions\n",
        "\n",
        "Hypothesis 3 : A decrease in forest area percentage leads to an increase in extreme weather events\n",
        "\n",
        "Hypothesis 4 : Higher population growth contributes to increased CO2 emissions and rising sea levels\n",
        "\n",
        "## Inputs\n",
        "\n",
        "* temperature_cleaned.csv file\n",
        "\n",
        "## Outputs\n",
        "\n",
        "* Range of graphs\n",
        "\n",
        "## Additional Comments\n",
        "\n",
        "\n",
        "\n"
      ]
    },
    {
      "cell_type": "markdown",
      "metadata": {
        "id": "9uWZXH9LwoQg"
      },
      "source": [
        "---"
      ]
    },
    {
      "cell_type": "markdown",
      "metadata": {
        "id": "cqP-UeN-z3i2"
      },
      "source": [
        "# Change working directory"
      ]
    },
    {
      "cell_type": "markdown",
      "metadata": {},
      "source": [
        "* We are assuming you will store the notebooks in a subfolder, therefore when running the notebook in the editor, you will need to change the working directory"
      ]
    },
    {
      "cell_type": "markdown",
      "metadata": {
        "id": "aOGIGS-uz3i2"
      },
      "source": [
        "We need to change the working directory from its current folder to its parent folder\n",
        "* We access the current directory with os.getcwd()"
      ]
    },
    {
      "cell_type": "code",
      "execution_count": 2,
      "metadata": {
        "id": "wZfF_j-Bz3i4",
        "outputId": "66943449-1436-4c3d-85c7-b85f9f78349b"
      },
      "outputs": [
        {
          "data": {
            "text/plain": [
              "'c:\\\\Users\\\\Ewa\\\\Documents\\\\vscode-projects\\\\GlobalEcoInsights2000-2024\\\\jupyter_notebooks'"
            ]
          },
          "execution_count": 2,
          "metadata": {},
          "output_type": "execute_result"
        }
      ],
      "source": [
        "import os\n",
        "current_dir = os.getcwd()\n",
        "current_dir"
      ]
    },
    {
      "cell_type": "markdown",
      "metadata": {
        "id": "9MWW8E7lz3i7"
      },
      "source": [
        "We want to make the parent of the current directory the new current directory\n",
        "* os.path.dirname() gets the parent directory\n",
        "* os.chir() defines the new current directory"
      ]
    },
    {
      "cell_type": "code",
      "execution_count": 3,
      "metadata": {
        "id": "TwHsQRWjz3i9",
        "outputId": "86849db3-cd2f-4cc5-ebb8-2d0caafa1a2c"
      },
      "outputs": [
        {
          "name": "stdout",
          "output_type": "stream",
          "text": [
            "Globalecoinsights\n"
          ]
        }
      ],
      "source": [
        "os.chdir(os.path.dirname(current_dir))\n",
        "print(\"Globalecoinsights\")"
      ]
    },
    {
      "cell_type": "markdown",
      "metadata": {
        "id": "M_xPk_Ijz3i-"
      },
      "source": [
        "Confirm the new current directory"
      ]
    },
    {
      "cell_type": "code",
      "execution_count": 4,
      "metadata": {
        "id": "vz3S-_kjz3jA",
        "outputId": "00b79ae4-75d0-4a96-d193-ac9ef9847ea2"
      },
      "outputs": [
        {
          "data": {
            "text/plain": [
              "'c:\\\\Users\\\\Ewa\\\\Documents\\\\vscode-projects\\\\GlobalEcoInsights2000-2024'"
            ]
          },
          "execution_count": 4,
          "metadata": {},
          "output_type": "execute_result"
        }
      ],
      "source": [
        "current_dir = os.getcwd()\n",
        "current_dir"
      ]
    },
    {
      "cell_type": "markdown",
      "metadata": {
        "id": "-mavJ8DibrcQ"
      },
      "source": [
        "# Basic visualization"
      ]
    },
    {
      "cell_type": "markdown",
      "metadata": {},
      "source": [
        "Loading Python Libraries"
      ]
    },
    {
      "cell_type": "code",
      "execution_count": 16,
      "metadata": {},
      "outputs": [],
      "source": [
        "import pandas as pd\n",
        "import numpy as np\n",
        "import plotly.express as px\n",
        "import plotly.io as pio\n",
        "import plotly.graph_objects as go\n",
        "import seaborn as sns\n",
        "import matplotlib.pyplot as plt\n",
        "import scipy.stats as stats"
      ]
    },
    {
      "cell_type": "markdown",
      "metadata": {
        "id": "ZY3l0-AxO93d"
      },
      "source": [
        "---"
      ]
    },
    {
      "cell_type": "code",
      "execution_count": 6,
      "metadata": {},
      "outputs": [
        {
          "data": {
            "text/html": [
              "<div>\n",
              "<style scoped>\n",
              "    .dataframe tbody tr th:only-of-type {\n",
              "        vertical-align: middle;\n",
              "    }\n",
              "\n",
              "    .dataframe tbody tr th {\n",
              "        vertical-align: top;\n",
              "    }\n",
              "\n",
              "    .dataframe thead th {\n",
              "        text-align: right;\n",
              "    }\n",
              "</style>\n",
              "<table border=\"1\" class=\"dataframe\">\n",
              "  <thead>\n",
              "    <tr style=\"text-align: right;\">\n",
              "      <th></th>\n",
              "      <th>Year</th>\n",
              "      <th>Country</th>\n",
              "      <th>Avg_Temperature_degC</th>\n",
              "      <th>CO2_Emissions_tons_per_capita</th>\n",
              "      <th>Sea_Level_Rise_mm</th>\n",
              "      <th>Rainfall_mm</th>\n",
              "      <th>Population</th>\n",
              "      <th>Renewable_Energy_pct</th>\n",
              "      <th>Extreme_Weather_Events</th>\n",
              "      <th>Forest_Area_pct</th>\n",
              "    </tr>\n",
              "  </thead>\n",
              "  <tbody>\n",
              "    <tr>\n",
              "      <th>0</th>\n",
              "      <td>2006</td>\n",
              "      <td>UK</td>\n",
              "      <td>8.9</td>\n",
              "      <td>9.3</td>\n",
              "      <td>3.1</td>\n",
              "      <td>1441</td>\n",
              "      <td>530911230</td>\n",
              "      <td>20.4</td>\n",
              "      <td>14</td>\n",
              "      <td>59.8</td>\n",
              "    </tr>\n",
              "    <tr>\n",
              "      <th>1</th>\n",
              "      <td>2019</td>\n",
              "      <td>USA</td>\n",
              "      <td>31.0</td>\n",
              "      <td>4.8</td>\n",
              "      <td>4.2</td>\n",
              "      <td>2407</td>\n",
              "      <td>107364344</td>\n",
              "      <td>49.2</td>\n",
              "      <td>8</td>\n",
              "      <td>31.0</td>\n",
              "    </tr>\n",
              "    <tr>\n",
              "      <th>2</th>\n",
              "      <td>2014</td>\n",
              "      <td>France</td>\n",
              "      <td>33.9</td>\n",
              "      <td>2.8</td>\n",
              "      <td>2.2</td>\n",
              "      <td>1241</td>\n",
              "      <td>441101758</td>\n",
              "      <td>33.3</td>\n",
              "      <td>9</td>\n",
              "      <td>35.5</td>\n",
              "    </tr>\n",
              "    <tr>\n",
              "      <th>3</th>\n",
              "      <td>2010</td>\n",
              "      <td>Argentina</td>\n",
              "      <td>5.9</td>\n",
              "      <td>1.8</td>\n",
              "      <td>3.2</td>\n",
              "      <td>1892</td>\n",
              "      <td>1069669579</td>\n",
              "      <td>23.7</td>\n",
              "      <td>7</td>\n",
              "      <td>17.7</td>\n",
              "    </tr>\n",
              "    <tr>\n",
              "      <th>4</th>\n",
              "      <td>2007</td>\n",
              "      <td>Germany</td>\n",
              "      <td>26.9</td>\n",
              "      <td>5.6</td>\n",
              "      <td>2.4</td>\n",
              "      <td>1743</td>\n",
              "      <td>124079175</td>\n",
              "      <td>12.5</td>\n",
              "      <td>4</td>\n",
              "      <td>17.4</td>\n",
              "    </tr>\n",
              "  </tbody>\n",
              "</table>\n",
              "</div>"
            ],
            "text/plain": [
              "   Year    Country  Avg_Temperature_degC  CO2_Emissions_tons_per_capita  \\\n",
              "0  2006         UK                   8.9                            9.3   \n",
              "1  2019        USA                  31.0                            4.8   \n",
              "2  2014     France                  33.9                            2.8   \n",
              "3  2010  Argentina                   5.9                            1.8   \n",
              "4  2007    Germany                  26.9                            5.6   \n",
              "\n",
              "   Sea_Level_Rise_mm  Rainfall_mm  Population  Renewable_Energy_pct  \\\n",
              "0                3.1         1441   530911230                  20.4   \n",
              "1                4.2         2407   107364344                  49.2   \n",
              "2                2.2         1241   441101758                  33.3   \n",
              "3                3.2         1892  1069669579                  23.7   \n",
              "4                2.4         1743   124079175                  12.5   \n",
              "\n",
              "   Extreme_Weather_Events  Forest_Area_pct  \n",
              "0                      14             59.8  \n",
              "1                       8             31.0  \n",
              "2                       9             35.5  \n",
              "3                       7             17.7  \n",
              "4                       4             17.4  "
            ]
          },
          "execution_count": 6,
          "metadata": {},
          "output_type": "execute_result"
        }
      ],
      "source": [
        "# Load the dataset into a pandas dataframe using a relative path\n",
        "df = pd.read_csv(\"temperature_cleaned.csv\")\n",
        "df.head(5)"
      ]
    },
    {
      "cell_type": "markdown",
      "metadata": {},
      "source": [
        "# Hypothesis: \"Average temperature has increased over the years.\" \n",
        "\n",
        "* Visualization: Line chart showing temperature trends per country"
      ]
    },
    {
      "cell_type": "code",
      "execution_count": 7,
      "metadata": {},
      "outputs": [
        {
          "data": {
            "application/vnd.plotly.v1+json": {
              "config": {
                "plotlyServerURL": "https://plot.ly"
              },
              "data": [
                {
                  "mode": "lines+markers",
                  "name": "'South Africa'",
                  "type": "scatter",
                  "x": [
                    2000,
                    2001,
                    2002,
                    2003,
                    2004,
                    2006,
                    2007,
                    2008,
                    2009,
                    2010,
                    2011,
                    2012,
                    2013,
                    2014,
                    2015,
                    2016,
                    2017,
                    2018,
                    2019,
                    2020,
                    2021,
                    2022,
                    2023
                  ],
                  "y": [
                    26.11428571428571,
                    21.724999999999998,
                    30.799999999999997,
                    23.166666666666668,
                    24.15,
                    9.05,
                    17.1,
                    8.2,
                    22.599999999999998,
                    12.75,
                    17.666666666666668,
                    20.64,
                    20.2,
                    17.433333333333334,
                    23.975,
                    19.14,
                    21.6,
                    33.9,
                    26.8,
                    18.36,
                    14.066666666666665,
                    22.424999999999997,
                    19.6
                  ]
                },
                {
                  "mode": "lines+markers",
                  "name": "Argentina",
                  "type": "scatter",
                  "x": [
                    2000,
                    2001,
                    2002,
                    2003,
                    2004,
                    2005,
                    2006,
                    2007,
                    2008,
                    2009,
                    2010,
                    2012,
                    2013,
                    2014,
                    2015,
                    2016,
                    2018,
                    2019,
                    2020,
                    2021,
                    2022,
                    2023
                  ],
                  "y": [
                    16.9,
                    21.975,
                    20.950000000000003,
                    10,
                    12.600000000000001,
                    14.283333333333333,
                    22.75,
                    7.7,
                    20.759999999999998,
                    17.766666666666666,
                    15.2,
                    20.950000000000003,
                    27.32,
                    26.366666666666664,
                    20.7,
                    14.2,
                    28.96666666666667,
                    19.033333333333335,
                    9.566666666666666,
                    15.933333333333332,
                    17.45,
                    20.633333333333333
                  ]
                },
                {
                  "mode": "lines+markers",
                  "name": "Australia",
                  "type": "scatter",
                  "x": [
                    2000,
                    2001,
                    2002,
                    2003,
                    2004,
                    2005,
                    2006,
                    2008,
                    2010,
                    2011,
                    2012,
                    2014,
                    2015,
                    2016,
                    2017,
                    2018,
                    2019,
                    2020,
                    2021,
                    2022,
                    2023
                  ],
                  "y": [
                    11.933333333333335,
                    18.9,
                    23.025,
                    22.400000000000002,
                    14.62,
                    34.4,
                    20.4,
                    19.200000000000003,
                    21.833333333333332,
                    18.16,
                    17.05,
                    27.2,
                    6.2,
                    21.4,
                    26.35,
                    18.675,
                    19.96,
                    20.35,
                    24.9,
                    18.333333333333332,
                    11.5
                  ]
                },
                {
                  "mode": "lines+markers",
                  "name": "Brazil",
                  "type": "scatter",
                  "x": [
                    2000,
                    2001,
                    2002,
                    2003,
                    2004,
                    2005,
                    2006,
                    2007,
                    2008,
                    2009,
                    2010,
                    2011,
                    2012,
                    2013,
                    2014,
                    2015,
                    2016,
                    2017,
                    2018,
                    2019,
                    2020,
                    2021,
                    2022,
                    2023
                  ],
                  "y": [
                    31.2,
                    17.15,
                    14.266666666666667,
                    17.45,
                    16.4,
                    34.4,
                    22.233333333333334,
                    25.3,
                    20.6,
                    31.5,
                    16.419999999999998,
                    22.47142857142857,
                    22.5,
                    23.233333333333334,
                    24.075,
                    17.75,
                    24.660000000000004,
                    13.299999999999999,
                    16.3,
                    21,
                    23.36,
                    27.5,
                    18.4,
                    19.35
                  ]
                },
                {
                  "mode": "lines+markers",
                  "name": "Canada",
                  "type": "scatter",
                  "x": [
                    2000,
                    2001,
                    2002,
                    2003,
                    2004,
                    2005,
                    2006,
                    2007,
                    2008,
                    2009,
                    2010,
                    2012,
                    2013,
                    2014,
                    2015,
                    2016,
                    2017,
                    2018,
                    2019,
                    2020,
                    2021,
                    2022,
                    2023
                  ],
                  "y": [
                    19.3,
                    21.25,
                    22.6,
                    11.6,
                    19.85,
                    16.185714285714287,
                    16.633333333333333,
                    29.4,
                    14.633333333333333,
                    24.1,
                    5.5,
                    17.380000000000003,
                    12.916666666666666,
                    27.6,
                    25.4,
                    25.05,
                    15.5,
                    31.9,
                    25.65,
                    33.3,
                    19.200000000000003,
                    28.7,
                    20.7
                  ]
                },
                {
                  "mode": "lines+markers",
                  "name": "China",
                  "type": "scatter",
                  "x": [
                    2000,
                    2001,
                    2003,
                    2004,
                    2006,
                    2007,
                    2008,
                    2010,
                    2011,
                    2012,
                    2013,
                    2014,
                    2015,
                    2016,
                    2017,
                    2018,
                    2019,
                    2020,
                    2021,
                    2022,
                    2023
                  ],
                  "y": [
                    26.2,
                    27.4,
                    22.02,
                    21.14,
                    11.5,
                    11.5,
                    34.8,
                    18.599999999999998,
                    17.98,
                    19.966666666666665,
                    14.4,
                    7.6,
                    19.766666666666666,
                    19.825,
                    21.475,
                    22.28333333333333,
                    20.85,
                    19.22,
                    20.8,
                    23.099999999999998,
                    21.099999999999998
                  ]
                },
                {
                  "mode": "lines+markers",
                  "name": "France",
                  "type": "scatter",
                  "x": [
                    2000,
                    2001,
                    2002,
                    2003,
                    2004,
                    2005,
                    2006,
                    2007,
                    2008,
                    2009,
                    2010,
                    2011,
                    2012,
                    2013,
                    2014,
                    2015,
                    2016,
                    2017,
                    2018,
                    2019,
                    2020,
                    2021,
                    2022,
                    2023
                  ],
                  "y": [
                    16.6,
                    27,
                    23.53333333333333,
                    18.766666666666666,
                    20.7,
                    29.7,
                    16.400000000000002,
                    27.166666666666668,
                    13,
                    8.4,
                    14,
                    21.7,
                    14.7,
                    14.866666666666665,
                    23.942857142857143,
                    21.560000000000002,
                    32.6,
                    21.65,
                    22.266666666666666,
                    23.53333333333333,
                    5.1,
                    13.5,
                    16.15,
                    19.75
                  ]
                },
                {
                  "mode": "lines+markers",
                  "name": "Germany",
                  "type": "scatter",
                  "x": [
                    2000,
                    2001,
                    2002,
                    2003,
                    2004,
                    2005,
                    2006,
                    2007,
                    2008,
                    2009,
                    2010,
                    2011,
                    2012,
                    2013,
                    2014,
                    2015,
                    2016,
                    2017,
                    2018,
                    2019,
                    2021,
                    2022,
                    2023
                  ],
                  "y": [
                    9.75,
                    21.566666666666666,
                    15.8,
                    30.5,
                    17.075,
                    27.266666666666666,
                    25,
                    20.057142857142857,
                    28.1,
                    18.633333333333333,
                    24.9,
                    24.1,
                    21.2,
                    17.9,
                    21.7,
                    18.833333333333332,
                    24.1,
                    19.35,
                    21.75,
                    8.3,
                    20.049999999999997,
                    19.5,
                    21.3
                  ]
                },
                {
                  "mode": "lines+markers",
                  "name": "India",
                  "type": "scatter",
                  "x": [
                    2000,
                    2001,
                    2002,
                    2003,
                    2004,
                    2005,
                    2006,
                    2007,
                    2008,
                    2009,
                    2011,
                    2012,
                    2013,
                    2014,
                    2015,
                    2016,
                    2017,
                    2018,
                    2019,
                    2020,
                    2021,
                    2022,
                    2023
                  ],
                  "y": [
                    21.25,
                    15.05,
                    21.78333333333333,
                    11,
                    21.2,
                    21.45,
                    16.4,
                    29.333333333333332,
                    16.3,
                    23.25,
                    10.3,
                    12.5,
                    21.65,
                    24.7,
                    15.65,
                    17.275,
                    16.366666666666667,
                    29.5,
                    20.380000000000003,
                    9.6,
                    17.479999999999997,
                    16.633333333333333,
                    26.9
                  ]
                },
                {
                  "mode": "lines+markers",
                  "name": "Indonesia",
                  "type": "scatter",
                  "x": [
                    2000,
                    2001,
                    2002,
                    2003,
                    2004,
                    2005,
                    2006,
                    2007,
                    2008,
                    2009,
                    2010,
                    2011,
                    2012,
                    2014,
                    2015,
                    2016,
                    2018,
                    2019,
                    2020,
                    2021,
                    2022,
                    2023
                  ],
                  "y": [
                    23.585714285714285,
                    18.7,
                    19.3,
                    12.7,
                    14.2,
                    18.8,
                    20.7,
                    19.942857142857143,
                    15.75,
                    17.55,
                    15.719999999999999,
                    13.766666666666667,
                    14.700000000000001,
                    12.725,
                    22.166666666666668,
                    19.95,
                    29.1,
                    12.966666666666667,
                    25.933333333333334,
                    22.166666666666668,
                    15.9,
                    28.15
                  ]
                },
                {
                  "mode": "lines+markers",
                  "name": "Japan",
                  "type": "scatter",
                  "x": [
                    2001,
                    2002,
                    2003,
                    2004,
                    2005,
                    2006,
                    2007,
                    2008,
                    2009,
                    2010,
                    2011,
                    2012,
                    2014,
                    2015,
                    2016,
                    2017,
                    2018,
                    2019,
                    2020,
                    2021,
                    2022,
                    2023
                  ],
                  "y": [
                    26.65,
                    26.5,
                    24.96666666666667,
                    13.580000000000002,
                    10.7,
                    27.6,
                    15.4,
                    16.55,
                    34.25,
                    24.5,
                    18.666666666666668,
                    10.55,
                    23.2,
                    23.200000000000003,
                    17.975,
                    19.240000000000002,
                    24.32,
                    18.4,
                    19.25,
                    20.325,
                    17.580000000000002,
                    24.799999999999997
                  ]
                },
                {
                  "mode": "lines+markers",
                  "name": "Mexico",
                  "type": "scatter",
                  "x": [
                    2000,
                    2001,
                    2002,
                    2003,
                    2004,
                    2005,
                    2006,
                    2007,
                    2008,
                    2009,
                    2010,
                    2011,
                    2012,
                    2013,
                    2014,
                    2015,
                    2016,
                    2017,
                    2018,
                    2019,
                    2020,
                    2021,
                    2022,
                    2023
                  ],
                  "y": [
                    16.9,
                    13.940000000000001,
                    11.7,
                    20.4,
                    34.2,
                    7.2,
                    20.55,
                    8.6,
                    25.1,
                    25.5,
                    24.366666666666664,
                    17.4,
                    17.5,
                    19.9,
                    27.46666666666667,
                    13.45,
                    14.399999999999999,
                    23.175,
                    21.85,
                    21.566666666666666,
                    20.2,
                    32.375,
                    28.2,
                    20
                  ]
                },
                {
                  "mode": "lines+markers",
                  "name": "Russia",
                  "type": "scatter",
                  "x": [
                    2000,
                    2001,
                    2002,
                    2003,
                    2004,
                    2005,
                    2006,
                    2007,
                    2008,
                    2009,
                    2010,
                    2011,
                    2012,
                    2013,
                    2014,
                    2015,
                    2016,
                    2017,
                    2018,
                    2019,
                    2020,
                    2021,
                    2022,
                    2023
                  ],
                  "y": [
                    11,
                    26.65,
                    24.6,
                    16.233333333333334,
                    32,
                    15.55,
                    24.333333333333332,
                    24.2,
                    21.900000000000002,
                    26.05,
                    19.85,
                    14.725,
                    17.4,
                    14.75,
                    9.4,
                    21.849999999999998,
                    22.066666666666666,
                    22.15,
                    19.9,
                    12.35,
                    22.114285714285717,
                    25.5,
                    12.700000000000001,
                    30.9
                  ]
                },
                {
                  "mode": "lines+markers",
                  "name": "UK",
                  "type": "scatter",
                  "x": [
                    2000,
                    2001,
                    2002,
                    2003,
                    2004,
                    2005,
                    2006,
                    2007,
                    2009,
                    2010,
                    2011,
                    2012,
                    2014,
                    2015,
                    2016,
                    2017,
                    2018,
                    2019,
                    2020,
                    2021,
                    2022,
                    2023
                  ],
                  "y": [
                    23.1875,
                    16.15,
                    19.8,
                    9,
                    15.4,
                    19.366666666666667,
                    16.375,
                    12.05,
                    15.35,
                    19.3,
                    19.45,
                    15.4,
                    16.75,
                    7.3,
                    22.925,
                    6.3,
                    24.9,
                    20.025,
                    7.8,
                    15.775,
                    19.400000000000002,
                    30.3
                  ]
                },
                {
                  "mode": "lines+markers",
                  "name": "USA",
                  "type": "scatter",
                  "x": [
                    2000,
                    2001,
                    2002,
                    2003,
                    2004,
                    2005,
                    2006,
                    2007,
                    2008,
                    2009,
                    2011,
                    2012,
                    2013,
                    2014,
                    2015,
                    2016,
                    2018,
                    2019,
                    2020,
                    2021,
                    2022,
                    2023
                  ],
                  "y": [
                    15.440000000000001,
                    24.5,
                    12.066666666666668,
                    15.949999999999998,
                    22,
                    27.1,
                    24.54,
                    20.166666666666668,
                    19.5,
                    10.625,
                    30.8,
                    19.099999999999998,
                    20.3,
                    5.5,
                    19.942857142857143,
                    26.133333333333336,
                    18.9,
                    30.8,
                    14.25,
                    26.45,
                    17.285714285714285,
                    16.257142857142856
                  ]
                }
              ],
              "layout": {
                "hovermode": "x unified",
                "legend": {
                  "title": {
                    "text": "Country"
                  }
                },
                "template": {
                  "data": {
                    "bar": [
                      {
                        "error_x": {
                          "color": "#2a3f5f"
                        },
                        "error_y": {
                          "color": "#2a3f5f"
                        },
                        "marker": {
                          "line": {
                            "color": "white",
                            "width": 0.5
                          },
                          "pattern": {
                            "fillmode": "overlay",
                            "size": 10,
                            "solidity": 0.2
                          }
                        },
                        "type": "bar"
                      }
                    ],
                    "barpolar": [
                      {
                        "marker": {
                          "line": {
                            "color": "white",
                            "width": 0.5
                          },
                          "pattern": {
                            "fillmode": "overlay",
                            "size": 10,
                            "solidity": 0.2
                          }
                        },
                        "type": "barpolar"
                      }
                    ],
                    "carpet": [
                      {
                        "aaxis": {
                          "endlinecolor": "#2a3f5f",
                          "gridcolor": "#C8D4E3",
                          "linecolor": "#C8D4E3",
                          "minorgridcolor": "#C8D4E3",
                          "startlinecolor": "#2a3f5f"
                        },
                        "baxis": {
                          "endlinecolor": "#2a3f5f",
                          "gridcolor": "#C8D4E3",
                          "linecolor": "#C8D4E3",
                          "minorgridcolor": "#C8D4E3",
                          "startlinecolor": "#2a3f5f"
                        },
                        "type": "carpet"
                      }
                    ],
                    "choropleth": [
                      {
                        "colorbar": {
                          "outlinewidth": 0,
                          "ticks": ""
                        },
                        "type": "choropleth"
                      }
                    ],
                    "contour": [
                      {
                        "colorbar": {
                          "outlinewidth": 0,
                          "ticks": ""
                        },
                        "colorscale": [
                          [
                            0,
                            "#0d0887"
                          ],
                          [
                            0.1111111111111111,
                            "#46039f"
                          ],
                          [
                            0.2222222222222222,
                            "#7201a8"
                          ],
                          [
                            0.3333333333333333,
                            "#9c179e"
                          ],
                          [
                            0.4444444444444444,
                            "#bd3786"
                          ],
                          [
                            0.5555555555555556,
                            "#d8576b"
                          ],
                          [
                            0.6666666666666666,
                            "#ed7953"
                          ],
                          [
                            0.7777777777777778,
                            "#fb9f3a"
                          ],
                          [
                            0.8888888888888888,
                            "#fdca26"
                          ],
                          [
                            1,
                            "#f0f921"
                          ]
                        ],
                        "type": "contour"
                      }
                    ],
                    "contourcarpet": [
                      {
                        "colorbar": {
                          "outlinewidth": 0,
                          "ticks": ""
                        },
                        "type": "contourcarpet"
                      }
                    ],
                    "heatmap": [
                      {
                        "colorbar": {
                          "outlinewidth": 0,
                          "ticks": ""
                        },
                        "colorscale": [
                          [
                            0,
                            "#0d0887"
                          ],
                          [
                            0.1111111111111111,
                            "#46039f"
                          ],
                          [
                            0.2222222222222222,
                            "#7201a8"
                          ],
                          [
                            0.3333333333333333,
                            "#9c179e"
                          ],
                          [
                            0.4444444444444444,
                            "#bd3786"
                          ],
                          [
                            0.5555555555555556,
                            "#d8576b"
                          ],
                          [
                            0.6666666666666666,
                            "#ed7953"
                          ],
                          [
                            0.7777777777777778,
                            "#fb9f3a"
                          ],
                          [
                            0.8888888888888888,
                            "#fdca26"
                          ],
                          [
                            1,
                            "#f0f921"
                          ]
                        ],
                        "type": "heatmap"
                      }
                    ],
                    "heatmapgl": [
                      {
                        "colorbar": {
                          "outlinewidth": 0,
                          "ticks": ""
                        },
                        "colorscale": [
                          [
                            0,
                            "#0d0887"
                          ],
                          [
                            0.1111111111111111,
                            "#46039f"
                          ],
                          [
                            0.2222222222222222,
                            "#7201a8"
                          ],
                          [
                            0.3333333333333333,
                            "#9c179e"
                          ],
                          [
                            0.4444444444444444,
                            "#bd3786"
                          ],
                          [
                            0.5555555555555556,
                            "#d8576b"
                          ],
                          [
                            0.6666666666666666,
                            "#ed7953"
                          ],
                          [
                            0.7777777777777778,
                            "#fb9f3a"
                          ],
                          [
                            0.8888888888888888,
                            "#fdca26"
                          ],
                          [
                            1,
                            "#f0f921"
                          ]
                        ],
                        "type": "heatmapgl"
                      }
                    ],
                    "histogram": [
                      {
                        "marker": {
                          "pattern": {
                            "fillmode": "overlay",
                            "size": 10,
                            "solidity": 0.2
                          }
                        },
                        "type": "histogram"
                      }
                    ],
                    "histogram2d": [
                      {
                        "colorbar": {
                          "outlinewidth": 0,
                          "ticks": ""
                        },
                        "colorscale": [
                          [
                            0,
                            "#0d0887"
                          ],
                          [
                            0.1111111111111111,
                            "#46039f"
                          ],
                          [
                            0.2222222222222222,
                            "#7201a8"
                          ],
                          [
                            0.3333333333333333,
                            "#9c179e"
                          ],
                          [
                            0.4444444444444444,
                            "#bd3786"
                          ],
                          [
                            0.5555555555555556,
                            "#d8576b"
                          ],
                          [
                            0.6666666666666666,
                            "#ed7953"
                          ],
                          [
                            0.7777777777777778,
                            "#fb9f3a"
                          ],
                          [
                            0.8888888888888888,
                            "#fdca26"
                          ],
                          [
                            1,
                            "#f0f921"
                          ]
                        ],
                        "type": "histogram2d"
                      }
                    ],
                    "histogram2dcontour": [
                      {
                        "colorbar": {
                          "outlinewidth": 0,
                          "ticks": ""
                        },
                        "colorscale": [
                          [
                            0,
                            "#0d0887"
                          ],
                          [
                            0.1111111111111111,
                            "#46039f"
                          ],
                          [
                            0.2222222222222222,
                            "#7201a8"
                          ],
                          [
                            0.3333333333333333,
                            "#9c179e"
                          ],
                          [
                            0.4444444444444444,
                            "#bd3786"
                          ],
                          [
                            0.5555555555555556,
                            "#d8576b"
                          ],
                          [
                            0.6666666666666666,
                            "#ed7953"
                          ],
                          [
                            0.7777777777777778,
                            "#fb9f3a"
                          ],
                          [
                            0.8888888888888888,
                            "#fdca26"
                          ],
                          [
                            1,
                            "#f0f921"
                          ]
                        ],
                        "type": "histogram2dcontour"
                      }
                    ],
                    "mesh3d": [
                      {
                        "colorbar": {
                          "outlinewidth": 0,
                          "ticks": ""
                        },
                        "type": "mesh3d"
                      }
                    ],
                    "parcoords": [
                      {
                        "line": {
                          "colorbar": {
                            "outlinewidth": 0,
                            "ticks": ""
                          }
                        },
                        "type": "parcoords"
                      }
                    ],
                    "pie": [
                      {
                        "automargin": true,
                        "type": "pie"
                      }
                    ],
                    "scatter": [
                      {
                        "fillpattern": {
                          "fillmode": "overlay",
                          "size": 10,
                          "solidity": 0.2
                        },
                        "type": "scatter"
                      }
                    ],
                    "scatter3d": [
                      {
                        "line": {
                          "colorbar": {
                            "outlinewidth": 0,
                            "ticks": ""
                          }
                        },
                        "marker": {
                          "colorbar": {
                            "outlinewidth": 0,
                            "ticks": ""
                          }
                        },
                        "type": "scatter3d"
                      }
                    ],
                    "scattercarpet": [
                      {
                        "marker": {
                          "colorbar": {
                            "outlinewidth": 0,
                            "ticks": ""
                          }
                        },
                        "type": "scattercarpet"
                      }
                    ],
                    "scattergeo": [
                      {
                        "marker": {
                          "colorbar": {
                            "outlinewidth": 0,
                            "ticks": ""
                          }
                        },
                        "type": "scattergeo"
                      }
                    ],
                    "scattergl": [
                      {
                        "marker": {
                          "colorbar": {
                            "outlinewidth": 0,
                            "ticks": ""
                          }
                        },
                        "type": "scattergl"
                      }
                    ],
                    "scattermapbox": [
                      {
                        "marker": {
                          "colorbar": {
                            "outlinewidth": 0,
                            "ticks": ""
                          }
                        },
                        "type": "scattermapbox"
                      }
                    ],
                    "scatterpolar": [
                      {
                        "marker": {
                          "colorbar": {
                            "outlinewidth": 0,
                            "ticks": ""
                          }
                        },
                        "type": "scatterpolar"
                      }
                    ],
                    "scatterpolargl": [
                      {
                        "marker": {
                          "colorbar": {
                            "outlinewidth": 0,
                            "ticks": ""
                          }
                        },
                        "type": "scatterpolargl"
                      }
                    ],
                    "scatterternary": [
                      {
                        "marker": {
                          "colorbar": {
                            "outlinewidth": 0,
                            "ticks": ""
                          }
                        },
                        "type": "scatterternary"
                      }
                    ],
                    "surface": [
                      {
                        "colorbar": {
                          "outlinewidth": 0,
                          "ticks": ""
                        },
                        "colorscale": [
                          [
                            0,
                            "#0d0887"
                          ],
                          [
                            0.1111111111111111,
                            "#46039f"
                          ],
                          [
                            0.2222222222222222,
                            "#7201a8"
                          ],
                          [
                            0.3333333333333333,
                            "#9c179e"
                          ],
                          [
                            0.4444444444444444,
                            "#bd3786"
                          ],
                          [
                            0.5555555555555556,
                            "#d8576b"
                          ],
                          [
                            0.6666666666666666,
                            "#ed7953"
                          ],
                          [
                            0.7777777777777778,
                            "#fb9f3a"
                          ],
                          [
                            0.8888888888888888,
                            "#fdca26"
                          ],
                          [
                            1,
                            "#f0f921"
                          ]
                        ],
                        "type": "surface"
                      }
                    ],
                    "table": [
                      {
                        "cells": {
                          "fill": {
                            "color": "#EBF0F8"
                          },
                          "line": {
                            "color": "white"
                          }
                        },
                        "header": {
                          "fill": {
                            "color": "#C8D4E3"
                          },
                          "line": {
                            "color": "white"
                          }
                        },
                        "type": "table"
                      }
                    ]
                  },
                  "layout": {
                    "annotationdefaults": {
                      "arrowcolor": "#2a3f5f",
                      "arrowhead": 0,
                      "arrowwidth": 1
                    },
                    "autotypenumbers": "strict",
                    "coloraxis": {
                      "colorbar": {
                        "outlinewidth": 0,
                        "ticks": ""
                      }
                    },
                    "colorscale": {
                      "diverging": [
                        [
                          0,
                          "#8e0152"
                        ],
                        [
                          0.1,
                          "#c51b7d"
                        ],
                        [
                          0.2,
                          "#de77ae"
                        ],
                        [
                          0.3,
                          "#f1b6da"
                        ],
                        [
                          0.4,
                          "#fde0ef"
                        ],
                        [
                          0.5,
                          "#f7f7f7"
                        ],
                        [
                          0.6,
                          "#e6f5d0"
                        ],
                        [
                          0.7,
                          "#b8e186"
                        ],
                        [
                          0.8,
                          "#7fbc41"
                        ],
                        [
                          0.9,
                          "#4d9221"
                        ],
                        [
                          1,
                          "#276419"
                        ]
                      ],
                      "sequential": [
                        [
                          0,
                          "#0d0887"
                        ],
                        [
                          0.1111111111111111,
                          "#46039f"
                        ],
                        [
                          0.2222222222222222,
                          "#7201a8"
                        ],
                        [
                          0.3333333333333333,
                          "#9c179e"
                        ],
                        [
                          0.4444444444444444,
                          "#bd3786"
                        ],
                        [
                          0.5555555555555556,
                          "#d8576b"
                        ],
                        [
                          0.6666666666666666,
                          "#ed7953"
                        ],
                        [
                          0.7777777777777778,
                          "#fb9f3a"
                        ],
                        [
                          0.8888888888888888,
                          "#fdca26"
                        ],
                        [
                          1,
                          "#f0f921"
                        ]
                      ],
                      "sequentialminus": [
                        [
                          0,
                          "#0d0887"
                        ],
                        [
                          0.1111111111111111,
                          "#46039f"
                        ],
                        [
                          0.2222222222222222,
                          "#7201a8"
                        ],
                        [
                          0.3333333333333333,
                          "#9c179e"
                        ],
                        [
                          0.4444444444444444,
                          "#bd3786"
                        ],
                        [
                          0.5555555555555556,
                          "#d8576b"
                        ],
                        [
                          0.6666666666666666,
                          "#ed7953"
                        ],
                        [
                          0.7777777777777778,
                          "#fb9f3a"
                        ],
                        [
                          0.8888888888888888,
                          "#fdca26"
                        ],
                        [
                          1,
                          "#f0f921"
                        ]
                      ]
                    },
                    "colorway": [
                      "#636efa",
                      "#EF553B",
                      "#00cc96",
                      "#ab63fa",
                      "#FFA15A",
                      "#19d3f3",
                      "#FF6692",
                      "#B6E880",
                      "#FF97FF",
                      "#FECB52"
                    ],
                    "font": {
                      "color": "#2a3f5f"
                    },
                    "geo": {
                      "bgcolor": "white",
                      "lakecolor": "white",
                      "landcolor": "white",
                      "showlakes": true,
                      "showland": true,
                      "subunitcolor": "#C8D4E3"
                    },
                    "hoverlabel": {
                      "align": "left"
                    },
                    "hovermode": "closest",
                    "mapbox": {
                      "style": "light"
                    },
                    "paper_bgcolor": "white",
                    "plot_bgcolor": "white",
                    "polar": {
                      "angularaxis": {
                        "gridcolor": "#EBF0F8",
                        "linecolor": "#EBF0F8",
                        "ticks": ""
                      },
                      "bgcolor": "white",
                      "radialaxis": {
                        "gridcolor": "#EBF0F8",
                        "linecolor": "#EBF0F8",
                        "ticks": ""
                      }
                    },
                    "scene": {
                      "xaxis": {
                        "backgroundcolor": "white",
                        "gridcolor": "#DFE8F3",
                        "gridwidth": 2,
                        "linecolor": "#EBF0F8",
                        "showbackground": true,
                        "ticks": "",
                        "zerolinecolor": "#EBF0F8"
                      },
                      "yaxis": {
                        "backgroundcolor": "white",
                        "gridcolor": "#DFE8F3",
                        "gridwidth": 2,
                        "linecolor": "#EBF0F8",
                        "showbackground": true,
                        "ticks": "",
                        "zerolinecolor": "#EBF0F8"
                      },
                      "zaxis": {
                        "backgroundcolor": "white",
                        "gridcolor": "#DFE8F3",
                        "gridwidth": 2,
                        "linecolor": "#EBF0F8",
                        "showbackground": true,
                        "ticks": "",
                        "zerolinecolor": "#EBF0F8"
                      }
                    },
                    "shapedefaults": {
                      "line": {
                        "color": "#2a3f5f"
                      }
                    },
                    "ternary": {
                      "aaxis": {
                        "gridcolor": "#DFE8F3",
                        "linecolor": "#A2B1C6",
                        "ticks": ""
                      },
                      "baxis": {
                        "gridcolor": "#DFE8F3",
                        "linecolor": "#A2B1C6",
                        "ticks": ""
                      },
                      "bgcolor": "white",
                      "caxis": {
                        "gridcolor": "#DFE8F3",
                        "linecolor": "#A2B1C6",
                        "ticks": ""
                      }
                    },
                    "title": {
                      "x": 0.05
                    },
                    "xaxis": {
                      "automargin": true,
                      "gridcolor": "#EBF0F8",
                      "linecolor": "#EBF0F8",
                      "ticks": "",
                      "title": {
                        "standoff": 15
                      },
                      "zerolinecolor": "#EBF0F8",
                      "zerolinewidth": 2
                    },
                    "yaxis": {
                      "automargin": true,
                      "gridcolor": "#EBF0F8",
                      "linecolor": "#EBF0F8",
                      "ticks": "",
                      "title": {
                        "standoff": 15
                      },
                      "zerolinecolor": "#EBF0F8",
                      "zerolinewidth": 2
                    }
                  }
                },
                "title": {
                  "text": "Temperature Trends Over Time by Country"
                },
                "updatemenus": [
                  {
                    "active": 0,
                    "buttons": [
                      {
                        "args": [
                          {
                            "visible": [
                              true,
                              true,
                              true,
                              true,
                              true,
                              true,
                              true,
                              true,
                              true,
                              true,
                              true,
                              true,
                              true,
                              true,
                              true
                            ]
                          }
                        ],
                        "label": "Show All",
                        "method": "update"
                      },
                      {
                        "args": [
                          {
                            "visible": [
                              true,
                              false,
                              false,
                              false,
                              false,
                              false,
                              false,
                              false,
                              false,
                              false,
                              false,
                              false,
                              false,
                              false,
                              false
                            ]
                          }
                        ],
                        "label": "'South Africa'",
                        "method": "update"
                      },
                      {
                        "args": [
                          {
                            "visible": [
                              false,
                              true,
                              false,
                              false,
                              false,
                              false,
                              false,
                              false,
                              false,
                              false,
                              false,
                              false,
                              false,
                              false,
                              false
                            ]
                          }
                        ],
                        "label": "Argentina",
                        "method": "update"
                      },
                      {
                        "args": [
                          {
                            "visible": [
                              false,
                              false,
                              true,
                              false,
                              false,
                              false,
                              false,
                              false,
                              false,
                              false,
                              false,
                              false,
                              false,
                              false,
                              false
                            ]
                          }
                        ],
                        "label": "Australia",
                        "method": "update"
                      },
                      {
                        "args": [
                          {
                            "visible": [
                              false,
                              false,
                              false,
                              true,
                              false,
                              false,
                              false,
                              false,
                              false,
                              false,
                              false,
                              false,
                              false,
                              false,
                              false
                            ]
                          }
                        ],
                        "label": "Brazil",
                        "method": "update"
                      },
                      {
                        "args": [
                          {
                            "visible": [
                              false,
                              false,
                              false,
                              false,
                              true,
                              false,
                              false,
                              false,
                              false,
                              false,
                              false,
                              false,
                              false,
                              false,
                              false
                            ]
                          }
                        ],
                        "label": "Canada",
                        "method": "update"
                      },
                      {
                        "args": [
                          {
                            "visible": [
                              false,
                              false,
                              false,
                              false,
                              false,
                              true,
                              false,
                              false,
                              false,
                              false,
                              false,
                              false,
                              false,
                              false,
                              false
                            ]
                          }
                        ],
                        "label": "China",
                        "method": "update"
                      },
                      {
                        "args": [
                          {
                            "visible": [
                              false,
                              false,
                              false,
                              false,
                              false,
                              false,
                              true,
                              false,
                              false,
                              false,
                              false,
                              false,
                              false,
                              false,
                              false
                            ]
                          }
                        ],
                        "label": "France",
                        "method": "update"
                      },
                      {
                        "args": [
                          {
                            "visible": [
                              false,
                              false,
                              false,
                              false,
                              false,
                              false,
                              false,
                              true,
                              false,
                              false,
                              false,
                              false,
                              false,
                              false,
                              false
                            ]
                          }
                        ],
                        "label": "Germany",
                        "method": "update"
                      },
                      {
                        "args": [
                          {
                            "visible": [
                              false,
                              false,
                              false,
                              false,
                              false,
                              false,
                              false,
                              false,
                              true,
                              false,
                              false,
                              false,
                              false,
                              false,
                              false
                            ]
                          }
                        ],
                        "label": "India",
                        "method": "update"
                      },
                      {
                        "args": [
                          {
                            "visible": [
                              false,
                              false,
                              false,
                              false,
                              false,
                              false,
                              false,
                              false,
                              false,
                              true,
                              false,
                              false,
                              false,
                              false,
                              false
                            ]
                          }
                        ],
                        "label": "Indonesia",
                        "method": "update"
                      },
                      {
                        "args": [
                          {
                            "visible": [
                              false,
                              false,
                              false,
                              false,
                              false,
                              false,
                              false,
                              false,
                              false,
                              false,
                              true,
                              false,
                              false,
                              false,
                              false
                            ]
                          }
                        ],
                        "label": "Japan",
                        "method": "update"
                      },
                      {
                        "args": [
                          {
                            "visible": [
                              false,
                              false,
                              false,
                              false,
                              false,
                              false,
                              false,
                              false,
                              false,
                              false,
                              false,
                              true,
                              false,
                              false,
                              false
                            ]
                          }
                        ],
                        "label": "Mexico",
                        "method": "update"
                      },
                      {
                        "args": [
                          {
                            "visible": [
                              false,
                              false,
                              false,
                              false,
                              false,
                              false,
                              false,
                              false,
                              false,
                              false,
                              false,
                              false,
                              true,
                              false,
                              false
                            ]
                          }
                        ],
                        "label": "Russia",
                        "method": "update"
                      },
                      {
                        "args": [
                          {
                            "visible": [
                              false,
                              false,
                              false,
                              false,
                              false,
                              false,
                              false,
                              false,
                              false,
                              false,
                              false,
                              false,
                              false,
                              true,
                              false
                            ]
                          }
                        ],
                        "label": "UK",
                        "method": "update"
                      },
                      {
                        "args": [
                          {
                            "visible": [
                              false,
                              false,
                              false,
                              false,
                              false,
                              false,
                              false,
                              false,
                              false,
                              false,
                              false,
                              false,
                              false,
                              false,
                              true
                            ]
                          }
                        ],
                        "label": "USA",
                        "method": "update"
                      }
                    ],
                    "direction": "down",
                    "showactive": true,
                    "x": 0.1,
                    "xanchor": "left",
                    "y": 1.15,
                    "yanchor": "top"
                  }
                ],
                "xaxis": {
                  "showgrid": true,
                  "title": {
                    "text": "Year"
                  }
                },
                "yaxis": {
                  "showgrid": true,
                  "title": {
                    "text": "Average Temperature (°C)"
                  }
                }
              }
            }
          },
          "metadata": {},
          "output_type": "display_data"
        }
      ],
      "source": [
        "import pandas as pd\n",
        "import plotly.graph_objects as go\n",
        "\n",
        "# Assuming df is your original DataFrame containing the data\n",
        "# Group by 'Country' and 'Year' and calculate the average temperature for each combination\n",
        "df_avg_temp = df.groupby(['Country', 'Year'], as_index=False)['Avg_Temperature_degC'].mean()\n",
        "\n",
        "# Create the base figure\n",
        "fig = go.Figure()\n",
        "\n",
        "# Add a line trace for each country\n",
        "countries = df_avg_temp['Country'].unique()\n",
        "for country in countries:\n",
        "    country_data = df_avg_temp[df_avg_temp['Country'] == country]\n",
        "    fig.add_trace(go.Scatter(x=country_data['Year'], y=country_data['Avg_Temperature_degC'],\n",
        "                             mode='lines+markers', name=country))\n",
        "\n",
        "# Update layout for better interactivity\n",
        "fig.update_layout(\n",
        "    title=\"Temperature Trends Over Time by Country\",\n",
        "    xaxis=dict(title=\"Year\", showgrid=True),\n",
        "    yaxis=dict(title=\"Average Temperature (°C)\", showgrid=True),\n",
        "    hovermode=\"x unified\",  # Show all values for a given year on hover\n",
        "    legend_title=\"Country\",\n",
        "    template=\"plotly_white\",  # Clean background for better visibility\n",
        ")\n",
        "\n",
        "# Add a dropdown menu to filter by country\n",
        "fig.update_layout(\n",
        "    updatemenus=[\n",
        "        dict(\n",
        "            buttons=[\n",
        "                dict(\n",
        "                    args=[{\"visible\": [True] * len(countries)}],\n",
        "                    label=\"Show All\",\n",
        "                    method=\"update\"\n",
        "                ),\n",
        "                *[\n",
        "                    dict(\n",
        "                        args=[{\"visible\": [country == selected_country for country in countries]}],\n",
        "                        label=selected_country,\n",
        "                        method=\"update\"\n",
        "                    )\n",
        "                    for selected_country in countries\n",
        "                ]\n",
        "            ],\n",
        "            direction=\"down\",\n",
        "            showactive=True,\n",
        "            active=0,\n",
        "            x=0.1,\n",
        "            xanchor=\"left\",\n",
        "            y=1.15,\n",
        "            yanchor=\"top\"\n",
        "        )\n",
        "    ]\n",
        ")\n",
        "\n",
        "# Show the interactive plot\n",
        "fig.show()\n"
      ]
    },
    {
      "cell_type": "markdown",
      "metadata": {},
      "source": [
        "Visualization: Line chart showing average temperature trends over time"
      ]
    },
    {
      "cell_type": "code",
      "execution_count": 9,
      "metadata": {},
      "outputs": [
        {
          "data": {
            "application/vnd.plotly.v1+json": {
              "config": {
                "plotlyServerURL": "https://plot.ly"
              },
              "data": [
                {
                  "hovertemplate": "Year=%{x}<br>Average Temperature (°C)=%{y}<extra></extra>",
                  "legendgroup": "",
                  "line": {
                    "color": "#00224e",
                    "dash": "solid"
                  },
                  "marker": {
                    "symbol": "circle"
                  },
                  "mode": "lines",
                  "name": "",
                  "orientation": "v",
                  "showlegend": false,
                  "type": "scatter",
                  "x": [
                    2000,
                    2001,
                    2002,
                    2003,
                    2004,
                    2005,
                    2006,
                    2007,
                    2008,
                    2009,
                    2010,
                    2011,
                    2012,
                    2013,
                    2014,
                    2015,
                    2016,
                    2017,
                    2018,
                    2019,
                    2020,
                    2021,
                    2022,
                    2023
                  ],
                  "xaxis": "x",
                  "y": [
                    20.50188679245283,
                    20.117073170731707,
                    21.43333333333333,
                    18.21951219512195,
                    18.804000000000002,
                    19.532432432432433,
                    19.805128205128206,
                    20.5625,
                    19.144444444444446,
                    19.73030303030303,
                    17.96333333333333,
                    18.856818181818184,
                    17.56904761904762,
                    18.82903225806452,
                    20.834090909090907,
                    19.91627906976744,
                    21.16078431372549,
                    19.478125,
                    23.25,
                    20.4025,
                    19.044186046511626,
                    20.07608695652174,
                    18.959999999999997,
                    21.107142857142858
                  ],
                  "yaxis": "y"
                }
              ],
              "layout": {
                "dragmode": "zoom",
                "hoverlabel": {
                  "namelength": -1
                },
                "hovermode": "x unified",
                "legend": {
                  "tracegroupgap": 0
                },
                "template": {
                  "data": {
                    "bar": [
                      {
                        "error_x": {
                          "color": "#2a3f5f"
                        },
                        "error_y": {
                          "color": "#2a3f5f"
                        },
                        "marker": {
                          "line": {
                            "color": "white",
                            "width": 0.5
                          },
                          "pattern": {
                            "fillmode": "overlay",
                            "size": 10,
                            "solidity": 0.2
                          }
                        },
                        "type": "bar"
                      }
                    ],
                    "barpolar": [
                      {
                        "marker": {
                          "line": {
                            "color": "white",
                            "width": 0.5
                          },
                          "pattern": {
                            "fillmode": "overlay",
                            "size": 10,
                            "solidity": 0.2
                          }
                        },
                        "type": "barpolar"
                      }
                    ],
                    "carpet": [
                      {
                        "aaxis": {
                          "endlinecolor": "#2a3f5f",
                          "gridcolor": "#C8D4E3",
                          "linecolor": "#C8D4E3",
                          "minorgridcolor": "#C8D4E3",
                          "startlinecolor": "#2a3f5f"
                        },
                        "baxis": {
                          "endlinecolor": "#2a3f5f",
                          "gridcolor": "#C8D4E3",
                          "linecolor": "#C8D4E3",
                          "minorgridcolor": "#C8D4E3",
                          "startlinecolor": "#2a3f5f"
                        },
                        "type": "carpet"
                      }
                    ],
                    "choropleth": [
                      {
                        "colorbar": {
                          "outlinewidth": 0,
                          "ticks": ""
                        },
                        "type": "choropleth"
                      }
                    ],
                    "contour": [
                      {
                        "colorbar": {
                          "outlinewidth": 0,
                          "ticks": ""
                        },
                        "colorscale": [
                          [
                            0,
                            "#0d0887"
                          ],
                          [
                            0.1111111111111111,
                            "#46039f"
                          ],
                          [
                            0.2222222222222222,
                            "#7201a8"
                          ],
                          [
                            0.3333333333333333,
                            "#9c179e"
                          ],
                          [
                            0.4444444444444444,
                            "#bd3786"
                          ],
                          [
                            0.5555555555555556,
                            "#d8576b"
                          ],
                          [
                            0.6666666666666666,
                            "#ed7953"
                          ],
                          [
                            0.7777777777777778,
                            "#fb9f3a"
                          ],
                          [
                            0.8888888888888888,
                            "#fdca26"
                          ],
                          [
                            1,
                            "#f0f921"
                          ]
                        ],
                        "type": "contour"
                      }
                    ],
                    "contourcarpet": [
                      {
                        "colorbar": {
                          "outlinewidth": 0,
                          "ticks": ""
                        },
                        "type": "contourcarpet"
                      }
                    ],
                    "heatmap": [
                      {
                        "colorbar": {
                          "outlinewidth": 0,
                          "ticks": ""
                        },
                        "colorscale": [
                          [
                            0,
                            "#0d0887"
                          ],
                          [
                            0.1111111111111111,
                            "#46039f"
                          ],
                          [
                            0.2222222222222222,
                            "#7201a8"
                          ],
                          [
                            0.3333333333333333,
                            "#9c179e"
                          ],
                          [
                            0.4444444444444444,
                            "#bd3786"
                          ],
                          [
                            0.5555555555555556,
                            "#d8576b"
                          ],
                          [
                            0.6666666666666666,
                            "#ed7953"
                          ],
                          [
                            0.7777777777777778,
                            "#fb9f3a"
                          ],
                          [
                            0.8888888888888888,
                            "#fdca26"
                          ],
                          [
                            1,
                            "#f0f921"
                          ]
                        ],
                        "type": "heatmap"
                      }
                    ],
                    "heatmapgl": [
                      {
                        "colorbar": {
                          "outlinewidth": 0,
                          "ticks": ""
                        },
                        "colorscale": [
                          [
                            0,
                            "#0d0887"
                          ],
                          [
                            0.1111111111111111,
                            "#46039f"
                          ],
                          [
                            0.2222222222222222,
                            "#7201a8"
                          ],
                          [
                            0.3333333333333333,
                            "#9c179e"
                          ],
                          [
                            0.4444444444444444,
                            "#bd3786"
                          ],
                          [
                            0.5555555555555556,
                            "#d8576b"
                          ],
                          [
                            0.6666666666666666,
                            "#ed7953"
                          ],
                          [
                            0.7777777777777778,
                            "#fb9f3a"
                          ],
                          [
                            0.8888888888888888,
                            "#fdca26"
                          ],
                          [
                            1,
                            "#f0f921"
                          ]
                        ],
                        "type": "heatmapgl"
                      }
                    ],
                    "histogram": [
                      {
                        "marker": {
                          "pattern": {
                            "fillmode": "overlay",
                            "size": 10,
                            "solidity": 0.2
                          }
                        },
                        "type": "histogram"
                      }
                    ],
                    "histogram2d": [
                      {
                        "colorbar": {
                          "outlinewidth": 0,
                          "ticks": ""
                        },
                        "colorscale": [
                          [
                            0,
                            "#0d0887"
                          ],
                          [
                            0.1111111111111111,
                            "#46039f"
                          ],
                          [
                            0.2222222222222222,
                            "#7201a8"
                          ],
                          [
                            0.3333333333333333,
                            "#9c179e"
                          ],
                          [
                            0.4444444444444444,
                            "#bd3786"
                          ],
                          [
                            0.5555555555555556,
                            "#d8576b"
                          ],
                          [
                            0.6666666666666666,
                            "#ed7953"
                          ],
                          [
                            0.7777777777777778,
                            "#fb9f3a"
                          ],
                          [
                            0.8888888888888888,
                            "#fdca26"
                          ],
                          [
                            1,
                            "#f0f921"
                          ]
                        ],
                        "type": "histogram2d"
                      }
                    ],
                    "histogram2dcontour": [
                      {
                        "colorbar": {
                          "outlinewidth": 0,
                          "ticks": ""
                        },
                        "colorscale": [
                          [
                            0,
                            "#0d0887"
                          ],
                          [
                            0.1111111111111111,
                            "#46039f"
                          ],
                          [
                            0.2222222222222222,
                            "#7201a8"
                          ],
                          [
                            0.3333333333333333,
                            "#9c179e"
                          ],
                          [
                            0.4444444444444444,
                            "#bd3786"
                          ],
                          [
                            0.5555555555555556,
                            "#d8576b"
                          ],
                          [
                            0.6666666666666666,
                            "#ed7953"
                          ],
                          [
                            0.7777777777777778,
                            "#fb9f3a"
                          ],
                          [
                            0.8888888888888888,
                            "#fdca26"
                          ],
                          [
                            1,
                            "#f0f921"
                          ]
                        ],
                        "type": "histogram2dcontour"
                      }
                    ],
                    "mesh3d": [
                      {
                        "colorbar": {
                          "outlinewidth": 0,
                          "ticks": ""
                        },
                        "type": "mesh3d"
                      }
                    ],
                    "parcoords": [
                      {
                        "line": {
                          "colorbar": {
                            "outlinewidth": 0,
                            "ticks": ""
                          }
                        },
                        "type": "parcoords"
                      }
                    ],
                    "pie": [
                      {
                        "automargin": true,
                        "type": "pie"
                      }
                    ],
                    "scatter": [
                      {
                        "fillpattern": {
                          "fillmode": "overlay",
                          "size": 10,
                          "solidity": 0.2
                        },
                        "type": "scatter"
                      }
                    ],
                    "scatter3d": [
                      {
                        "line": {
                          "colorbar": {
                            "outlinewidth": 0,
                            "ticks": ""
                          }
                        },
                        "marker": {
                          "colorbar": {
                            "outlinewidth": 0,
                            "ticks": ""
                          }
                        },
                        "type": "scatter3d"
                      }
                    ],
                    "scattercarpet": [
                      {
                        "marker": {
                          "colorbar": {
                            "outlinewidth": 0,
                            "ticks": ""
                          }
                        },
                        "type": "scattercarpet"
                      }
                    ],
                    "scattergeo": [
                      {
                        "marker": {
                          "colorbar": {
                            "outlinewidth": 0,
                            "ticks": ""
                          }
                        },
                        "type": "scattergeo"
                      }
                    ],
                    "scattergl": [
                      {
                        "marker": {
                          "colorbar": {
                            "outlinewidth": 0,
                            "ticks": ""
                          }
                        },
                        "type": "scattergl"
                      }
                    ],
                    "scattermapbox": [
                      {
                        "marker": {
                          "colorbar": {
                            "outlinewidth": 0,
                            "ticks": ""
                          }
                        },
                        "type": "scattermapbox"
                      }
                    ],
                    "scatterpolar": [
                      {
                        "marker": {
                          "colorbar": {
                            "outlinewidth": 0,
                            "ticks": ""
                          }
                        },
                        "type": "scatterpolar"
                      }
                    ],
                    "scatterpolargl": [
                      {
                        "marker": {
                          "colorbar": {
                            "outlinewidth": 0,
                            "ticks": ""
                          }
                        },
                        "type": "scatterpolargl"
                      }
                    ],
                    "scatterternary": [
                      {
                        "marker": {
                          "colorbar": {
                            "outlinewidth": 0,
                            "ticks": ""
                          }
                        },
                        "type": "scatterternary"
                      }
                    ],
                    "surface": [
                      {
                        "colorbar": {
                          "outlinewidth": 0,
                          "ticks": ""
                        },
                        "colorscale": [
                          [
                            0,
                            "#0d0887"
                          ],
                          [
                            0.1111111111111111,
                            "#46039f"
                          ],
                          [
                            0.2222222222222222,
                            "#7201a8"
                          ],
                          [
                            0.3333333333333333,
                            "#9c179e"
                          ],
                          [
                            0.4444444444444444,
                            "#bd3786"
                          ],
                          [
                            0.5555555555555556,
                            "#d8576b"
                          ],
                          [
                            0.6666666666666666,
                            "#ed7953"
                          ],
                          [
                            0.7777777777777778,
                            "#fb9f3a"
                          ],
                          [
                            0.8888888888888888,
                            "#fdca26"
                          ],
                          [
                            1,
                            "#f0f921"
                          ]
                        ],
                        "type": "surface"
                      }
                    ],
                    "table": [
                      {
                        "cells": {
                          "fill": {
                            "color": "#EBF0F8"
                          },
                          "line": {
                            "color": "white"
                          }
                        },
                        "header": {
                          "fill": {
                            "color": "#C8D4E3"
                          },
                          "line": {
                            "color": "white"
                          }
                        },
                        "type": "table"
                      }
                    ]
                  },
                  "layout": {
                    "annotationdefaults": {
                      "arrowcolor": "#2a3f5f",
                      "arrowhead": 0,
                      "arrowwidth": 1
                    },
                    "autotypenumbers": "strict",
                    "coloraxis": {
                      "colorbar": {
                        "outlinewidth": 0,
                        "ticks": ""
                      }
                    },
                    "colorscale": {
                      "diverging": [
                        [
                          0,
                          "#8e0152"
                        ],
                        [
                          0.1,
                          "#c51b7d"
                        ],
                        [
                          0.2,
                          "#de77ae"
                        ],
                        [
                          0.3,
                          "#f1b6da"
                        ],
                        [
                          0.4,
                          "#fde0ef"
                        ],
                        [
                          0.5,
                          "#f7f7f7"
                        ],
                        [
                          0.6,
                          "#e6f5d0"
                        ],
                        [
                          0.7,
                          "#b8e186"
                        ],
                        [
                          0.8,
                          "#7fbc41"
                        ],
                        [
                          0.9,
                          "#4d9221"
                        ],
                        [
                          1,
                          "#276419"
                        ]
                      ],
                      "sequential": [
                        [
                          0,
                          "#0d0887"
                        ],
                        [
                          0.1111111111111111,
                          "#46039f"
                        ],
                        [
                          0.2222222222222222,
                          "#7201a8"
                        ],
                        [
                          0.3333333333333333,
                          "#9c179e"
                        ],
                        [
                          0.4444444444444444,
                          "#bd3786"
                        ],
                        [
                          0.5555555555555556,
                          "#d8576b"
                        ],
                        [
                          0.6666666666666666,
                          "#ed7953"
                        ],
                        [
                          0.7777777777777778,
                          "#fb9f3a"
                        ],
                        [
                          0.8888888888888888,
                          "#fdca26"
                        ],
                        [
                          1,
                          "#f0f921"
                        ]
                      ],
                      "sequentialminus": [
                        [
                          0,
                          "#0d0887"
                        ],
                        [
                          0.1111111111111111,
                          "#46039f"
                        ],
                        [
                          0.2222222222222222,
                          "#7201a8"
                        ],
                        [
                          0.3333333333333333,
                          "#9c179e"
                        ],
                        [
                          0.4444444444444444,
                          "#bd3786"
                        ],
                        [
                          0.5555555555555556,
                          "#d8576b"
                        ],
                        [
                          0.6666666666666666,
                          "#ed7953"
                        ],
                        [
                          0.7777777777777778,
                          "#fb9f3a"
                        ],
                        [
                          0.8888888888888888,
                          "#fdca26"
                        ],
                        [
                          1,
                          "#f0f921"
                        ]
                      ]
                    },
                    "colorway": [
                      "#636efa",
                      "#EF553B",
                      "#00cc96",
                      "#ab63fa",
                      "#FFA15A",
                      "#19d3f3",
                      "#FF6692",
                      "#B6E880",
                      "#FF97FF",
                      "#FECB52"
                    ],
                    "font": {
                      "color": "#2a3f5f"
                    },
                    "geo": {
                      "bgcolor": "white",
                      "lakecolor": "white",
                      "landcolor": "white",
                      "showlakes": true,
                      "showland": true,
                      "subunitcolor": "#C8D4E3"
                    },
                    "hoverlabel": {
                      "align": "left"
                    },
                    "hovermode": "closest",
                    "mapbox": {
                      "style": "light"
                    },
                    "paper_bgcolor": "white",
                    "plot_bgcolor": "white",
                    "polar": {
                      "angularaxis": {
                        "gridcolor": "#EBF0F8",
                        "linecolor": "#EBF0F8",
                        "ticks": ""
                      },
                      "bgcolor": "white",
                      "radialaxis": {
                        "gridcolor": "#EBF0F8",
                        "linecolor": "#EBF0F8",
                        "ticks": ""
                      }
                    },
                    "scene": {
                      "xaxis": {
                        "backgroundcolor": "white",
                        "gridcolor": "#DFE8F3",
                        "gridwidth": 2,
                        "linecolor": "#EBF0F8",
                        "showbackground": true,
                        "ticks": "",
                        "zerolinecolor": "#EBF0F8"
                      },
                      "yaxis": {
                        "backgroundcolor": "white",
                        "gridcolor": "#DFE8F3",
                        "gridwidth": 2,
                        "linecolor": "#EBF0F8",
                        "showbackground": true,
                        "ticks": "",
                        "zerolinecolor": "#EBF0F8"
                      },
                      "zaxis": {
                        "backgroundcolor": "white",
                        "gridcolor": "#DFE8F3",
                        "gridwidth": 2,
                        "linecolor": "#EBF0F8",
                        "showbackground": true,
                        "ticks": "",
                        "zerolinecolor": "#EBF0F8"
                      }
                    },
                    "shapedefaults": {
                      "line": {
                        "color": "#2a3f5f"
                      }
                    },
                    "ternary": {
                      "aaxis": {
                        "gridcolor": "#DFE8F3",
                        "linecolor": "#A2B1C6",
                        "ticks": ""
                      },
                      "baxis": {
                        "gridcolor": "#DFE8F3",
                        "linecolor": "#A2B1C6",
                        "ticks": ""
                      },
                      "bgcolor": "white",
                      "caxis": {
                        "gridcolor": "#DFE8F3",
                        "linecolor": "#A2B1C6",
                        "ticks": ""
                      }
                    },
                    "title": {
                      "x": 0.05
                    },
                    "xaxis": {
                      "automargin": true,
                      "gridcolor": "#EBF0F8",
                      "linecolor": "#EBF0F8",
                      "ticks": "",
                      "title": {
                        "standoff": 15
                      },
                      "zerolinecolor": "#EBF0F8",
                      "zerolinewidth": 2
                    },
                    "yaxis": {
                      "automargin": true,
                      "gridcolor": "#EBF0F8",
                      "linecolor": "#EBF0F8",
                      "ticks": "",
                      "title": {
                        "standoff": 15
                      },
                      "zerolinecolor": "#EBF0F8",
                      "zerolinewidth": 2
                    }
                  }
                },
                "title": {
                  "text": "Average Temperature Trends Over Time"
                },
                "xaxis": {
                  "anchor": "y",
                  "domain": [
                    0,
                    1
                  ],
                  "showgrid": true,
                  "title": {
                    "text": "Year"
                  }
                },
                "yaxis": {
                  "anchor": "x",
                  "domain": [
                    0,
                    1
                  ],
                  "showgrid": true,
                  "title": {
                    "text": "Average Temperature (°C)"
                  }
                }
              }
            }
          },
          "metadata": {},
          "output_type": "display_data"
        }
      ],
      "source": [
        "# Calculate the average temperature per year\n",
        "df_avg = df.groupby(\"Year\").agg({\"Avg_Temperature_degC\": \"mean\"}).reset_index()\n",
        "\n",
        "# Create the line chart for average temperature trends over time\n",
        "fig = px.line(df_avg, x=\"Year\", y=\"Avg_Temperature_degC\",\n",
        "              title=\"Average Temperature Trends Over Time\",\n",
        "              labels={\"Avg_Temperature_degC\": \"Average Temperature (°C)\"},\n",
        "              color_discrete_sequence=px.colors.sequential.Cividis)  # Cividis is color-blind friendly\n",
        "\n",
        "# Improve interactivity\n",
        "fig.update_layout(\n",
        "    hovermode=\"x unified\",  # Show all values for a given year on hover\n",
        "    template=\"plotly_white\",  # Clean background for better visibility\n",
        "    xaxis=dict(title=\"Year\", showgrid=True),\n",
        "    yaxis=dict(title=\"Average Temperature (°C)\", showgrid=True),\n",
        "    dragmode=\"zoom\",  # Enable zooming and panning\n",
        "    hoverlabel=dict(namelength=-1),  # Show full country names on hover\n",
        ")\n",
        "\n",
        "# Show the interactive plot\n",
        "fig.show()\n"
      ]
    },
    {
      "cell_type": "markdown",
      "metadata": {},
      "source": [
        "# Hypothesis: \"Countries with a higher percentage of renewable energy have lower CO2 emissions.\" \n",
        "\n",
        "* Visualization: Bar chart comparing countries."
      ]
    },
    {
      "cell_type": "code",
      "execution_count": 10,
      "metadata": {},
      "outputs": [
        {
          "data": {
            "application/vnd.plotly.v1+json": {
              "config": {
                "plotlyServerURL": "https://plot.ly"
              },
              "data": [
                {
                  "alignmentgroup": "True",
                  "hovertemplate": "Country=%{x}<br>CO2 Emissions (tons per capita)=%{y}<br>Renewable Energy (%)=%{marker.color}<extra></extra>",
                  "legendgroup": "",
                  "marker": {
                    "color": [
                      20.4,
                      49.2,
                      33.3,
                      23.7,
                      12.5,
                      49.4,
                      41.9,
                      17.7,
                      8.2,
                      7.5,
                      10.4,
                      31.1,
                      46.8,
                      27.4,
                      42.9,
                      25.1,
                      36.9,
                      37.9,
                      12.8,
                      21.3,
                      33.7,
                      8.2,
                      21.3,
                      29.1,
                      49.8,
                      26.4,
                      41.7,
                      24.4,
                      40.8,
                      31.8,
                      44.9,
                      23.5,
                      32.2,
                      33.4,
                      23.8,
                      11.5,
                      9.2,
                      5.8,
                      44.3,
                      15.6,
                      14.5,
                      38.1,
                      19.4,
                      27.8,
                      12.3,
                      48.2,
                      43.3,
                      43.9,
                      23.3,
                      39.3,
                      11.5,
                      5.4,
                      5.9,
                      31.4,
                      25.5,
                      28.3,
                      5.3,
                      24,
                      37.3,
                      24.9,
                      37.9,
                      15.5,
                      41.6,
                      31.5,
                      14.5,
                      15.7,
                      33.3,
                      42.3,
                      23.7,
                      16.6,
                      44,
                      35.1,
                      25.2,
                      27,
                      14.2,
                      33.2,
                      21.1,
                      49.8,
                      26.6,
                      26.9,
                      30.5,
                      46.3,
                      41,
                      25.3,
                      37.3,
                      31.4,
                      27.2,
                      13.7,
                      25.9,
                      16.1,
                      46.2,
                      20.1,
                      47.9,
                      29,
                      33.4,
                      29.4,
                      10.8,
                      21.9,
                      9.5,
                      33,
                      25.1,
                      40,
                      14.9,
                      12.4,
                      23.3,
                      46.7,
                      37,
                      23.9,
                      28.3,
                      8.8,
                      49.3,
                      35,
                      17.8,
                      31.4,
                      9.9,
                      48.5,
                      12.9,
                      34.2,
                      16,
                      37.3,
                      40,
                      35.3,
                      32.7,
                      45.2,
                      8.5,
                      19.9,
                      16.2,
                      49.5,
                      22.5,
                      38,
                      35.8,
                      14.5,
                      15.8,
                      17.7,
                      23.5,
                      15.5,
                      5.9,
                      44.6,
                      48.5,
                      20.4,
                      20.2,
                      5.3,
                      35.6,
                      42.1,
                      11.6,
                      12.2,
                      40.6,
                      32.7,
                      7,
                      33,
                      18.9,
                      21.6,
                      39.6,
                      41.5,
                      23,
                      47.6,
                      23.3,
                      39.7,
                      26.8,
                      45.4,
                      45.8,
                      8.9,
                      47.1,
                      42.1,
                      40.6,
                      14,
                      41.2,
                      43.3,
                      18,
                      47.9,
                      7.2,
                      11.7,
                      29.2,
                      30.9,
                      34,
                      5.8,
                      48.2,
                      7,
                      11.4,
                      5.6,
                      30.5,
                      47,
                      35,
                      42,
                      5.6,
                      29.4,
                      25.7,
                      27.5,
                      8.2,
                      35.8,
                      27.6,
                      39.4,
                      26.8,
                      11.7,
                      34.2,
                      12.8,
                      44.3,
                      32.6,
                      12.1,
                      48.3,
                      28.3,
                      8.3,
                      33.2,
                      16.4,
                      41.2,
                      41.8,
                      49.1,
                      27.6,
                      25.5,
                      38.9,
                      11,
                      29.6,
                      29.6,
                      9,
                      23.8,
                      43.4,
                      43.5,
                      9.5,
                      9.1,
                      16.8,
                      44.4,
                      10.8,
                      37.4,
                      9.6,
                      33,
                      21,
                      40.5,
                      15.5,
                      33.8,
                      15.6,
                      37.1,
                      44.3,
                      10.7,
                      44,
                      31.7,
                      10.7,
                      24.2,
                      12.2,
                      36.5,
                      39.1,
                      9.8,
                      27.8,
                      41.7,
                      47.1,
                      28.1,
                      47.8,
                      29.1,
                      22.7,
                      43.2,
                      27.2,
                      26.2,
                      27.1,
                      43.1,
                      42.4,
                      23.2,
                      20,
                      27.1,
                      30.8,
                      15.7,
                      40.7,
                      26.9,
                      20,
                      9.8,
                      15.7,
                      47.7,
                      18.7,
                      12.6,
                      25.7,
                      18.8,
                      6.6,
                      19.5,
                      29.5,
                      29.8,
                      21,
                      25.1,
                      48.4,
                      22,
                      16.6,
                      16,
                      25.6,
                      39.2,
                      14.3,
                      36.9,
                      6,
                      23.9,
                      39.9,
                      20.2,
                      30.4,
                      14.2,
                      38.4,
                      7.4,
                      43.4,
                      13.9,
                      44.3,
                      20.9,
                      37.5,
                      19.4,
                      45.8,
                      10.7,
                      13,
                      27.2,
                      8.7,
                      13.8,
                      47.5,
                      48.9,
                      21.9,
                      46.5,
                      29.5,
                      17.1,
                      36.6,
                      34.7,
                      49.5,
                      16.9,
                      35.2,
                      7.3,
                      10.1,
                      5.2,
                      50,
                      41.1,
                      40.4,
                      27.9,
                      18.5,
                      11.8,
                      17.8,
                      21.9,
                      39,
                      29.3,
                      8.5,
                      5.8,
                      9.6,
                      23.5,
                      47,
                      33.7,
                      41.1,
                      26,
                      21.3,
                      9.9,
                      44.4,
                      40.2,
                      12.6,
                      28.1,
                      26.9,
                      33.1,
                      47.6,
                      31.1,
                      29.3,
                      7.3,
                      7.8,
                      13.4,
                      6.5,
                      38.5,
                      37.5,
                      11.1,
                      42.6,
                      12,
                      18.6,
                      16.2,
                      21.8,
                      16.5,
                      27,
                      23.3,
                      49.4,
                      7.5,
                      11.4,
                      7.4,
                      33.2,
                      7.5,
                      42.6,
                      28,
                      28.7,
                      30.3,
                      12.7,
                      13.9,
                      19.3,
                      31.7,
                      14.5,
                      10.2,
                      48.7,
                      6,
                      41.1,
                      40.5,
                      18.4,
                      11.1,
                      11.6,
                      36.4,
                      33.9,
                      40.2,
                      47.2,
                      36.1,
                      12,
                      16,
                      42.9,
                      14.4,
                      8.3,
                      36.6,
                      23.1,
                      46.4,
                      34.3,
                      9.1,
                      47.7,
                      16.6,
                      20.2,
                      23.1,
                      7.3,
                      27.3,
                      10.5,
                      23,
                      20.8,
                      39.8,
                      41.1,
                      11.9,
                      21.5,
                      21.8,
                      11.8,
                      40.9,
                      36.8,
                      13.6,
                      21.5,
                      9.8,
                      33.3,
                      10.5,
                      49.4,
                      40.1,
                      22.6,
                      31,
                      46,
                      29.9,
                      12.9,
                      22,
                      42.9,
                      34,
                      34.3,
                      44,
                      45.2,
                      46.4,
                      9.3,
                      29.5,
                      38.3,
                      39.1,
                      32.3,
                      12.5,
                      40.9,
                      37.4,
                      8.9,
                      25.9,
                      12.8,
                      20.2,
                      5.8,
                      23,
                      29.7,
                      32.9,
                      34.9,
                      42.6,
                      14.7,
                      10.4,
                      43.3,
                      12,
                      48.9,
                      42.9,
                      27.5,
                      49.2,
                      9.4,
                      18.6,
                      33.7,
                      20.8,
                      46.8,
                      8,
                      29.7,
                      31.6,
                      34.4,
                      16.5,
                      21.4,
                      43,
                      13.8,
                      42.2,
                      30.3,
                      39.3,
                      37.1,
                      14.3,
                      30.6,
                      44,
                      24.4,
                      48.5,
                      25.3,
                      11.4,
                      22.5,
                      47.8,
                      19.4,
                      44.1,
                      44.7,
                      20.8,
                      8.7,
                      37.6,
                      19,
                      40.2,
                      24.9,
                      26.8,
                      40,
                      22.2,
                      24.9,
                      21.9,
                      21.5,
                      28.7,
                      41.4,
                      21.3,
                      28.6,
                      35.2,
                      17.1,
                      17.5,
                      47,
                      37.6,
                      31,
                      34.1,
                      6.3,
                      32.8,
                      27.9,
                      29.6,
                      21.2,
                      8.7,
                      13.7,
                      47.8,
                      23.4,
                      26,
                      7.4,
                      6.7,
                      37.3,
                      29.2,
                      27.9,
                      15.9,
                      38.5,
                      12.6,
                      13.5,
                      25.7,
                      17.9,
                      16.1,
                      34,
                      34.3,
                      42.1,
                      23.8,
                      8.3,
                      17.3,
                      49.1,
                      31.8,
                      36.9,
                      5.3,
                      28.3,
                      6.7,
                      30.6,
                      46.4,
                      48.6,
                      29.3,
                      25.6,
                      47.5,
                      35.3,
                      7.9,
                      26,
                      15.8,
                      26.1,
                      25.5,
                      31.2,
                      21.1,
                      12.4,
                      27.7,
                      42.4,
                      34.9,
                      20.2,
                      47.1,
                      46,
                      14.4,
                      6.8,
                      38.4,
                      42.2,
                      48.6,
                      45,
                      32,
                      28.9,
                      6.3,
                      16.1,
                      25.7,
                      33.3,
                      30.1,
                      38.4,
                      17.6,
                      30.4,
                      9,
                      23.6,
                      38.8,
                      36.2,
                      49.6,
                      17.5,
                      27.4,
                      19.8,
                      24.8,
                      43.6,
                      35.8,
                      44.7,
                      14.2,
                      44.3,
                      7.7,
                      45,
                      19.8,
                      19.2,
                      28,
                      47.3,
                      7.2,
                      20.9,
                      43.5,
                      22.8,
                      14,
                      24.1,
                      22.3,
                      46.2,
                      39.3,
                      27.7,
                      49.5,
                      25.9,
                      7.6,
                      16.8,
                      24.6,
                      12.1,
                      47.6,
                      39.5,
                      17.1,
                      31.6,
                      37.5,
                      47.4,
                      44.7,
                      28.2,
                      39.9,
                      30.3,
                      29.9,
                      10.2,
                      10.7,
                      28.8,
                      17.1,
                      5.9,
                      37.5,
                      6.5,
                      31.8,
                      29.3,
                      48.6,
                      26.8,
                      7.9,
                      29.8,
                      42.8,
                      49.9,
                      24.4,
                      19.4,
                      45.8,
                      13.6,
                      32.7,
                      23.3,
                      6.8,
                      20.6,
                      16.9,
                      35.9,
                      47.7,
                      17.1,
                      41.5,
                      7.5,
                      29.2,
                      8.2,
                      47,
                      39.5,
                      34.6,
                      42.1,
                      34.1,
                      48.6,
                      37.1,
                      46.6,
                      28.3,
                      10.3,
                      28.8,
                      10.7,
                      31.7,
                      26.7,
                      33,
                      5.5,
                      13.8,
                      27.1,
                      47.8,
                      22.3,
                      24.1,
                      37.2,
                      32.2,
                      18.5,
                      23.5,
                      14.8,
                      48.5,
                      10.9,
                      21.7,
                      6.2,
                      15,
                      40.1,
                      14.1,
                      8.6,
                      26.4,
                      5.4,
                      8.8,
                      41.3,
                      39.7,
                      46.2,
                      43.5,
                      35.7,
                      7.4,
                      40.2,
                      43,
                      41,
                      27.9,
                      15.5,
                      43,
                      37.7,
                      49.1,
                      12,
                      15.2,
                      14.5,
                      40.7,
                      13.4,
                      8,
                      49.9,
                      6.1,
                      42.6,
                      21.4,
                      42.9,
                      30,
                      45.6,
                      46.7,
                      5.4,
                      8.4,
                      16.3,
                      35.1,
                      45,
                      25.7,
                      32.3,
                      13.5,
                      41.2,
                      48.5,
                      17.1,
                      27.3,
                      8.9,
                      30.2,
                      27.6,
                      11.5,
                      24.9,
                      20,
                      28.5,
                      31.4,
                      5.4,
                      39.2,
                      37.1,
                      21.5,
                      7.4,
                      39,
                      48,
                      15.8,
                      19.6,
                      13.3,
                      31,
                      12,
                      21,
                      36.4,
                      30.2,
                      22.4,
                      23.9,
                      30.3,
                      5.3,
                      8.5,
                      44.7,
                      8.5,
                      36.8,
                      46.4,
                      17.2,
                      21.7,
                      30.6,
                      44.7,
                      47.4,
                      38.3,
                      8.9,
                      35.1,
                      23.5,
                      26.2,
                      7.2,
                      13.6,
                      40.6,
                      25.4,
                      18.6,
                      22.3,
                      43.4,
                      38.7,
                      17.3,
                      10.3,
                      16.3,
                      46.4,
                      31.2,
                      29,
                      31.8,
                      21.5,
                      41.3,
                      28.5,
                      10.3,
                      10.8,
                      29.2,
                      47.1,
                      18.9,
                      44.1,
                      39.4,
                      16.2,
                      6.6,
                      9.6,
                      37.8,
                      14,
                      21.7,
                      27.6,
                      37.6,
                      10.1,
                      23.3,
                      26.8,
                      29.3,
                      41.8,
                      12.7,
                      41.4,
                      36.2,
                      30,
                      36.5,
                      23.5,
                      11.2,
                      35,
                      28.6,
                      33.8,
                      20.2,
                      45.8,
                      31.4,
                      8.8,
                      25.2,
                      39,
                      40.7,
                      27.3,
                      45.3,
                      17,
                      23.5,
                      45.4,
                      45.3,
                      35.9,
                      43.7,
                      9,
                      43.9,
                      19.4,
                      13,
                      15.8,
                      23.8,
                      16.3,
                      19.4,
                      11.1,
                      18.3,
                      30.8,
                      24.9,
                      20.6,
                      38.6,
                      45.2,
                      39.1,
                      19.9,
                      38.5,
                      11.8,
                      10.9,
                      20.6,
                      41.3,
                      16.1,
                      7.8,
                      10.9,
                      43.6,
                      33.5,
                      16.4,
                      30,
                      28.7,
                      34.5,
                      15.5,
                      43.9,
                      18.9,
                      36.2,
                      5.7,
                      21.8,
                      20.8,
                      29.5,
                      8.3,
                      40.6,
                      14.8,
                      35.5,
                      41.1,
                      30.3,
                      38.3,
                      34.8,
                      21,
                      41.4,
                      18.3,
                      30.7,
                      38.5,
                      22.1,
                      18.6,
                      25.7,
                      41.8,
                      46.8,
                      29.5,
                      34.8,
                      45.6,
                      9.4,
                      15.4,
                      36.9,
                      42.1,
                      43.6,
                      23.7,
                      9,
                      24.7,
                      15.4,
                      18.1,
                      39.8,
                      8.4,
                      42.2,
                      24.2,
                      31.8,
                      9,
                      20.2,
                      9,
                      48.3,
                      41.3,
                      25.7,
                      15.1,
                      47,
                      20.5,
                      12.2,
                      30.3,
                      47.5,
                      5.2,
                      15.7,
                      47.2,
                      12.7,
                      10.1,
                      30.7,
                      43.8,
                      26.5,
                      49.8,
                      35.6,
                      8.3,
                      49.7,
                      23.4,
                      17.9,
                      30.1,
                      18.7,
                      8.9,
                      5.1,
                      25.2,
                      42.7,
                      30.8,
                      50,
                      17.9,
                      17.6,
                      12.2,
                      12.4,
                      17.8,
                      40.7,
                      45.8,
                      48.9,
                      15.5,
                      44.7,
                      19.8,
                      10.1,
                      44.2,
                      33.6,
                      12.4,
                      24.3,
                      17.9,
                      38.2,
                      25.4,
                      49.5,
                      7.5,
                      21,
                      26.7,
                      27.6,
                      19.2,
                      37.8,
                      44.4,
                      47.2,
                      41.2,
                      43.3,
                      29.8,
                      42.2,
                      18.7,
                      22.9,
                      19.3,
                      26,
                      17.9,
                      48.3,
                      19.1,
                      9.4,
                      28.7,
                      7.6,
                      10,
                      14.9,
                      25.9,
                      24.5,
                      41
                    ],
                    "coloraxis": "coloraxis",
                    "pattern": {
                      "shape": ""
                    }
                  },
                  "name": "",
                  "offsetgroup": "",
                  "orientation": "v",
                  "showlegend": false,
                  "textposition": "auto",
                  "type": "bar",
                  "x": [
                    "UK",
                    "USA",
                    "France",
                    "Argentina",
                    "Germany",
                    "China",
                    "Argentina",
                    "'South Africa'",
                    "UK",
                    "Australia",
                    "Indonesia",
                    "'South Africa'",
                    "Brazil",
                    "USA",
                    "Germany",
                    "India",
                    "Russia",
                    "France",
                    "China",
                    "Canada",
                    "France",
                    "Mexico",
                    "India",
                    "Indonesia",
                    "Russia",
                    "India",
                    "Australia",
                    "USA",
                    "UK",
                    "China",
                    "Japan",
                    "USA",
                    "Japan",
                    "'South Africa'",
                    "UK",
                    "Russia",
                    "Germany",
                    "Canada",
                    "Brazil",
                    "Argentina",
                    "UK",
                    "USA",
                    "China",
                    "Argentina",
                    "Mexico",
                    "Mexico",
                    "India",
                    "Argentina",
                    "China",
                    "Russia",
                    "'South Africa'",
                    "Japan",
                    "India",
                    "Mexico",
                    "Brazil",
                    "Brazil",
                    "USA",
                    "Russia",
                    "Germany",
                    "Mexico",
                    "Indonesia",
                    "Russia",
                    "'South Africa'",
                    "Japan",
                    "China",
                    "Argentina",
                    "Mexico",
                    "Argentina",
                    "Brazil",
                    "China",
                    "China",
                    "China",
                    "Brazil",
                    "'South Africa'",
                    "Argentina",
                    "France",
                    "Argentina",
                    "Australia",
                    "Japan",
                    "Indonesia",
                    "France",
                    "Japan",
                    "India",
                    "Russia",
                    "Russia",
                    "Canada",
                    "Russia",
                    "Argentina",
                    "Brazil",
                    "Indonesia",
                    "Germany",
                    "USA",
                    "Canada",
                    "UK",
                    "UK",
                    "USA",
                    "Japan",
                    "USA",
                    "USA",
                    "UK",
                    "Canada",
                    "India",
                    "Argentina",
                    "China",
                    "Russia",
                    "Russia",
                    "Brazil",
                    "Canada",
                    "Brazil",
                    "Germany",
                    "Germany",
                    "Brazil",
                    "Canada",
                    "Brazil",
                    "Russia",
                    "France",
                    "Australia",
                    "UK",
                    "UK",
                    "Indonesia",
                    "USA",
                    "Australia",
                    "Argentina",
                    "Canada",
                    "'South Africa'",
                    "Australia",
                    "Indonesia",
                    "Germany",
                    "Japan",
                    "USA",
                    "Indonesia",
                    "China",
                    "'South Africa'",
                    "Canada",
                    "USA",
                    "Argentina",
                    "Australia",
                    "Germany",
                    "India",
                    "France",
                    "China",
                    "'South Africa'",
                    "France",
                    "USA",
                    "Germany",
                    "Germany",
                    "Indonesia",
                    "UK",
                    "UK",
                    "Australia",
                    "Indonesia",
                    "Russia",
                    "Australia",
                    "Russia",
                    "UK",
                    "Indonesia",
                    "Russia",
                    "China",
                    "Indonesia",
                    "UK",
                    "Australia",
                    "Mexico",
                    "Indonesia",
                    "India",
                    "'South Africa'",
                    "UK",
                    "Brazil",
                    "Brazil",
                    "Australia",
                    "Australia",
                    "France",
                    "'South Africa'",
                    "'South Africa'",
                    "China",
                    "Australia",
                    "'South Africa'",
                    "Argentina",
                    "France",
                    "Russia",
                    "Germany",
                    "Germany",
                    "Russia",
                    "Canada",
                    "UK",
                    "France",
                    "Argentina",
                    "'South Africa'",
                    "Mexico",
                    "France",
                    "Indonesia",
                    "Russia",
                    "Argentina",
                    "India",
                    "Japan",
                    "USA",
                    "UK",
                    "Russia",
                    "Mexico",
                    "'South Africa'",
                    "Mexico",
                    "Mexico",
                    "Australia",
                    "Australia",
                    "China",
                    "Russia",
                    "China",
                    "Russia",
                    "UK",
                    "France",
                    "USA",
                    "Mexico",
                    "UK",
                    "France",
                    "Japan",
                    "Germany",
                    "Brazil",
                    "Indonesia",
                    "Argentina",
                    "Russia",
                    "Japan",
                    "Germany",
                    "'South Africa'",
                    "Canada",
                    "USA",
                    "Argentina",
                    "China",
                    "China",
                    "France",
                    "Argentina",
                    "Australia",
                    "Germany",
                    "Canada",
                    "Japan",
                    "USA",
                    "UK",
                    "Germany",
                    "Canada",
                    "Brazil",
                    "Russia",
                    "UK",
                    "China",
                    "UK",
                    "Japan",
                    "China",
                    "Japan",
                    "France",
                    "Australia",
                    "Japan",
                    "China",
                    "France",
                    "Japan",
                    "Brazil",
                    "UK",
                    "Australia",
                    "Japan",
                    "France",
                    "'South Africa'",
                    "Germany",
                    "India",
                    "Canada",
                    "India",
                    "'South Africa'",
                    "India",
                    "'South Africa'",
                    "USA",
                    "'South Africa'",
                    "'South Africa'",
                    "Mexico",
                    "'South Africa'",
                    "Brazil",
                    "Germany",
                    "Russia",
                    "Japan",
                    "Canada",
                    "Australia",
                    "Germany",
                    "China",
                    "Russia",
                    "USA",
                    "USA",
                    "Indonesia",
                    "UK",
                    "'South Africa'",
                    "Germany",
                    "France",
                    "Mexico",
                    "India",
                    "China",
                    "USA",
                    "Canada",
                    "USA",
                    "Australia",
                    "Japan",
                    "USA",
                    "Australia",
                    "Germany",
                    "Germany",
                    "Mexico",
                    "UK",
                    "Indonesia",
                    "Russia",
                    "USA",
                    "Canada",
                    "USA",
                    "Indonesia",
                    "Argentina",
                    "Canada",
                    "Brazil",
                    "'South Africa'",
                    "Russia",
                    "Brazil",
                    "Argentina",
                    "Argentina",
                    "Indonesia",
                    "USA",
                    "Indonesia",
                    "Indonesia",
                    "Argentina",
                    "Russia",
                    "Brazil",
                    "India",
                    "USA",
                    "Argentina",
                    "Brazil",
                    "UK",
                    "India",
                    "India",
                    "Germany",
                    "Mexico",
                    "USA",
                    "India",
                    "Argentina",
                    "Germany",
                    "Brazil",
                    "UK",
                    "Australia",
                    "USA",
                    "Russia",
                    "Indonesia",
                    "Canada",
                    "Canada",
                    "Brazil",
                    "France",
                    "France",
                    "Brazil",
                    "Argentina",
                    "India",
                    "Mexico",
                    "USA",
                    "Canada",
                    "Canada",
                    "Mexico",
                    "India",
                    "Canada",
                    "Indonesia",
                    "Russia",
                    "USA",
                    "Japan",
                    "Canada",
                    "Brazil",
                    "Russia",
                    "Canada",
                    "'South Africa'",
                    "UK",
                    "Indonesia",
                    "Russia",
                    "Germany",
                    "Japan",
                    "UK",
                    "China",
                    "Brazil",
                    "Brazil",
                    "USA",
                    "Mexico",
                    "UK",
                    "Russia",
                    "India",
                    "Brazil",
                    "Russia",
                    "Argentina",
                    "Russia",
                    "Argentina",
                    "'South Africa'",
                    "Australia",
                    "Australia",
                    "China",
                    "Germany",
                    "China",
                    "Argentina",
                    "UK",
                    "Canada",
                    "India",
                    "Canada",
                    "France",
                    "Canada",
                    "USA",
                    "Canada",
                    "China",
                    "Brazil",
                    "Indonesia",
                    "Brazil",
                    "Australia",
                    "Indonesia",
                    "Mexico",
                    "India",
                    "India",
                    "USA",
                    "UK",
                    "China",
                    "Australia",
                    "'South Africa'",
                    "France",
                    "UK",
                    "India",
                    "Brazil",
                    "Canada",
                    "Canada",
                    "Mexico",
                    "Australia",
                    "China",
                    "China",
                    "Germany",
                    "Argentina",
                    "Japan",
                    "India",
                    "China",
                    "Mexico",
                    "Brazil",
                    "Australia",
                    "France",
                    "Germany",
                    "Mexico",
                    "Russia",
                    "USA",
                    "France",
                    "Argentina",
                    "Russia",
                    "'South Africa'",
                    "Argentina",
                    "Canada",
                    "USA",
                    "India",
                    "Brazil",
                    "USA",
                    "Argentina",
                    "Japan",
                    "Russia",
                    "India",
                    "Indonesia",
                    "Japan",
                    "Canada",
                    "Japan",
                    "Germany",
                    "Germany",
                    "'South Africa'",
                    "Argentina",
                    "Australia",
                    "France",
                    "France",
                    "Indonesia",
                    "Indonesia",
                    "India",
                    "Canada",
                    "China",
                    "'South Africa'",
                    "Germany",
                    "India",
                    "China",
                    "France",
                    "Australia",
                    "Japan",
                    "Germany",
                    "India",
                    "USA",
                    "China",
                    "Japan",
                    "Germany",
                    "France",
                    "Mexico",
                    "Canada",
                    "China",
                    "France",
                    "Germany",
                    "China",
                    "'South Africa'",
                    "Japan",
                    "UK",
                    "Germany",
                    "'South Africa'",
                    "Russia",
                    "India",
                    "Mexico",
                    "Indonesia",
                    "Japan",
                    "China",
                    "Canada",
                    "France",
                    "Indonesia",
                    "USA",
                    "France",
                    "China",
                    "Mexico",
                    "Argentina",
                    "France",
                    "Argentina",
                    "India",
                    "Mexico",
                    "Germany",
                    "'South Africa'",
                    "USA",
                    "Brazil",
                    "China",
                    "Australia",
                    "Brazil",
                    "France",
                    "Indonesia",
                    "China",
                    "'South Africa'",
                    "Russia",
                    "'South Africa'",
                    "Australia",
                    "USA",
                    "'South Africa'",
                    "Canada",
                    "Russia",
                    "Brazil",
                    "Germany",
                    "India",
                    "Canada",
                    "UK",
                    "Russia",
                    "Germany",
                    "Germany",
                    "China",
                    "Russia",
                    "USA",
                    "France",
                    "Australia",
                    "UK",
                    "Australia",
                    "Brazil",
                    "Brazil",
                    "Australia",
                    "'South Africa'",
                    "USA",
                    "Argentina",
                    "'South Africa'",
                    "Indonesia",
                    "'South Africa'",
                    "India",
                    "Japan",
                    "France",
                    "India",
                    "China",
                    "Japan",
                    "Japan",
                    "Russia",
                    "USA",
                    "USA",
                    "Japan",
                    "Indonesia",
                    "'South Africa'",
                    "Russia",
                    "France",
                    "Japan",
                    "Canada",
                    "Brazil",
                    "Brazil",
                    "India",
                    "China",
                    "Mexico",
                    "Mexico",
                    "Brazil",
                    "Argentina",
                    "Germany",
                    "India",
                    "Mexico",
                    "Brazil",
                    "China",
                    "Mexico",
                    "'South Africa'",
                    "'South Africa'",
                    "USA",
                    "Indonesia",
                    "USA",
                    "France",
                    "Japan",
                    "Canada",
                    "USA",
                    "UK",
                    "Mexico",
                    "Argentina",
                    "Russia",
                    "Brazil",
                    "Russia",
                    "UK",
                    "China",
                    "USA",
                    "Canada",
                    "China",
                    "Germany",
                    "Germany",
                    "Russia",
                    "Japan",
                    "India",
                    "Japan",
                    "Mexico",
                    "UK",
                    "'South Africa'",
                    "France",
                    "Japan",
                    "Indonesia",
                    "France",
                    "UK",
                    "France",
                    "Canada",
                    "USA",
                    "Canada",
                    "France",
                    "China",
                    "Germany",
                    "France",
                    "Canada",
                    "Argentina",
                    "UK",
                    "China",
                    "Canada",
                    "Japan",
                    "Brazil",
                    "Russia",
                    "India",
                    "'South Africa'",
                    "Canada",
                    "Indonesia",
                    "India",
                    "UK",
                    "Argentina",
                    "Australia",
                    "Canada",
                    "Brazil",
                    "India",
                    "'South Africa'",
                    "France",
                    "Canada",
                    "USA",
                    "Argentina",
                    "UK",
                    "Russia",
                    "Brazil",
                    "Mexico",
                    "Mexico",
                    "Indonesia",
                    "India",
                    "Brazil",
                    "China",
                    "'South Africa'",
                    "Russia",
                    "France",
                    "Canada",
                    "Canada",
                    "Mexico",
                    "Canada",
                    "UK",
                    "Russia",
                    "USA",
                    "Australia",
                    "Indonesia",
                    "Germany",
                    "Japan",
                    "Indonesia",
                    "India",
                    "USA",
                    "Indonesia",
                    "France",
                    "Mexico",
                    "Argentina",
                    "India",
                    "Canada",
                    "Brazil",
                    "France",
                    "India",
                    "Argentina",
                    "'South Africa'",
                    "Canada",
                    "Indonesia",
                    "Indonesia",
                    "India",
                    "Brazil",
                    "'South Africa'",
                    "Canada",
                    "Argentina",
                    "Australia",
                    "Indonesia",
                    "Argentina",
                    "USA",
                    "Indonesia",
                    "Argentina",
                    "China",
                    "Mexico",
                    "Japan",
                    "Russia",
                    "Mexico",
                    "UK",
                    "Japan",
                    "France",
                    "Argentina",
                    "Japan",
                    "UK",
                    "Canada",
                    "Australia",
                    "China",
                    "USA",
                    "Argentina",
                    "USA",
                    "Brazil",
                    "Indonesia",
                    "Argentina",
                    "Russia",
                    "Argentina",
                    "India",
                    "Australia",
                    "India",
                    "Argentina",
                    "China",
                    "Japan",
                    "USA",
                    "China",
                    "Argentina",
                    "UK",
                    "Japan",
                    "UK",
                    "USA",
                    "Japan",
                    "Russia",
                    "Australia",
                    "Mexico",
                    "'South Africa'",
                    "France",
                    "China",
                    "Indonesia",
                    "China",
                    "'South Africa'",
                    "Mexico",
                    "Germany",
                    "Canada",
                    "Russia",
                    "UK",
                    "Argentina",
                    "Russia",
                    "'South Africa'",
                    "Argentina",
                    "Indonesia",
                    "India",
                    "Japan",
                    "Canada",
                    "Australia",
                    "Australia",
                    "'South Africa'",
                    "Russia",
                    "Australia",
                    "Indonesia",
                    "UK",
                    "Germany",
                    "China",
                    "Brazil",
                    "Indonesia",
                    "Argentina",
                    "France",
                    "'South Africa'",
                    "India",
                    "Japan",
                    "France",
                    "Japan",
                    "USA",
                    "France",
                    "Brazil",
                    "Russia",
                    "Germany",
                    "China",
                    "China",
                    "Germany",
                    "UK",
                    "Canada",
                    "USA",
                    "Japan",
                    "Brazil",
                    "Australia",
                    "France",
                    "USA",
                    "Indonesia",
                    "'South Africa'",
                    "France",
                    "Brazil",
                    "India",
                    "India",
                    "Argentina",
                    "USA",
                    "Russia",
                    "Brazil",
                    "Brazil",
                    "Germany",
                    "Indonesia",
                    "Russia",
                    "Indonesia",
                    "UK",
                    "Japan",
                    "Japan",
                    "Australia",
                    "Argentina",
                    "China",
                    "India",
                    "'South Africa'",
                    "Japan",
                    "Russia",
                    "Brazil",
                    "'South Africa'",
                    "Mexico",
                    "Indonesia",
                    "Japan",
                    "Brazil",
                    "Japan",
                    "India",
                    "Mexico",
                    "France",
                    "Japan",
                    "UK",
                    "Russia",
                    "Japan",
                    "China",
                    "'South Africa'",
                    "'South Africa'",
                    "India",
                    "Russia",
                    "Mexico",
                    "UK",
                    "Germany",
                    "Russia",
                    "'South Africa'",
                    "China",
                    "France",
                    "India",
                    "Germany",
                    "China",
                    "Mexico",
                    "Indonesia",
                    "Mexico",
                    "China",
                    "Indonesia",
                    "USA",
                    "India",
                    "Russia",
                    "Indonesia",
                    "Argentina",
                    "Indonesia",
                    "Brazil",
                    "France",
                    "Brazil",
                    "Russia",
                    "Russia",
                    "India",
                    "Russia",
                    "'South Africa'",
                    "Indonesia",
                    "Indonesia",
                    "USA",
                    "Germany",
                    "Russia",
                    "Brazil",
                    "Russia",
                    "Mexico",
                    "USA",
                    "'South Africa'",
                    "'South Africa'",
                    "Japan",
                    "Indonesia",
                    "'South Africa'",
                    "Indonesia",
                    "Japan",
                    "China",
                    "France",
                    "Australia",
                    "UK",
                    "'South Africa'",
                    "Germany",
                    "Mexico",
                    "Canada",
                    "China",
                    "'South Africa'",
                    "Indonesia",
                    "France",
                    "Japan",
                    "Brazil",
                    "UK",
                    "Canada",
                    "France",
                    "France",
                    "'South Africa'",
                    "China",
                    "Argentina",
                    "Canada",
                    "UK",
                    "India",
                    "Australia",
                    "India",
                    "Argentina",
                    "Indonesia",
                    "Indonesia",
                    "Mexico",
                    "Canada",
                    "India",
                    "Indonesia",
                    "Argentina",
                    "'South Africa'",
                    "USA",
                    "Japan",
                    "USA",
                    "Russia",
                    "UK",
                    "India",
                    "Mexico",
                    "Russia",
                    "Indonesia",
                    "Brazil",
                    "Germany",
                    "Brazil",
                    "Argentina",
                    "Canada",
                    "France",
                    "Japan",
                    "India",
                    "UK",
                    "Mexico",
                    "Mexico",
                    "UK",
                    "Argentina",
                    "China",
                    "Indonesia",
                    "Germany",
                    "Australia",
                    "Australia",
                    "Australia",
                    "India",
                    "Australia",
                    "'South Africa'",
                    "USA",
                    "Mexico",
                    "Germany",
                    "USA",
                    "France",
                    "Germany",
                    "USA",
                    "Germany",
                    "France",
                    "Russia",
                    "'South Africa'",
                    "India",
                    "India",
                    "Argentina",
                    "UK",
                    "Indonesia",
                    "Mexico",
                    "Australia",
                    "'South Africa'",
                    "Brazil",
                    "Australia",
                    "Indonesia",
                    "Mexico",
                    "Canada",
                    "Indonesia",
                    "'South Africa'",
                    "USA",
                    "Germany",
                    "UK",
                    "UK",
                    "Brazil",
                    "'South Africa'",
                    "France",
                    "Canada",
                    "France",
                    "India",
                    "Argentina",
                    "India",
                    "Indonesia",
                    "Australia",
                    "USA",
                    "Brazil",
                    "Indonesia",
                    "Japan",
                    "Canada",
                    "UK",
                    "Canada",
                    "Indonesia",
                    "Indonesia",
                    "'South Africa'",
                    "Australia",
                    "India",
                    "UK",
                    "Argentina",
                    "Australia",
                    "Germany"
                  ],
                  "xaxis": "x",
                  "y": [
                    9.3,
                    4.8,
                    2.8,
                    1.8,
                    5.6,
                    1.4,
                    11.6,
                    6,
                    16.6,
                    1.9,
                    4.9,
                    14.7,
                    12.2,
                    1.8,
                    17.6,
                    17.6,
                    6.9,
                    7.1,
                    19.8,
                    12.7,
                    10.9,
                    16.8,
                    6.1,
                    8.9,
                    5.7,
                    15.9,
                    11.7,
                    13.3,
                    5.4,
                    4.8,
                    10,
                    14.9,
                    10.7,
                    1.1,
                    17.4,
                    1.8,
                    19.1,
                    1,
                    14,
                    2.1,
                    18.3,
                    9.6,
                    3.2,
                    7.1,
                    3.7,
                    3.8,
                    19,
                    9.2,
                    15.9,
                    13,
                    13.7,
                    3.1,
                    5.1,
                    15.8,
                    19.4,
                    5.6,
                    5.8,
                    9.7,
                    19.7,
                    5.7,
                    8.4,
                    17.9,
                    0.6,
                    1.3,
                    12.3,
                    18.2,
                    5.2,
                    9.7,
                    9.3,
                    9.7,
                    12.6,
                    9.7,
                    9.2,
                    9.7,
                    12,
                    11,
                    17.2,
                    1.5,
                    16.7,
                    17,
                    6.1,
                    9.5,
                    9.1,
                    4.8,
                    8.2,
                    1.4,
                    5.9,
                    16.4,
                    6,
                    16.5,
                    10.9,
                    17.7,
                    11.7,
                    1.1,
                    13.7,
                    1.4,
                    9.3,
                    18.6,
                    3.7,
                    8.1,
                    14.7,
                    17.7,
                    13.6,
                    5.5,
                    13.7,
                    6.3,
                    14.5,
                    19.1,
                    14.6,
                    17.3,
                    0.5,
                    14.5,
                    16.7,
                    1.3,
                    17.5,
                    5.5,
                    13.5,
                    16.1,
                    13.4,
                    2.3,
                    12.1,
                    11.2,
                    18.1,
                    8.4,
                    6.8,
                    15.1,
                    8.5,
                    13.1,
                    13.1,
                    17.8,
                    12.2,
                    10.3,
                    3.2,
                    2.8,
                    3.5,
                    3.9,
                    12.9,
                    14.9,
                    10.8,
                    16.7,
                    19.8,
                    16.5,
                    14.1,
                    10.9,
                    9.3,
                    2.1,
                    8.3,
                    18.2,
                    16.3,
                    4.7,
                    9.6,
                    16.4,
                    1.8,
                    8.1,
                    17.1,
                    8.4,
                    2,
                    11.1,
                    17.3,
                    12,
                    4.9,
                    8,
                    9.3,
                    11.8,
                    15.3,
                    2.4,
                    17.8,
                    0.7,
                    7.7,
                    1,
                    8.2,
                    10.8,
                    10.5,
                    3.7,
                    13.1,
                    1.4,
                    15.4,
                    19,
                    7.1,
                    10.6,
                    7.9,
                    0.6,
                    8,
                    15.9,
                    12.1,
                    2.5,
                    17,
                    10.9,
                    16.9,
                    11.8,
                    11.4,
                    2.6,
                    3.8,
                    19.5,
                    5,
                    19.6,
                    10.9,
                    3.1,
                    2.4,
                    4.6,
                    18.5,
                    8.6,
                    8.2,
                    6.6,
                    3.4,
                    10,
                    3,
                    16.8,
                    7.7,
                    7.8,
                    9.7,
                    9.2,
                    19.9,
                    11.1,
                    2.2,
                    12.3,
                    3.5,
                    1.1,
                    19.4,
                    15.6,
                    19.6,
                    9.8,
                    10.9,
                    3.8,
                    5.3,
                    16.9,
                    7.4,
                    16.6,
                    14.3,
                    4,
                    10.4,
                    13.7,
                    5.1,
                    16.7,
                    11.1,
                    3.7,
                    11.9,
                    20,
                    3.4,
                    16.4,
                    4.5,
                    15.8,
                    14.8,
                    6.4,
                    6.9,
                    16,
                    9.5,
                    14.8,
                    3.4,
                    17.1,
                    14.4,
                    18.2,
                    3.1,
                    12.1,
                    12.2,
                    7.4,
                    9.4,
                    1.2,
                    15,
                    11.2,
                    1.6,
                    13.8,
                    9.6,
                    1.2,
                    19.4,
                    19,
                    10.5,
                    2.3,
                    15.2,
                    10.1,
                    6.4,
                    10.1,
                    10.7,
                    11.5,
                    9.1,
                    12.3,
                    18.4,
                    7.6,
                    14.7,
                    17.9,
                    9.4,
                    9.1,
                    12.2,
                    12,
                    16.2,
                    9.8,
                    19.9,
                    1.7,
                    0.6,
                    13,
                    6.3,
                    5.2,
                    6.6,
                    5.5,
                    1.1,
                    19.4,
                    4.8,
                    14.8,
                    15.4,
                    18.6,
                    1.1,
                    17.5,
                    10.8,
                    12.8,
                    13.1,
                    16.5,
                    7,
                    14.8,
                    10.8,
                    16,
                    19.8,
                    4.4,
                    19.9,
                    2.3,
                    0.5,
                    1.4,
                    7.2,
                    12.8,
                    1.8,
                    0.6,
                    18.8,
                    16.5,
                    16.3,
                    17.7,
                    14.2,
                    2.5,
                    8.3,
                    14.6,
                    6,
                    13.9,
                    1,
                    6.5,
                    11.2,
                    12.8,
                    11.8,
                    14.1,
                    0.6,
                    2.5,
                    17.4,
                    13.8,
                    2.7,
                    16.9,
                    5.2,
                    9.8,
                    3.3,
                    14.3,
                    13.5,
                    4.6,
                    17.3,
                    8.3,
                    6.2,
                    3.5,
                    5.7,
                    0.9,
                    11.9,
                    16.9,
                    11.2,
                    4.8,
                    1.2,
                    4.7,
                    8.6,
                    15.3,
                    4.2,
                    14.5,
                    17.4,
                    9.4,
                    16.5,
                    11.3,
                    12.9,
                    10.8,
                    9.5,
                    5.1,
                    6.4,
                    6.2,
                    11.5,
                    2.8,
                    18.4,
                    14.6,
                    8.3,
                    3.6,
                    17.7,
                    16.6,
                    14.6,
                    5.8,
                    8.3,
                    2.5,
                    4.2,
                    15.8,
                    14.4,
                    12.1,
                    18,
                    11.9,
                    9.6,
                    7.1,
                    18.8,
                    2.1,
                    18.7,
                    16.6,
                    3,
                    11.5,
                    17.4,
                    11.7,
                    18.2,
                    18.9,
                    8.7,
                    7.9,
                    18.8,
                    13.7,
                    2.8,
                    1.3,
                    11.5,
                    18.6,
                    17,
                    13.7,
                    3.2,
                    5.5,
                    17.6,
                    4.1,
                    5.9,
                    3,
                    13.7,
                    18.9,
                    5.7,
                    9.8,
                    12.9,
                    20,
                    2.5,
                    10.2,
                    8,
                    17.4,
                    9.8,
                    2.7,
                    12.9,
                    15.5,
                    0.6,
                    17.2,
                    4.1,
                    11.3,
                    8.6,
                    14.5,
                    7.7,
                    17.5,
                    14.7,
                    13.1,
                    16,
                    15.2,
                    1.2,
                    8.2,
                    18.7,
                    3,
                    14.9,
                    19.5,
                    1.5,
                    13.8,
                    9.6,
                    11.8,
                    2.2,
                    1.3,
                    13.5,
                    16.6,
                    15.7,
                    11.1,
                    2.4,
                    13.9,
                    5.2,
                    18.3,
                    16.8,
                    14.3,
                    19,
                    1.1,
                    14.9,
                    6.9,
                    18.2,
                    5.7,
                    14.6,
                    17.6,
                    1.3,
                    8.3,
                    15.4,
                    9.4,
                    5.7,
                    4.8,
                    3.1,
                    17.2,
                    11.7,
                    2,
                    8,
                    7.7,
                    4,
                    9,
                    7,
                    7.2,
                    14.9,
                    4.9,
                    13,
                    11.6,
                    11.6,
                    13.4,
                    11.2,
                    17.6,
                    13.7,
                    11.2,
                    16.7,
                    12.3,
                    6.2,
                    4.5,
                    3.5,
                    18,
                    14.3,
                    18.8,
                    12.3,
                    9.7,
                    1.7,
                    13.6,
                    11.9,
                    19.8,
                    5.2,
                    10.8,
                    13.2,
                    13.1,
                    11.4,
                    15.7,
                    4.5,
                    14.6,
                    12.6,
                    18,
                    17,
                    6.6,
                    5.9,
                    19.6,
                    10.8,
                    18.2,
                    3.7,
                    13,
                    16.3,
                    19,
                    7.1,
                    14.6,
                    11,
                    1.7,
                    14,
                    14,
                    18.6,
                    10.2,
                    5,
                    1.4,
                    8.6,
                    6.4,
                    15.3,
                    7.4,
                    19,
                    19.3,
                    12.6,
                    18.6,
                    15.3,
                    11.2,
                    4,
                    9.4,
                    11.4,
                    17.3,
                    9.9,
                    18,
                    13.6,
                    3.2,
                    19.9,
                    10.8,
                    8.1,
                    13.4,
                    2.6,
                    12.9,
                    10.2,
                    8.4,
                    19.1,
                    10.7,
                    4.8,
                    9.4,
                    18.4,
                    3.9,
                    4.7,
                    0.8,
                    0.8,
                    16.7,
                    14.8,
                    7.4,
                    14.1,
                    8.2,
                    19.1,
                    19.4,
                    8.2,
                    17.2,
                    15.6,
                    6.5,
                    5,
                    9.4,
                    15.7,
                    19.2,
                    15.4,
                    17.2,
                    12.3,
                    16.8,
                    15.8,
                    7.9,
                    11.3,
                    16.2,
                    1.4,
                    16.3,
                    4,
                    10.5,
                    16.3,
                    5.4,
                    5.3,
                    8.4,
                    17.9,
                    0.5,
                    18.1,
                    3.5,
                    19.8,
                    19.1,
                    10.1,
                    10.5,
                    9.9,
                    12.9,
                    2.3,
                    1.1,
                    1.6,
                    9.2,
                    5.9,
                    12.6,
                    19.9,
                    8,
                    11.7,
                    8.6,
                    17,
                    18.1,
                    17.6,
                    19.5,
                    1,
                    16.9,
                    15.2,
                    5,
                    19.1,
                    3.4,
                    13.8,
                    4.9,
                    8.9,
                    14.5,
                    11.5,
                    8.8,
                    6.9,
                    16.9,
                    3.3,
                    8.9,
                    18.1,
                    17,
                    8.3,
                    15.4,
                    16.6,
                    17.8,
                    11.1,
                    4.5,
                    5.5,
                    6.3,
                    12.1,
                    1.1,
                    12.9,
                    7.6,
                    6.3,
                    17.7,
                    9.5,
                    2.4,
                    16.6,
                    1.4,
                    14.7,
                    15.6,
                    7.4,
                    16.6,
                    10.6,
                    9.5,
                    1.4,
                    6.2,
                    18.7,
                    8.1,
                    11.2,
                    10.9,
                    12,
                    1.7,
                    7.6,
                    14.6,
                    4.4,
                    4.5,
                    0.7,
                    9,
                    17.7,
                    1.5,
                    4.2,
                    6.5,
                    14.8,
                    13,
                    8.6,
                    15.3,
                    12.4,
                    18,
                    16.5,
                    5.4,
                    5.8,
                    2.9,
                    7.1,
                    20,
                    8.4,
                    4.8,
                    15.4,
                    11.1,
                    3.4,
                    7.9,
                    8.6,
                    15.2,
                    0.9,
                    5.7,
                    10.6,
                    5.7,
                    12.8,
                    9.9,
                    7.6,
                    19,
                    12.8,
                    3,
                    11.4,
                    15.7,
                    14.3,
                    3.9,
                    19.5,
                    9.3,
                    3.6,
                    4,
                    2.4,
                    16.2,
                    2.9,
                    2.9,
                    17.1,
                    7.2,
                    1.1,
                    1.5,
                    3.3,
                    4.7,
                    13.5,
                    3.6,
                    2.8,
                    15.4,
                    13.6,
                    9,
                    11.2,
                    6.6,
                    9.9,
                    10.4,
                    8.1,
                    18.2,
                    0.8,
                    15.8,
                    2.9,
                    16.1,
                    12.5,
                    16.9,
                    2.4,
                    11.4,
                    10.3,
                    14.3,
                    10.9,
                    11,
                    8.9,
                    6.5,
                    9.9,
                    2.8,
                    19.2,
                    14.4,
                    19.1,
                    4.9,
                    17.6,
                    16.3,
                    13.7,
                    12.7,
                    6.7,
                    16.4,
                    10.3,
                    1.9,
                    6.6,
                    18.7,
                    17.1,
                    19.6,
                    12.7,
                    5.3,
                    3.7,
                    4.1,
                    0.9,
                    8.1,
                    4.2,
                    8.5,
                    18.7,
                    8.9,
                    17.6,
                    12.3,
                    5.3,
                    7.4,
                    2.1,
                    7,
                    13.7,
                    1.9,
                    4.5,
                    7.9,
                    19.6,
                    15.8,
                    14.8,
                    2.8,
                    15.7,
                    15.8,
                    12.2,
                    19.8,
                    6.8,
                    18.9,
                    18.3,
                    0.7,
                    9.3,
                    19.6,
                    2.5,
                    11.2,
                    19.6,
                    11.3,
                    4.2,
                    11.9,
                    4.5,
                    10.6,
                    1.9,
                    12.3,
                    10.6,
                    14.9,
                    12.8,
                    11.2,
                    14,
                    3.3,
                    12.1,
                    3.9,
                    18.5,
                    1.8,
                    8.9,
                    14.1,
                    9.4,
                    2.3,
                    11.3,
                    13,
                    14.2,
                    7.8,
                    11.5,
                    9.3,
                    13.6,
                    11.9,
                    10.8,
                    5.4,
                    0.5,
                    3.9,
                    2.8,
                    9.3,
                    12.4,
                    4.7,
                    18.8,
                    0.6,
                    15.6,
                    12.7,
                    7.8,
                    1.5,
                    12.7,
                    8,
                    18.8,
                    11.1,
                    18.8,
                    4.8,
                    14.7,
                    12.5,
                    14.9,
                    4.7,
                    13.5,
                    10.2,
                    15,
                    6.9,
                    17.9,
                    2.1,
                    16.2,
                    17.3,
                    16.4,
                    10.5,
                    9,
                    19.9,
                    5,
                    11.2,
                    13.6,
                    14.2,
                    4.5,
                    13.3,
                    16.5,
                    1.5,
                    18.3,
                    1.1,
                    7.4,
                    0.8,
                    2,
                    18.3,
                    7.4,
                    8.8,
                    4.7,
                    12.1,
                    12.1,
                    7.8,
                    7,
                    17.8,
                    8,
                    10.1,
                    6,
                    15.8,
                    8.3,
                    10.5,
                    5.4,
                    19.8,
                    6.2,
                    15.5,
                    8.8,
                    4.5,
                    16.1,
                    7,
                    17.4,
                    18.3,
                    17.3,
                    1.2,
                    15.9,
                    8.5,
                    17.5,
                    12.9,
                    16.8,
                    10.2,
                    10.9,
                    3.3,
                    15.8,
                    8.7,
                    10.3,
                    15.8,
                    12.2,
                    4.4,
                    12,
                    8.4,
                    9.7,
                    1.1,
                    4.6,
                    6,
                    14.4,
                    0.7,
                    8.5,
                    18.5,
                    2.7,
                    10.6,
                    15.8,
                    18.9,
                    15.1,
                    14.6,
                    16.6,
                    9.2,
                    16.2,
                    0.7,
                    18.5,
                    9.1,
                    11.3,
                    5.5,
                    15,
                    2,
                    17.5,
                    16.6,
                    4.7,
                    16.3,
                    15.8,
                    12.8,
                    7.8,
                    5.8,
                    5,
                    6.7,
                    18.1,
                    2,
                    16.7,
                    7.3,
                    10.7,
                    16,
                    17.7,
                    7.2,
                    9.5,
                    8.6,
                    0.8,
                    6.3,
                    9.5,
                    8.5,
                    14.6,
                    8,
                    10,
                    8.9,
                    14.9,
                    17.3
                  ],
                  "yaxis": "y"
                }
              ],
              "layout": {
                "barmode": "relative",
                "coloraxis": {
                  "colorbar": {
                    "title": {
                      "text": "Renewable Energy (%)"
                    }
                  },
                  "colorscale": [
                    [
                      0,
                      "#00224e"
                    ],
                    [
                      0.1111111111111111,
                      "#123570"
                    ],
                    [
                      0.2222222222222222,
                      "#3b496c"
                    ],
                    [
                      0.3333333333333333,
                      "#575d6d"
                    ],
                    [
                      0.4444444444444444,
                      "#707173"
                    ],
                    [
                      0.5555555555555556,
                      "#8a8678"
                    ],
                    [
                      0.6666666666666666,
                      "#a59c74"
                    ],
                    [
                      0.7777777777777778,
                      "#c3b369"
                    ],
                    [
                      0.8888888888888888,
                      "#e1cc55"
                    ],
                    [
                      1,
                      "#fee838"
                    ]
                  ]
                },
                "legend": {
                  "tracegroupgap": 0
                },
                "template": {
                  "data": {
                    "bar": [
                      {
                        "error_x": {
                          "color": "#2a3f5f"
                        },
                        "error_y": {
                          "color": "#2a3f5f"
                        },
                        "marker": {
                          "line": {
                            "color": "white",
                            "width": 0.5
                          },
                          "pattern": {
                            "fillmode": "overlay",
                            "size": 10,
                            "solidity": 0.2
                          }
                        },
                        "type": "bar"
                      }
                    ],
                    "barpolar": [
                      {
                        "marker": {
                          "line": {
                            "color": "white",
                            "width": 0.5
                          },
                          "pattern": {
                            "fillmode": "overlay",
                            "size": 10,
                            "solidity": 0.2
                          }
                        },
                        "type": "barpolar"
                      }
                    ],
                    "carpet": [
                      {
                        "aaxis": {
                          "endlinecolor": "#2a3f5f",
                          "gridcolor": "#C8D4E3",
                          "linecolor": "#C8D4E3",
                          "minorgridcolor": "#C8D4E3",
                          "startlinecolor": "#2a3f5f"
                        },
                        "baxis": {
                          "endlinecolor": "#2a3f5f",
                          "gridcolor": "#C8D4E3",
                          "linecolor": "#C8D4E3",
                          "minorgridcolor": "#C8D4E3",
                          "startlinecolor": "#2a3f5f"
                        },
                        "type": "carpet"
                      }
                    ],
                    "choropleth": [
                      {
                        "colorbar": {
                          "outlinewidth": 0,
                          "ticks": ""
                        },
                        "type": "choropleth"
                      }
                    ],
                    "contour": [
                      {
                        "colorbar": {
                          "outlinewidth": 0,
                          "ticks": ""
                        },
                        "colorscale": [
                          [
                            0,
                            "#0d0887"
                          ],
                          [
                            0.1111111111111111,
                            "#46039f"
                          ],
                          [
                            0.2222222222222222,
                            "#7201a8"
                          ],
                          [
                            0.3333333333333333,
                            "#9c179e"
                          ],
                          [
                            0.4444444444444444,
                            "#bd3786"
                          ],
                          [
                            0.5555555555555556,
                            "#d8576b"
                          ],
                          [
                            0.6666666666666666,
                            "#ed7953"
                          ],
                          [
                            0.7777777777777778,
                            "#fb9f3a"
                          ],
                          [
                            0.8888888888888888,
                            "#fdca26"
                          ],
                          [
                            1,
                            "#f0f921"
                          ]
                        ],
                        "type": "contour"
                      }
                    ],
                    "contourcarpet": [
                      {
                        "colorbar": {
                          "outlinewidth": 0,
                          "ticks": ""
                        },
                        "type": "contourcarpet"
                      }
                    ],
                    "heatmap": [
                      {
                        "colorbar": {
                          "outlinewidth": 0,
                          "ticks": ""
                        },
                        "colorscale": [
                          [
                            0,
                            "#0d0887"
                          ],
                          [
                            0.1111111111111111,
                            "#46039f"
                          ],
                          [
                            0.2222222222222222,
                            "#7201a8"
                          ],
                          [
                            0.3333333333333333,
                            "#9c179e"
                          ],
                          [
                            0.4444444444444444,
                            "#bd3786"
                          ],
                          [
                            0.5555555555555556,
                            "#d8576b"
                          ],
                          [
                            0.6666666666666666,
                            "#ed7953"
                          ],
                          [
                            0.7777777777777778,
                            "#fb9f3a"
                          ],
                          [
                            0.8888888888888888,
                            "#fdca26"
                          ],
                          [
                            1,
                            "#f0f921"
                          ]
                        ],
                        "type": "heatmap"
                      }
                    ],
                    "heatmapgl": [
                      {
                        "colorbar": {
                          "outlinewidth": 0,
                          "ticks": ""
                        },
                        "colorscale": [
                          [
                            0,
                            "#0d0887"
                          ],
                          [
                            0.1111111111111111,
                            "#46039f"
                          ],
                          [
                            0.2222222222222222,
                            "#7201a8"
                          ],
                          [
                            0.3333333333333333,
                            "#9c179e"
                          ],
                          [
                            0.4444444444444444,
                            "#bd3786"
                          ],
                          [
                            0.5555555555555556,
                            "#d8576b"
                          ],
                          [
                            0.6666666666666666,
                            "#ed7953"
                          ],
                          [
                            0.7777777777777778,
                            "#fb9f3a"
                          ],
                          [
                            0.8888888888888888,
                            "#fdca26"
                          ],
                          [
                            1,
                            "#f0f921"
                          ]
                        ],
                        "type": "heatmapgl"
                      }
                    ],
                    "histogram": [
                      {
                        "marker": {
                          "pattern": {
                            "fillmode": "overlay",
                            "size": 10,
                            "solidity": 0.2
                          }
                        },
                        "type": "histogram"
                      }
                    ],
                    "histogram2d": [
                      {
                        "colorbar": {
                          "outlinewidth": 0,
                          "ticks": ""
                        },
                        "colorscale": [
                          [
                            0,
                            "#0d0887"
                          ],
                          [
                            0.1111111111111111,
                            "#46039f"
                          ],
                          [
                            0.2222222222222222,
                            "#7201a8"
                          ],
                          [
                            0.3333333333333333,
                            "#9c179e"
                          ],
                          [
                            0.4444444444444444,
                            "#bd3786"
                          ],
                          [
                            0.5555555555555556,
                            "#d8576b"
                          ],
                          [
                            0.6666666666666666,
                            "#ed7953"
                          ],
                          [
                            0.7777777777777778,
                            "#fb9f3a"
                          ],
                          [
                            0.8888888888888888,
                            "#fdca26"
                          ],
                          [
                            1,
                            "#f0f921"
                          ]
                        ],
                        "type": "histogram2d"
                      }
                    ],
                    "histogram2dcontour": [
                      {
                        "colorbar": {
                          "outlinewidth": 0,
                          "ticks": ""
                        },
                        "colorscale": [
                          [
                            0,
                            "#0d0887"
                          ],
                          [
                            0.1111111111111111,
                            "#46039f"
                          ],
                          [
                            0.2222222222222222,
                            "#7201a8"
                          ],
                          [
                            0.3333333333333333,
                            "#9c179e"
                          ],
                          [
                            0.4444444444444444,
                            "#bd3786"
                          ],
                          [
                            0.5555555555555556,
                            "#d8576b"
                          ],
                          [
                            0.6666666666666666,
                            "#ed7953"
                          ],
                          [
                            0.7777777777777778,
                            "#fb9f3a"
                          ],
                          [
                            0.8888888888888888,
                            "#fdca26"
                          ],
                          [
                            1,
                            "#f0f921"
                          ]
                        ],
                        "type": "histogram2dcontour"
                      }
                    ],
                    "mesh3d": [
                      {
                        "colorbar": {
                          "outlinewidth": 0,
                          "ticks": ""
                        },
                        "type": "mesh3d"
                      }
                    ],
                    "parcoords": [
                      {
                        "line": {
                          "colorbar": {
                            "outlinewidth": 0,
                            "ticks": ""
                          }
                        },
                        "type": "parcoords"
                      }
                    ],
                    "pie": [
                      {
                        "automargin": true,
                        "type": "pie"
                      }
                    ],
                    "scatter": [
                      {
                        "fillpattern": {
                          "fillmode": "overlay",
                          "size": 10,
                          "solidity": 0.2
                        },
                        "type": "scatter"
                      }
                    ],
                    "scatter3d": [
                      {
                        "line": {
                          "colorbar": {
                            "outlinewidth": 0,
                            "ticks": ""
                          }
                        },
                        "marker": {
                          "colorbar": {
                            "outlinewidth": 0,
                            "ticks": ""
                          }
                        },
                        "type": "scatter3d"
                      }
                    ],
                    "scattercarpet": [
                      {
                        "marker": {
                          "colorbar": {
                            "outlinewidth": 0,
                            "ticks": ""
                          }
                        },
                        "type": "scattercarpet"
                      }
                    ],
                    "scattergeo": [
                      {
                        "marker": {
                          "colorbar": {
                            "outlinewidth": 0,
                            "ticks": ""
                          }
                        },
                        "type": "scattergeo"
                      }
                    ],
                    "scattergl": [
                      {
                        "marker": {
                          "colorbar": {
                            "outlinewidth": 0,
                            "ticks": ""
                          }
                        },
                        "type": "scattergl"
                      }
                    ],
                    "scattermapbox": [
                      {
                        "marker": {
                          "colorbar": {
                            "outlinewidth": 0,
                            "ticks": ""
                          }
                        },
                        "type": "scattermapbox"
                      }
                    ],
                    "scatterpolar": [
                      {
                        "marker": {
                          "colorbar": {
                            "outlinewidth": 0,
                            "ticks": ""
                          }
                        },
                        "type": "scatterpolar"
                      }
                    ],
                    "scatterpolargl": [
                      {
                        "marker": {
                          "colorbar": {
                            "outlinewidth": 0,
                            "ticks": ""
                          }
                        },
                        "type": "scatterpolargl"
                      }
                    ],
                    "scatterternary": [
                      {
                        "marker": {
                          "colorbar": {
                            "outlinewidth": 0,
                            "ticks": ""
                          }
                        },
                        "type": "scatterternary"
                      }
                    ],
                    "surface": [
                      {
                        "colorbar": {
                          "outlinewidth": 0,
                          "ticks": ""
                        },
                        "colorscale": [
                          [
                            0,
                            "#0d0887"
                          ],
                          [
                            0.1111111111111111,
                            "#46039f"
                          ],
                          [
                            0.2222222222222222,
                            "#7201a8"
                          ],
                          [
                            0.3333333333333333,
                            "#9c179e"
                          ],
                          [
                            0.4444444444444444,
                            "#bd3786"
                          ],
                          [
                            0.5555555555555556,
                            "#d8576b"
                          ],
                          [
                            0.6666666666666666,
                            "#ed7953"
                          ],
                          [
                            0.7777777777777778,
                            "#fb9f3a"
                          ],
                          [
                            0.8888888888888888,
                            "#fdca26"
                          ],
                          [
                            1,
                            "#f0f921"
                          ]
                        ],
                        "type": "surface"
                      }
                    ],
                    "table": [
                      {
                        "cells": {
                          "fill": {
                            "color": "#EBF0F8"
                          },
                          "line": {
                            "color": "white"
                          }
                        },
                        "header": {
                          "fill": {
                            "color": "#C8D4E3"
                          },
                          "line": {
                            "color": "white"
                          }
                        },
                        "type": "table"
                      }
                    ]
                  },
                  "layout": {
                    "annotationdefaults": {
                      "arrowcolor": "#2a3f5f",
                      "arrowhead": 0,
                      "arrowwidth": 1
                    },
                    "autotypenumbers": "strict",
                    "coloraxis": {
                      "colorbar": {
                        "outlinewidth": 0,
                        "ticks": ""
                      }
                    },
                    "colorscale": {
                      "diverging": [
                        [
                          0,
                          "#8e0152"
                        ],
                        [
                          0.1,
                          "#c51b7d"
                        ],
                        [
                          0.2,
                          "#de77ae"
                        ],
                        [
                          0.3,
                          "#f1b6da"
                        ],
                        [
                          0.4,
                          "#fde0ef"
                        ],
                        [
                          0.5,
                          "#f7f7f7"
                        ],
                        [
                          0.6,
                          "#e6f5d0"
                        ],
                        [
                          0.7,
                          "#b8e186"
                        ],
                        [
                          0.8,
                          "#7fbc41"
                        ],
                        [
                          0.9,
                          "#4d9221"
                        ],
                        [
                          1,
                          "#276419"
                        ]
                      ],
                      "sequential": [
                        [
                          0,
                          "#0d0887"
                        ],
                        [
                          0.1111111111111111,
                          "#46039f"
                        ],
                        [
                          0.2222222222222222,
                          "#7201a8"
                        ],
                        [
                          0.3333333333333333,
                          "#9c179e"
                        ],
                        [
                          0.4444444444444444,
                          "#bd3786"
                        ],
                        [
                          0.5555555555555556,
                          "#d8576b"
                        ],
                        [
                          0.6666666666666666,
                          "#ed7953"
                        ],
                        [
                          0.7777777777777778,
                          "#fb9f3a"
                        ],
                        [
                          0.8888888888888888,
                          "#fdca26"
                        ],
                        [
                          1,
                          "#f0f921"
                        ]
                      ],
                      "sequentialminus": [
                        [
                          0,
                          "#0d0887"
                        ],
                        [
                          0.1111111111111111,
                          "#46039f"
                        ],
                        [
                          0.2222222222222222,
                          "#7201a8"
                        ],
                        [
                          0.3333333333333333,
                          "#9c179e"
                        ],
                        [
                          0.4444444444444444,
                          "#bd3786"
                        ],
                        [
                          0.5555555555555556,
                          "#d8576b"
                        ],
                        [
                          0.6666666666666666,
                          "#ed7953"
                        ],
                        [
                          0.7777777777777778,
                          "#fb9f3a"
                        ],
                        [
                          0.8888888888888888,
                          "#fdca26"
                        ],
                        [
                          1,
                          "#f0f921"
                        ]
                      ]
                    },
                    "colorway": [
                      "#636efa",
                      "#EF553B",
                      "#00cc96",
                      "#ab63fa",
                      "#FFA15A",
                      "#19d3f3",
                      "#FF6692",
                      "#B6E880",
                      "#FF97FF",
                      "#FECB52"
                    ],
                    "font": {
                      "color": "#2a3f5f"
                    },
                    "geo": {
                      "bgcolor": "white",
                      "lakecolor": "white",
                      "landcolor": "white",
                      "showlakes": true,
                      "showland": true,
                      "subunitcolor": "#C8D4E3"
                    },
                    "hoverlabel": {
                      "align": "left"
                    },
                    "hovermode": "closest",
                    "mapbox": {
                      "style": "light"
                    },
                    "paper_bgcolor": "white",
                    "plot_bgcolor": "white",
                    "polar": {
                      "angularaxis": {
                        "gridcolor": "#EBF0F8",
                        "linecolor": "#EBF0F8",
                        "ticks": ""
                      },
                      "bgcolor": "white",
                      "radialaxis": {
                        "gridcolor": "#EBF0F8",
                        "linecolor": "#EBF0F8",
                        "ticks": ""
                      }
                    },
                    "scene": {
                      "xaxis": {
                        "backgroundcolor": "white",
                        "gridcolor": "#DFE8F3",
                        "gridwidth": 2,
                        "linecolor": "#EBF0F8",
                        "showbackground": true,
                        "ticks": "",
                        "zerolinecolor": "#EBF0F8"
                      },
                      "yaxis": {
                        "backgroundcolor": "white",
                        "gridcolor": "#DFE8F3",
                        "gridwidth": 2,
                        "linecolor": "#EBF0F8",
                        "showbackground": true,
                        "ticks": "",
                        "zerolinecolor": "#EBF0F8"
                      },
                      "zaxis": {
                        "backgroundcolor": "white",
                        "gridcolor": "#DFE8F3",
                        "gridwidth": 2,
                        "linecolor": "#EBF0F8",
                        "showbackground": true,
                        "ticks": "",
                        "zerolinecolor": "#EBF0F8"
                      }
                    },
                    "shapedefaults": {
                      "line": {
                        "color": "#2a3f5f"
                      }
                    },
                    "ternary": {
                      "aaxis": {
                        "gridcolor": "#DFE8F3",
                        "linecolor": "#A2B1C6",
                        "ticks": ""
                      },
                      "baxis": {
                        "gridcolor": "#DFE8F3",
                        "linecolor": "#A2B1C6",
                        "ticks": ""
                      },
                      "bgcolor": "white",
                      "caxis": {
                        "gridcolor": "#DFE8F3",
                        "linecolor": "#A2B1C6",
                        "ticks": ""
                      }
                    },
                    "title": {
                      "x": 0.05
                    },
                    "xaxis": {
                      "automargin": true,
                      "gridcolor": "#EBF0F8",
                      "linecolor": "#EBF0F8",
                      "ticks": "",
                      "title": {
                        "standoff": 15
                      },
                      "zerolinecolor": "#EBF0F8",
                      "zerolinewidth": 2
                    },
                    "yaxis": {
                      "automargin": true,
                      "gridcolor": "#EBF0F8",
                      "linecolor": "#EBF0F8",
                      "ticks": "",
                      "title": {
                        "standoff": 15
                      },
                      "zerolinecolor": "#EBF0F8",
                      "zerolinewidth": 2
                    }
                  }
                },
                "title": {
                  "text": "Impact of Renewable Energy on CO2 Emissions"
                },
                "xaxis": {
                  "anchor": "y",
                  "domain": [
                    0,
                    1
                  ],
                  "tickangle": -45,
                  "title": {
                    "text": "Country"
                  }
                },
                "yaxis": {
                  "anchor": "x",
                  "domain": [
                    0,
                    1
                  ],
                  "title": {
                    "text": "CO2 Emissions (tons per capita)"
                  }
                }
              }
            }
          },
          "metadata": {},
          "output_type": "display_data"
        }
      ],
      "source": [
        "# Create a bar chart for Renewable Energy vs. CO2 Emissions\n",
        "fig = px.bar(df, x=\"Country\", y=\"CO2_Emissions_tons_per_capita\",\n",
        "             color=\"Renewable_Energy_pct\",\n",
        "             title=\"Impact of Renewable Energy on CO2 Emissions\",\n",
        "             labels={\"CO2_Emissions_tons_per_capita\": \"CO2 Emissions (tons per capita)\",\n",
        "                     \"Renewable_Energy_pct\": \"Renewable Energy (%)\"},\n",
        "             color_continuous_scale=px.colors.sequential.Cividis)  # Color-blind friendly\n",
        "\n",
        "# Improve interactivity\n",
        "fig.update_layout(\n",
        "    xaxis=dict(title=\"Country\", tickangle=-45),  # Rotate country names for readability\n",
        "    yaxis=dict(title=\"CO2 Emissions (tons per capita)\"),\n",
        "    template=\"plotly_white\"\n",
        ")\n",
        "\n",
        "# Show the interactive bar chart\n",
        "fig.show()"
      ]
    },
    {
      "cell_type": "markdown",
      "metadata": {},
      "source": [
        "# Hypothesis: \"A decrease in forest area percentage leads to an increase in extreme weather events.\" \n",
        "\n",
        "* Visualization: Dual-axis line chart showing trends."
      ]
    },
    {
      "cell_type": "code",
      "execution_count": 12,
      "metadata": {},
      "outputs": [
        {
          "data": {
            "application/vnd.plotly.v1+json": {
              "config": {
                "plotlyServerURL": "https://plot.ly"
              },
              "data": [
                {
                  "line": {
                    "color": "green"
                  },
                  "mode": "lines+markers",
                  "name": "Forest Area (%)",
                  "type": "scatter",
                  "x": [
                    2000,
                    2001,
                    2002,
                    2003,
                    2004,
                    2005,
                    2006,
                    2007,
                    2008,
                    2009,
                    2010,
                    2011,
                    2012,
                    2013,
                    2014,
                    2015,
                    2016,
                    2017,
                    2018,
                    2019,
                    2020,
                    2021,
                    2022,
                    2023
                  ],
                  "y": [
                    41.890566037735844,
                    42.21707317073171,
                    41.062745098039215,
                    39.165853658536584,
                    42.238,
                    40.73513513513514,
                    40.702564102564104,
                    42.1875,
                    43.02222222222222,
                    44.2939393939394,
                    40.92333333333333,
                    41.038636363636364,
                    38.226190476190474,
                    35.86129032258064,
                    37.434090909090905,
                    40.097674418604655,
                    40.20980392156862,
                    39.7875,
                    41.4804347826087,
                    45.7725,
                    40,
                    39.12173913043478,
                    36.757777777777775,
                    39.47380952380953
                  ]
                },
                {
                  "line": {
                    "color": "red"
                  },
                  "mode": "lines+markers",
                  "name": "Extreme Weather Events",
                  "type": "scatter",
                  "x": [
                    2000,
                    2001,
                    2002,
                    2003,
                    2004,
                    2005,
                    2006,
                    2007,
                    2008,
                    2009,
                    2010,
                    2011,
                    2012,
                    2013,
                    2014,
                    2015,
                    2016,
                    2017,
                    2018,
                    2019,
                    2020,
                    2021,
                    2022,
                    2023
                  ],
                  "y": [
                    7.830188679245283,
                    7.682926829268292,
                    7.0588235294117645,
                    7.975609756097561,
                    6.42,
                    7.702702702702703,
                    7.666666666666667,
                    7.6,
                    8,
                    6.090909090909091,
                    7.266666666666667,
                    6.636363636363637,
                    6.857142857142857,
                    8.258064516129032,
                    6.886363636363637,
                    8.046511627906977,
                    6.9411764705882355,
                    6.84375,
                    7.195652173913044,
                    8.2,
                    5.930232558139535,
                    7.913043478260869,
                    7.266666666666667,
                    7.023809523809524
                  ],
                  "yaxis": "y2"
                }
              ],
              "layout": {
                "template": {
                  "data": {
                    "bar": [
                      {
                        "error_x": {
                          "color": "#2a3f5f"
                        },
                        "error_y": {
                          "color": "#2a3f5f"
                        },
                        "marker": {
                          "line": {
                            "color": "white",
                            "width": 0.5
                          },
                          "pattern": {
                            "fillmode": "overlay",
                            "size": 10,
                            "solidity": 0.2
                          }
                        },
                        "type": "bar"
                      }
                    ],
                    "barpolar": [
                      {
                        "marker": {
                          "line": {
                            "color": "white",
                            "width": 0.5
                          },
                          "pattern": {
                            "fillmode": "overlay",
                            "size": 10,
                            "solidity": 0.2
                          }
                        },
                        "type": "barpolar"
                      }
                    ],
                    "carpet": [
                      {
                        "aaxis": {
                          "endlinecolor": "#2a3f5f",
                          "gridcolor": "#C8D4E3",
                          "linecolor": "#C8D4E3",
                          "minorgridcolor": "#C8D4E3",
                          "startlinecolor": "#2a3f5f"
                        },
                        "baxis": {
                          "endlinecolor": "#2a3f5f",
                          "gridcolor": "#C8D4E3",
                          "linecolor": "#C8D4E3",
                          "minorgridcolor": "#C8D4E3",
                          "startlinecolor": "#2a3f5f"
                        },
                        "type": "carpet"
                      }
                    ],
                    "choropleth": [
                      {
                        "colorbar": {
                          "outlinewidth": 0,
                          "ticks": ""
                        },
                        "type": "choropleth"
                      }
                    ],
                    "contour": [
                      {
                        "colorbar": {
                          "outlinewidth": 0,
                          "ticks": ""
                        },
                        "colorscale": [
                          [
                            0,
                            "#0d0887"
                          ],
                          [
                            0.1111111111111111,
                            "#46039f"
                          ],
                          [
                            0.2222222222222222,
                            "#7201a8"
                          ],
                          [
                            0.3333333333333333,
                            "#9c179e"
                          ],
                          [
                            0.4444444444444444,
                            "#bd3786"
                          ],
                          [
                            0.5555555555555556,
                            "#d8576b"
                          ],
                          [
                            0.6666666666666666,
                            "#ed7953"
                          ],
                          [
                            0.7777777777777778,
                            "#fb9f3a"
                          ],
                          [
                            0.8888888888888888,
                            "#fdca26"
                          ],
                          [
                            1,
                            "#f0f921"
                          ]
                        ],
                        "type": "contour"
                      }
                    ],
                    "contourcarpet": [
                      {
                        "colorbar": {
                          "outlinewidth": 0,
                          "ticks": ""
                        },
                        "type": "contourcarpet"
                      }
                    ],
                    "heatmap": [
                      {
                        "colorbar": {
                          "outlinewidth": 0,
                          "ticks": ""
                        },
                        "colorscale": [
                          [
                            0,
                            "#0d0887"
                          ],
                          [
                            0.1111111111111111,
                            "#46039f"
                          ],
                          [
                            0.2222222222222222,
                            "#7201a8"
                          ],
                          [
                            0.3333333333333333,
                            "#9c179e"
                          ],
                          [
                            0.4444444444444444,
                            "#bd3786"
                          ],
                          [
                            0.5555555555555556,
                            "#d8576b"
                          ],
                          [
                            0.6666666666666666,
                            "#ed7953"
                          ],
                          [
                            0.7777777777777778,
                            "#fb9f3a"
                          ],
                          [
                            0.8888888888888888,
                            "#fdca26"
                          ],
                          [
                            1,
                            "#f0f921"
                          ]
                        ],
                        "type": "heatmap"
                      }
                    ],
                    "heatmapgl": [
                      {
                        "colorbar": {
                          "outlinewidth": 0,
                          "ticks": ""
                        },
                        "colorscale": [
                          [
                            0,
                            "#0d0887"
                          ],
                          [
                            0.1111111111111111,
                            "#46039f"
                          ],
                          [
                            0.2222222222222222,
                            "#7201a8"
                          ],
                          [
                            0.3333333333333333,
                            "#9c179e"
                          ],
                          [
                            0.4444444444444444,
                            "#bd3786"
                          ],
                          [
                            0.5555555555555556,
                            "#d8576b"
                          ],
                          [
                            0.6666666666666666,
                            "#ed7953"
                          ],
                          [
                            0.7777777777777778,
                            "#fb9f3a"
                          ],
                          [
                            0.8888888888888888,
                            "#fdca26"
                          ],
                          [
                            1,
                            "#f0f921"
                          ]
                        ],
                        "type": "heatmapgl"
                      }
                    ],
                    "histogram": [
                      {
                        "marker": {
                          "pattern": {
                            "fillmode": "overlay",
                            "size": 10,
                            "solidity": 0.2
                          }
                        },
                        "type": "histogram"
                      }
                    ],
                    "histogram2d": [
                      {
                        "colorbar": {
                          "outlinewidth": 0,
                          "ticks": ""
                        },
                        "colorscale": [
                          [
                            0,
                            "#0d0887"
                          ],
                          [
                            0.1111111111111111,
                            "#46039f"
                          ],
                          [
                            0.2222222222222222,
                            "#7201a8"
                          ],
                          [
                            0.3333333333333333,
                            "#9c179e"
                          ],
                          [
                            0.4444444444444444,
                            "#bd3786"
                          ],
                          [
                            0.5555555555555556,
                            "#d8576b"
                          ],
                          [
                            0.6666666666666666,
                            "#ed7953"
                          ],
                          [
                            0.7777777777777778,
                            "#fb9f3a"
                          ],
                          [
                            0.8888888888888888,
                            "#fdca26"
                          ],
                          [
                            1,
                            "#f0f921"
                          ]
                        ],
                        "type": "histogram2d"
                      }
                    ],
                    "histogram2dcontour": [
                      {
                        "colorbar": {
                          "outlinewidth": 0,
                          "ticks": ""
                        },
                        "colorscale": [
                          [
                            0,
                            "#0d0887"
                          ],
                          [
                            0.1111111111111111,
                            "#46039f"
                          ],
                          [
                            0.2222222222222222,
                            "#7201a8"
                          ],
                          [
                            0.3333333333333333,
                            "#9c179e"
                          ],
                          [
                            0.4444444444444444,
                            "#bd3786"
                          ],
                          [
                            0.5555555555555556,
                            "#d8576b"
                          ],
                          [
                            0.6666666666666666,
                            "#ed7953"
                          ],
                          [
                            0.7777777777777778,
                            "#fb9f3a"
                          ],
                          [
                            0.8888888888888888,
                            "#fdca26"
                          ],
                          [
                            1,
                            "#f0f921"
                          ]
                        ],
                        "type": "histogram2dcontour"
                      }
                    ],
                    "mesh3d": [
                      {
                        "colorbar": {
                          "outlinewidth": 0,
                          "ticks": ""
                        },
                        "type": "mesh3d"
                      }
                    ],
                    "parcoords": [
                      {
                        "line": {
                          "colorbar": {
                            "outlinewidth": 0,
                            "ticks": ""
                          }
                        },
                        "type": "parcoords"
                      }
                    ],
                    "pie": [
                      {
                        "automargin": true,
                        "type": "pie"
                      }
                    ],
                    "scatter": [
                      {
                        "fillpattern": {
                          "fillmode": "overlay",
                          "size": 10,
                          "solidity": 0.2
                        },
                        "type": "scatter"
                      }
                    ],
                    "scatter3d": [
                      {
                        "line": {
                          "colorbar": {
                            "outlinewidth": 0,
                            "ticks": ""
                          }
                        },
                        "marker": {
                          "colorbar": {
                            "outlinewidth": 0,
                            "ticks": ""
                          }
                        },
                        "type": "scatter3d"
                      }
                    ],
                    "scattercarpet": [
                      {
                        "marker": {
                          "colorbar": {
                            "outlinewidth": 0,
                            "ticks": ""
                          }
                        },
                        "type": "scattercarpet"
                      }
                    ],
                    "scattergeo": [
                      {
                        "marker": {
                          "colorbar": {
                            "outlinewidth": 0,
                            "ticks": ""
                          }
                        },
                        "type": "scattergeo"
                      }
                    ],
                    "scattergl": [
                      {
                        "marker": {
                          "colorbar": {
                            "outlinewidth": 0,
                            "ticks": ""
                          }
                        },
                        "type": "scattergl"
                      }
                    ],
                    "scattermapbox": [
                      {
                        "marker": {
                          "colorbar": {
                            "outlinewidth": 0,
                            "ticks": ""
                          }
                        },
                        "type": "scattermapbox"
                      }
                    ],
                    "scatterpolar": [
                      {
                        "marker": {
                          "colorbar": {
                            "outlinewidth": 0,
                            "ticks": ""
                          }
                        },
                        "type": "scatterpolar"
                      }
                    ],
                    "scatterpolargl": [
                      {
                        "marker": {
                          "colorbar": {
                            "outlinewidth": 0,
                            "ticks": ""
                          }
                        },
                        "type": "scatterpolargl"
                      }
                    ],
                    "scatterternary": [
                      {
                        "marker": {
                          "colorbar": {
                            "outlinewidth": 0,
                            "ticks": ""
                          }
                        },
                        "type": "scatterternary"
                      }
                    ],
                    "surface": [
                      {
                        "colorbar": {
                          "outlinewidth": 0,
                          "ticks": ""
                        },
                        "colorscale": [
                          [
                            0,
                            "#0d0887"
                          ],
                          [
                            0.1111111111111111,
                            "#46039f"
                          ],
                          [
                            0.2222222222222222,
                            "#7201a8"
                          ],
                          [
                            0.3333333333333333,
                            "#9c179e"
                          ],
                          [
                            0.4444444444444444,
                            "#bd3786"
                          ],
                          [
                            0.5555555555555556,
                            "#d8576b"
                          ],
                          [
                            0.6666666666666666,
                            "#ed7953"
                          ],
                          [
                            0.7777777777777778,
                            "#fb9f3a"
                          ],
                          [
                            0.8888888888888888,
                            "#fdca26"
                          ],
                          [
                            1,
                            "#f0f921"
                          ]
                        ],
                        "type": "surface"
                      }
                    ],
                    "table": [
                      {
                        "cells": {
                          "fill": {
                            "color": "#EBF0F8"
                          },
                          "line": {
                            "color": "white"
                          }
                        },
                        "header": {
                          "fill": {
                            "color": "#C8D4E3"
                          },
                          "line": {
                            "color": "white"
                          }
                        },
                        "type": "table"
                      }
                    ]
                  },
                  "layout": {
                    "annotationdefaults": {
                      "arrowcolor": "#2a3f5f",
                      "arrowhead": 0,
                      "arrowwidth": 1
                    },
                    "autotypenumbers": "strict",
                    "coloraxis": {
                      "colorbar": {
                        "outlinewidth": 0,
                        "ticks": ""
                      }
                    },
                    "colorscale": {
                      "diverging": [
                        [
                          0,
                          "#8e0152"
                        ],
                        [
                          0.1,
                          "#c51b7d"
                        ],
                        [
                          0.2,
                          "#de77ae"
                        ],
                        [
                          0.3,
                          "#f1b6da"
                        ],
                        [
                          0.4,
                          "#fde0ef"
                        ],
                        [
                          0.5,
                          "#f7f7f7"
                        ],
                        [
                          0.6,
                          "#e6f5d0"
                        ],
                        [
                          0.7,
                          "#b8e186"
                        ],
                        [
                          0.8,
                          "#7fbc41"
                        ],
                        [
                          0.9,
                          "#4d9221"
                        ],
                        [
                          1,
                          "#276419"
                        ]
                      ],
                      "sequential": [
                        [
                          0,
                          "#0d0887"
                        ],
                        [
                          0.1111111111111111,
                          "#46039f"
                        ],
                        [
                          0.2222222222222222,
                          "#7201a8"
                        ],
                        [
                          0.3333333333333333,
                          "#9c179e"
                        ],
                        [
                          0.4444444444444444,
                          "#bd3786"
                        ],
                        [
                          0.5555555555555556,
                          "#d8576b"
                        ],
                        [
                          0.6666666666666666,
                          "#ed7953"
                        ],
                        [
                          0.7777777777777778,
                          "#fb9f3a"
                        ],
                        [
                          0.8888888888888888,
                          "#fdca26"
                        ],
                        [
                          1,
                          "#f0f921"
                        ]
                      ],
                      "sequentialminus": [
                        [
                          0,
                          "#0d0887"
                        ],
                        [
                          0.1111111111111111,
                          "#46039f"
                        ],
                        [
                          0.2222222222222222,
                          "#7201a8"
                        ],
                        [
                          0.3333333333333333,
                          "#9c179e"
                        ],
                        [
                          0.4444444444444444,
                          "#bd3786"
                        ],
                        [
                          0.5555555555555556,
                          "#d8576b"
                        ],
                        [
                          0.6666666666666666,
                          "#ed7953"
                        ],
                        [
                          0.7777777777777778,
                          "#fb9f3a"
                        ],
                        [
                          0.8888888888888888,
                          "#fdca26"
                        ],
                        [
                          1,
                          "#f0f921"
                        ]
                      ]
                    },
                    "colorway": [
                      "#636efa",
                      "#EF553B",
                      "#00cc96",
                      "#ab63fa",
                      "#FFA15A",
                      "#19d3f3",
                      "#FF6692",
                      "#B6E880",
                      "#FF97FF",
                      "#FECB52"
                    ],
                    "font": {
                      "color": "#2a3f5f"
                    },
                    "geo": {
                      "bgcolor": "white",
                      "lakecolor": "white",
                      "landcolor": "white",
                      "showlakes": true,
                      "showland": true,
                      "subunitcolor": "#C8D4E3"
                    },
                    "hoverlabel": {
                      "align": "left"
                    },
                    "hovermode": "closest",
                    "mapbox": {
                      "style": "light"
                    },
                    "paper_bgcolor": "white",
                    "plot_bgcolor": "white",
                    "polar": {
                      "angularaxis": {
                        "gridcolor": "#EBF0F8",
                        "linecolor": "#EBF0F8",
                        "ticks": ""
                      },
                      "bgcolor": "white",
                      "radialaxis": {
                        "gridcolor": "#EBF0F8",
                        "linecolor": "#EBF0F8",
                        "ticks": ""
                      }
                    },
                    "scene": {
                      "xaxis": {
                        "backgroundcolor": "white",
                        "gridcolor": "#DFE8F3",
                        "gridwidth": 2,
                        "linecolor": "#EBF0F8",
                        "showbackground": true,
                        "ticks": "",
                        "zerolinecolor": "#EBF0F8"
                      },
                      "yaxis": {
                        "backgroundcolor": "white",
                        "gridcolor": "#DFE8F3",
                        "gridwidth": 2,
                        "linecolor": "#EBF0F8",
                        "showbackground": true,
                        "ticks": "",
                        "zerolinecolor": "#EBF0F8"
                      },
                      "zaxis": {
                        "backgroundcolor": "white",
                        "gridcolor": "#DFE8F3",
                        "gridwidth": 2,
                        "linecolor": "#EBF0F8",
                        "showbackground": true,
                        "ticks": "",
                        "zerolinecolor": "#EBF0F8"
                      }
                    },
                    "shapedefaults": {
                      "line": {
                        "color": "#2a3f5f"
                      }
                    },
                    "ternary": {
                      "aaxis": {
                        "gridcolor": "#DFE8F3",
                        "linecolor": "#A2B1C6",
                        "ticks": ""
                      },
                      "baxis": {
                        "gridcolor": "#DFE8F3",
                        "linecolor": "#A2B1C6",
                        "ticks": ""
                      },
                      "bgcolor": "white",
                      "caxis": {
                        "gridcolor": "#DFE8F3",
                        "linecolor": "#A2B1C6",
                        "ticks": ""
                      }
                    },
                    "title": {
                      "x": 0.05
                    },
                    "xaxis": {
                      "automargin": true,
                      "gridcolor": "#EBF0F8",
                      "linecolor": "#EBF0F8",
                      "ticks": "",
                      "title": {
                        "standoff": 15
                      },
                      "zerolinecolor": "#EBF0F8",
                      "zerolinewidth": 2
                    },
                    "yaxis": {
                      "automargin": true,
                      "gridcolor": "#EBF0F8",
                      "linecolor": "#EBF0F8",
                      "ticks": "",
                      "title": {
                        "standoff": 15
                      },
                      "zerolinecolor": "#EBF0F8",
                      "zerolinewidth": 2
                    }
                  }
                },
                "title": {
                  "text": "Extreme Weather Events vs. Deforestation"
                },
                "xaxis": {
                  "title": {
                    "text": "Year"
                  }
                },
                "yaxis": {
                  "showgrid": false,
                  "side": "left",
                  "title": {
                    "text": "Forest Area (%)"
                  }
                },
                "yaxis2": {
                  "overlaying": "y",
                  "showgrid": false,
                  "side": "right",
                  "title": {
                    "text": "Extreme Weather Events"
                  }
                }
              }
            }
          },
          "metadata": {},
          "output_type": "display_data"
        }
      ],
      "source": [
        "# Aggregate data by year for trend analysis\n",
        "df_grouped = df.groupby(\"Year\").agg({\n",
        "    'Forest_Area_pct': 'mean',          # Example: mean of Forest_Area_pct\n",
        "    'Extreme_Weather_Events': 'mean',   # Example: mean of Extreme_Weather_Events\n",
        "    # Add other numeric columns here with their aggregation method\n",
        "}).reset_index()\n",
        "\n",
        "# Create figure\n",
        "fig = go.Figure()\n",
        "\n",
        "# Add line for Forest Area Percentage\n",
        "fig.add_trace(go.Scatter(x=df_grouped[\"Year\"], y=df_grouped[\"Forest_Area_pct\"],\n",
        "                         mode='lines+markers', name='Forest Area (%)',\n",
        "                         line=dict(color='green')))\n",
        "\n",
        "# Add line for Extreme Weather Events\n",
        "fig.add_trace(go.Scatter(x=df_grouped[\"Year\"], y=df_grouped[\"Extreme_Weather_Events\"],\n",
        "                         mode='lines+markers', name='Extreme Weather Events',\n",
        "                         line=dict(color='red'), yaxis=\"y2\"))\n",
        "\n",
        "# Update layout for dual-axis\n",
        "fig.update_layout(\n",
        "    title=\"Extreme Weather Events vs. Deforestation\",\n",
        "    xaxis=dict(title=\"Year\"),\n",
        "    yaxis=dict(title=\"Forest Area (%)\", side=\"left\", showgrid=False),\n",
        "    yaxis2=dict(title=\"Extreme Weather Events\", side=\"right\", overlaying=\"y\", showgrid=False),\n",
        "    template=\"plotly_white\"\n",
        ")\n",
        "\n",
        "# Show the plot\n",
        "fig.show()"
      ]
    },
    {
      "cell_type": "markdown",
      "metadata": {},
      "source": [
        "# Hypothesis: \"Higher population growth contributes to increased CO2 emissions and rising sea levels.\" \n",
        "\n",
        "* Multi-line chart with population, CO2, and sea level rise."
      ]
    },
    {
      "cell_type": "markdown",
      "metadata": {},
      "source": [
        "The code groups the data by the \"Year\" column, then sums the values of \"Population\", \"CO2_Emissions_tons_per_capita\", and \"Sea_Level_Rise_mm\" for each year. Finally, it checks and prints the columns of the resulting df_grouped DataFrame to ensure that the necessary columns are present."
      ]
    },
    {
      "cell_type": "code",
      "execution_count": 13,
      "metadata": {},
      "outputs": [
        {
          "name": "stdout",
          "output_type": "stream",
          "text": [
            "Index(['Population', 'CO2_Emissions_tons_per_capita', 'Sea_Level_Rise_mm'], dtype='object')\n"
          ]
        }
      ],
      "source": [
        "# Check the grouped data\n",
        "df_grouped = df.groupby(\"Year\")[['Population', 'CO2_Emissions_tons_per_capita', 'Sea_Level_Rise_mm']].sum()\n",
        "print(df_grouped.columns)  # Ensure 'Population' is present"
      ]
    },
    {
      "cell_type": "code",
      "execution_count": 14,
      "metadata": {},
      "outputs": [
        {
          "name": "stdout",
          "output_type": "stream",
          "text": [
            "Index(['Year', 'Country', 'Avg_Temperature_degC',\n",
            "       'CO2_Emissions_tons_per_capita', 'Sea_Level_Rise_mm', 'Rainfall_mm',\n",
            "       'Population', 'Renewable_Energy_pct', 'Extreme_Weather_Events',\n",
            "       'Forest_Area_pct'],\n",
            "      dtype='object')\n",
            "Index(['Population', 'CO2_Emissions_tons_per_capita', 'Sea_Level_Rise_mm'], dtype='object')\n"
          ]
        }
      ],
      "source": [
        "# 1. Check the original column names\n",
        "print(df.columns)\n",
        "\n",
        "# 2. Perform the grouping operation\n",
        "df_grouped = df.groupby(\"Year\")[['Population', 'CO2_Emissions_tons_per_capita', 'Sea_Level_Rise_mm']].sum()\n",
        "\n",
        "# 3. Check the columns after grouping\n",
        "print(df_grouped.columns)\n"
      ]
    },
    {
      "cell_type": "markdown",
      "metadata": {},
      "source": [
        "The code below plots three separate interactive charts: Population over time, CO2 emission per capita over time and Sea level rise over time"
      ]
    },
    {
      "cell_type": "code",
      "execution_count": 15,
      "metadata": {},
      "outputs": [
        {
          "name": "stdout",
          "output_type": "stream",
          "text": [
            "Index(['Year', 'Country', 'Avg_Temperature_degC',\n",
            "       'CO2_Emissions_tons_per_capita', 'Sea_Level_Rise_mm', 'Rainfall_mm',\n",
            "       'Population', 'Renewable_Energy_pct', 'Extreme_Weather_Events',\n",
            "       'Forest_Area_pct'],\n",
            "      dtype='object')\n",
            "Index(['index', 'Year', 'Population', 'CO2_Emissions_tons_per_capita',\n",
            "       'Sea_Level_Rise_mm'],\n",
            "      dtype='object')\n"
          ]
        },
        {
          "data": {
            "application/vnd.plotly.v1+json": {
              "config": {
                "plotlyServerURL": "https://plot.ly"
              },
              "data": [
                {
                  "line": {
                    "color": "blue"
                  },
                  "mode": "lines+markers",
                  "name": "Population",
                  "type": "scatter",
                  "x": [
                    2000,
                    2001,
                    2002,
                    2003,
                    2004,
                    2005,
                    2006,
                    2007,
                    2008,
                    2009,
                    2010,
                    2011,
                    2012,
                    2013,
                    2014,
                    2015,
                    2016,
                    2017,
                    2018,
                    2019,
                    2020,
                    2021,
                    2022,
                    2023
                  ],
                  "y": [
                    33106874222,
                    27180550508,
                    29486389681,
                    27462195566,
                    34627216578,
                    29647998512,
                    28680281598,
                    26291359545,
                    23417013819,
                    23271445680,
                    21627532211,
                    36106019344,
                    29255979125,
                    20335400441,
                    32072245827,
                    27003922941,
                    38379863043,
                    28933562411,
                    31078209629,
                    28678995974,
                    30013257563,
                    32463947580,
                    33791232105,
                    32471552710
                  ]
                }
              ],
              "layout": {
                "template": {
                  "data": {
                    "bar": [
                      {
                        "error_x": {
                          "color": "#f2f5fa"
                        },
                        "error_y": {
                          "color": "#f2f5fa"
                        },
                        "marker": {
                          "line": {
                            "color": "rgb(17,17,17)",
                            "width": 0.5
                          },
                          "pattern": {
                            "fillmode": "overlay",
                            "size": 10,
                            "solidity": 0.2
                          }
                        },
                        "type": "bar"
                      }
                    ],
                    "barpolar": [
                      {
                        "marker": {
                          "line": {
                            "color": "rgb(17,17,17)",
                            "width": 0.5
                          },
                          "pattern": {
                            "fillmode": "overlay",
                            "size": 10,
                            "solidity": 0.2
                          }
                        },
                        "type": "barpolar"
                      }
                    ],
                    "carpet": [
                      {
                        "aaxis": {
                          "endlinecolor": "#A2B1C6",
                          "gridcolor": "#506784",
                          "linecolor": "#506784",
                          "minorgridcolor": "#506784",
                          "startlinecolor": "#A2B1C6"
                        },
                        "baxis": {
                          "endlinecolor": "#A2B1C6",
                          "gridcolor": "#506784",
                          "linecolor": "#506784",
                          "minorgridcolor": "#506784",
                          "startlinecolor": "#A2B1C6"
                        },
                        "type": "carpet"
                      }
                    ],
                    "choropleth": [
                      {
                        "colorbar": {
                          "outlinewidth": 0,
                          "ticks": ""
                        },
                        "type": "choropleth"
                      }
                    ],
                    "contour": [
                      {
                        "colorbar": {
                          "outlinewidth": 0,
                          "ticks": ""
                        },
                        "colorscale": [
                          [
                            0,
                            "#0d0887"
                          ],
                          [
                            0.1111111111111111,
                            "#46039f"
                          ],
                          [
                            0.2222222222222222,
                            "#7201a8"
                          ],
                          [
                            0.3333333333333333,
                            "#9c179e"
                          ],
                          [
                            0.4444444444444444,
                            "#bd3786"
                          ],
                          [
                            0.5555555555555556,
                            "#d8576b"
                          ],
                          [
                            0.6666666666666666,
                            "#ed7953"
                          ],
                          [
                            0.7777777777777778,
                            "#fb9f3a"
                          ],
                          [
                            0.8888888888888888,
                            "#fdca26"
                          ],
                          [
                            1,
                            "#f0f921"
                          ]
                        ],
                        "type": "contour"
                      }
                    ],
                    "contourcarpet": [
                      {
                        "colorbar": {
                          "outlinewidth": 0,
                          "ticks": ""
                        },
                        "type": "contourcarpet"
                      }
                    ],
                    "heatmap": [
                      {
                        "colorbar": {
                          "outlinewidth": 0,
                          "ticks": ""
                        },
                        "colorscale": [
                          [
                            0,
                            "#0d0887"
                          ],
                          [
                            0.1111111111111111,
                            "#46039f"
                          ],
                          [
                            0.2222222222222222,
                            "#7201a8"
                          ],
                          [
                            0.3333333333333333,
                            "#9c179e"
                          ],
                          [
                            0.4444444444444444,
                            "#bd3786"
                          ],
                          [
                            0.5555555555555556,
                            "#d8576b"
                          ],
                          [
                            0.6666666666666666,
                            "#ed7953"
                          ],
                          [
                            0.7777777777777778,
                            "#fb9f3a"
                          ],
                          [
                            0.8888888888888888,
                            "#fdca26"
                          ],
                          [
                            1,
                            "#f0f921"
                          ]
                        ],
                        "type": "heatmap"
                      }
                    ],
                    "heatmapgl": [
                      {
                        "colorbar": {
                          "outlinewidth": 0,
                          "ticks": ""
                        },
                        "colorscale": [
                          [
                            0,
                            "#0d0887"
                          ],
                          [
                            0.1111111111111111,
                            "#46039f"
                          ],
                          [
                            0.2222222222222222,
                            "#7201a8"
                          ],
                          [
                            0.3333333333333333,
                            "#9c179e"
                          ],
                          [
                            0.4444444444444444,
                            "#bd3786"
                          ],
                          [
                            0.5555555555555556,
                            "#d8576b"
                          ],
                          [
                            0.6666666666666666,
                            "#ed7953"
                          ],
                          [
                            0.7777777777777778,
                            "#fb9f3a"
                          ],
                          [
                            0.8888888888888888,
                            "#fdca26"
                          ],
                          [
                            1,
                            "#f0f921"
                          ]
                        ],
                        "type": "heatmapgl"
                      }
                    ],
                    "histogram": [
                      {
                        "marker": {
                          "pattern": {
                            "fillmode": "overlay",
                            "size": 10,
                            "solidity": 0.2
                          }
                        },
                        "type": "histogram"
                      }
                    ],
                    "histogram2d": [
                      {
                        "colorbar": {
                          "outlinewidth": 0,
                          "ticks": ""
                        },
                        "colorscale": [
                          [
                            0,
                            "#0d0887"
                          ],
                          [
                            0.1111111111111111,
                            "#46039f"
                          ],
                          [
                            0.2222222222222222,
                            "#7201a8"
                          ],
                          [
                            0.3333333333333333,
                            "#9c179e"
                          ],
                          [
                            0.4444444444444444,
                            "#bd3786"
                          ],
                          [
                            0.5555555555555556,
                            "#d8576b"
                          ],
                          [
                            0.6666666666666666,
                            "#ed7953"
                          ],
                          [
                            0.7777777777777778,
                            "#fb9f3a"
                          ],
                          [
                            0.8888888888888888,
                            "#fdca26"
                          ],
                          [
                            1,
                            "#f0f921"
                          ]
                        ],
                        "type": "histogram2d"
                      }
                    ],
                    "histogram2dcontour": [
                      {
                        "colorbar": {
                          "outlinewidth": 0,
                          "ticks": ""
                        },
                        "colorscale": [
                          [
                            0,
                            "#0d0887"
                          ],
                          [
                            0.1111111111111111,
                            "#46039f"
                          ],
                          [
                            0.2222222222222222,
                            "#7201a8"
                          ],
                          [
                            0.3333333333333333,
                            "#9c179e"
                          ],
                          [
                            0.4444444444444444,
                            "#bd3786"
                          ],
                          [
                            0.5555555555555556,
                            "#d8576b"
                          ],
                          [
                            0.6666666666666666,
                            "#ed7953"
                          ],
                          [
                            0.7777777777777778,
                            "#fb9f3a"
                          ],
                          [
                            0.8888888888888888,
                            "#fdca26"
                          ],
                          [
                            1,
                            "#f0f921"
                          ]
                        ],
                        "type": "histogram2dcontour"
                      }
                    ],
                    "mesh3d": [
                      {
                        "colorbar": {
                          "outlinewidth": 0,
                          "ticks": ""
                        },
                        "type": "mesh3d"
                      }
                    ],
                    "parcoords": [
                      {
                        "line": {
                          "colorbar": {
                            "outlinewidth": 0,
                            "ticks": ""
                          }
                        },
                        "type": "parcoords"
                      }
                    ],
                    "pie": [
                      {
                        "automargin": true,
                        "type": "pie"
                      }
                    ],
                    "scatter": [
                      {
                        "marker": {
                          "line": {
                            "color": "#283442"
                          }
                        },
                        "type": "scatter"
                      }
                    ],
                    "scatter3d": [
                      {
                        "line": {
                          "colorbar": {
                            "outlinewidth": 0,
                            "ticks": ""
                          }
                        },
                        "marker": {
                          "colorbar": {
                            "outlinewidth": 0,
                            "ticks": ""
                          }
                        },
                        "type": "scatter3d"
                      }
                    ],
                    "scattercarpet": [
                      {
                        "marker": {
                          "colorbar": {
                            "outlinewidth": 0,
                            "ticks": ""
                          }
                        },
                        "type": "scattercarpet"
                      }
                    ],
                    "scattergeo": [
                      {
                        "marker": {
                          "colorbar": {
                            "outlinewidth": 0,
                            "ticks": ""
                          }
                        },
                        "type": "scattergeo"
                      }
                    ],
                    "scattergl": [
                      {
                        "marker": {
                          "line": {
                            "color": "#283442"
                          }
                        },
                        "type": "scattergl"
                      }
                    ],
                    "scattermapbox": [
                      {
                        "marker": {
                          "colorbar": {
                            "outlinewidth": 0,
                            "ticks": ""
                          }
                        },
                        "type": "scattermapbox"
                      }
                    ],
                    "scatterpolar": [
                      {
                        "marker": {
                          "colorbar": {
                            "outlinewidth": 0,
                            "ticks": ""
                          }
                        },
                        "type": "scatterpolar"
                      }
                    ],
                    "scatterpolargl": [
                      {
                        "marker": {
                          "colorbar": {
                            "outlinewidth": 0,
                            "ticks": ""
                          }
                        },
                        "type": "scatterpolargl"
                      }
                    ],
                    "scatterternary": [
                      {
                        "marker": {
                          "colorbar": {
                            "outlinewidth": 0,
                            "ticks": ""
                          }
                        },
                        "type": "scatterternary"
                      }
                    ],
                    "surface": [
                      {
                        "colorbar": {
                          "outlinewidth": 0,
                          "ticks": ""
                        },
                        "colorscale": [
                          [
                            0,
                            "#0d0887"
                          ],
                          [
                            0.1111111111111111,
                            "#46039f"
                          ],
                          [
                            0.2222222222222222,
                            "#7201a8"
                          ],
                          [
                            0.3333333333333333,
                            "#9c179e"
                          ],
                          [
                            0.4444444444444444,
                            "#bd3786"
                          ],
                          [
                            0.5555555555555556,
                            "#d8576b"
                          ],
                          [
                            0.6666666666666666,
                            "#ed7953"
                          ],
                          [
                            0.7777777777777778,
                            "#fb9f3a"
                          ],
                          [
                            0.8888888888888888,
                            "#fdca26"
                          ],
                          [
                            1,
                            "#f0f921"
                          ]
                        ],
                        "type": "surface"
                      }
                    ],
                    "table": [
                      {
                        "cells": {
                          "fill": {
                            "color": "#506784"
                          },
                          "line": {
                            "color": "rgb(17,17,17)"
                          }
                        },
                        "header": {
                          "fill": {
                            "color": "#2a3f5f"
                          },
                          "line": {
                            "color": "rgb(17,17,17)"
                          }
                        },
                        "type": "table"
                      }
                    ]
                  },
                  "layout": {
                    "annotationdefaults": {
                      "arrowcolor": "#f2f5fa",
                      "arrowhead": 0,
                      "arrowwidth": 1
                    },
                    "autotypenumbers": "strict",
                    "coloraxis": {
                      "colorbar": {
                        "outlinewidth": 0,
                        "ticks": ""
                      }
                    },
                    "colorscale": {
                      "diverging": [
                        [
                          0,
                          "#8e0152"
                        ],
                        [
                          0.1,
                          "#c51b7d"
                        ],
                        [
                          0.2,
                          "#de77ae"
                        ],
                        [
                          0.3,
                          "#f1b6da"
                        ],
                        [
                          0.4,
                          "#fde0ef"
                        ],
                        [
                          0.5,
                          "#f7f7f7"
                        ],
                        [
                          0.6,
                          "#e6f5d0"
                        ],
                        [
                          0.7,
                          "#b8e186"
                        ],
                        [
                          0.8,
                          "#7fbc41"
                        ],
                        [
                          0.9,
                          "#4d9221"
                        ],
                        [
                          1,
                          "#276419"
                        ]
                      ],
                      "sequential": [
                        [
                          0,
                          "#0d0887"
                        ],
                        [
                          0.1111111111111111,
                          "#46039f"
                        ],
                        [
                          0.2222222222222222,
                          "#7201a8"
                        ],
                        [
                          0.3333333333333333,
                          "#9c179e"
                        ],
                        [
                          0.4444444444444444,
                          "#bd3786"
                        ],
                        [
                          0.5555555555555556,
                          "#d8576b"
                        ],
                        [
                          0.6666666666666666,
                          "#ed7953"
                        ],
                        [
                          0.7777777777777778,
                          "#fb9f3a"
                        ],
                        [
                          0.8888888888888888,
                          "#fdca26"
                        ],
                        [
                          1,
                          "#f0f921"
                        ]
                      ],
                      "sequentialminus": [
                        [
                          0,
                          "#0d0887"
                        ],
                        [
                          0.1111111111111111,
                          "#46039f"
                        ],
                        [
                          0.2222222222222222,
                          "#7201a8"
                        ],
                        [
                          0.3333333333333333,
                          "#9c179e"
                        ],
                        [
                          0.4444444444444444,
                          "#bd3786"
                        ],
                        [
                          0.5555555555555556,
                          "#d8576b"
                        ],
                        [
                          0.6666666666666666,
                          "#ed7953"
                        ],
                        [
                          0.7777777777777778,
                          "#fb9f3a"
                        ],
                        [
                          0.8888888888888888,
                          "#fdca26"
                        ],
                        [
                          1,
                          "#f0f921"
                        ]
                      ]
                    },
                    "colorway": [
                      "#636efa",
                      "#EF553B",
                      "#00cc96",
                      "#ab63fa",
                      "#FFA15A",
                      "#19d3f3",
                      "#FF6692",
                      "#B6E880",
                      "#FF97FF",
                      "#FECB52"
                    ],
                    "font": {
                      "color": "#f2f5fa"
                    },
                    "geo": {
                      "bgcolor": "rgb(17,17,17)",
                      "lakecolor": "rgb(17,17,17)",
                      "landcolor": "rgb(17,17,17)",
                      "showlakes": true,
                      "showland": true,
                      "subunitcolor": "#506784"
                    },
                    "hoverlabel": {
                      "align": "left"
                    },
                    "hovermode": "closest",
                    "mapbox": {
                      "style": "dark"
                    },
                    "paper_bgcolor": "rgb(17,17,17)",
                    "plot_bgcolor": "rgb(17,17,17)",
                    "polar": {
                      "angularaxis": {
                        "gridcolor": "#506784",
                        "linecolor": "#506784",
                        "ticks": ""
                      },
                      "bgcolor": "rgb(17,17,17)",
                      "radialaxis": {
                        "gridcolor": "#506784",
                        "linecolor": "#506784",
                        "ticks": ""
                      }
                    },
                    "scene": {
                      "xaxis": {
                        "backgroundcolor": "rgb(17,17,17)",
                        "gridcolor": "#506784",
                        "gridwidth": 2,
                        "linecolor": "#506784",
                        "showbackground": true,
                        "ticks": "",
                        "zerolinecolor": "#C8D4E3"
                      },
                      "yaxis": {
                        "backgroundcolor": "rgb(17,17,17)",
                        "gridcolor": "#506784",
                        "gridwidth": 2,
                        "linecolor": "#506784",
                        "showbackground": true,
                        "ticks": "",
                        "zerolinecolor": "#C8D4E3"
                      },
                      "zaxis": {
                        "backgroundcolor": "rgb(17,17,17)",
                        "gridcolor": "#506784",
                        "gridwidth": 2,
                        "linecolor": "#506784",
                        "showbackground": true,
                        "ticks": "",
                        "zerolinecolor": "#C8D4E3"
                      }
                    },
                    "shapedefaults": {
                      "line": {
                        "color": "#f2f5fa"
                      }
                    },
                    "sliderdefaults": {
                      "bgcolor": "#C8D4E3",
                      "bordercolor": "rgb(17,17,17)",
                      "borderwidth": 1,
                      "tickwidth": 0
                    },
                    "ternary": {
                      "aaxis": {
                        "gridcolor": "#506784",
                        "linecolor": "#506784",
                        "ticks": ""
                      },
                      "baxis": {
                        "gridcolor": "#506784",
                        "linecolor": "#506784",
                        "ticks": ""
                      },
                      "bgcolor": "rgb(17,17,17)",
                      "caxis": {
                        "gridcolor": "#506784",
                        "linecolor": "#506784",
                        "ticks": ""
                      }
                    },
                    "title": {
                      "x": 0.05
                    },
                    "updatemenudefaults": {
                      "bgcolor": "#506784",
                      "borderwidth": 0
                    },
                    "xaxis": {
                      "automargin": true,
                      "gridcolor": "#283442",
                      "linecolor": "#506784",
                      "ticks": "",
                      "title": {
                        "standoff": 15
                      },
                      "zerolinecolor": "#283442",
                      "zerolinewidth": 2
                    },
                    "yaxis": {
                      "automargin": true,
                      "gridcolor": "#283442",
                      "linecolor": "#506784",
                      "ticks": "",
                      "title": {
                        "standoff": 15
                      },
                      "zerolinecolor": "#283442",
                      "zerolinewidth": 2
                    }
                  }
                },
                "title": {
                  "text": "Population Over Time"
                },
                "xaxis": {
                  "title": {
                    "text": "Year"
                  }
                },
                "yaxis": {
                  "title": {
                    "text": "Population"
                  }
                }
              }
            }
          },
          "metadata": {},
          "output_type": "display_data"
        },
        {
          "data": {
            "application/vnd.plotly.v1+json": {
              "config": {
                "plotlyServerURL": "https://plot.ly"
              },
              "data": [
                {
                  "line": {
                    "color": "green"
                  },
                  "mode": "lines+markers",
                  "name": "CO2 Emissions per capita",
                  "type": "scatter",
                  "x": [
                    2000,
                    2001,
                    2002,
                    2003,
                    2004,
                    2005,
                    2006,
                    2007,
                    2008,
                    2009,
                    2010,
                    2011,
                    2012,
                    2013,
                    2014,
                    2015,
                    2016,
                    2017,
                    2018,
                    2019,
                    2020,
                    2021,
                    2022,
                    2023
                  ],
                  "y": [
                    11.224528301886792,
                    9.929268292682927,
                    9.933333333333334,
                    11.085365853658537,
                    10,
                    8.537837837837838,
                    10.497435897435897,
                    10.334999999999999,
                    10.375,
                    10.363636363636363,
                    9.873333333333333,
                    9.80909090909091,
                    10.640476190476189,
                    11.135483870967741,
                    11.409090909090908,
                    9.667441860465116,
                    10.398039215686273,
                    8.234375,
                    10.443478260869565,
                    9.8125,
                    10.246511627906978,
                    11.521739130434783,
                    12.326666666666668,
                    11.402380952380952
                  ]
                }
              ],
              "layout": {
                "template": {
                  "data": {
                    "bar": [
                      {
                        "error_x": {
                          "color": "#f2f5fa"
                        },
                        "error_y": {
                          "color": "#f2f5fa"
                        },
                        "marker": {
                          "line": {
                            "color": "rgb(17,17,17)",
                            "width": 0.5
                          },
                          "pattern": {
                            "fillmode": "overlay",
                            "size": 10,
                            "solidity": 0.2
                          }
                        },
                        "type": "bar"
                      }
                    ],
                    "barpolar": [
                      {
                        "marker": {
                          "line": {
                            "color": "rgb(17,17,17)",
                            "width": 0.5
                          },
                          "pattern": {
                            "fillmode": "overlay",
                            "size": 10,
                            "solidity": 0.2
                          }
                        },
                        "type": "barpolar"
                      }
                    ],
                    "carpet": [
                      {
                        "aaxis": {
                          "endlinecolor": "#A2B1C6",
                          "gridcolor": "#506784",
                          "linecolor": "#506784",
                          "minorgridcolor": "#506784",
                          "startlinecolor": "#A2B1C6"
                        },
                        "baxis": {
                          "endlinecolor": "#A2B1C6",
                          "gridcolor": "#506784",
                          "linecolor": "#506784",
                          "minorgridcolor": "#506784",
                          "startlinecolor": "#A2B1C6"
                        },
                        "type": "carpet"
                      }
                    ],
                    "choropleth": [
                      {
                        "colorbar": {
                          "outlinewidth": 0,
                          "ticks": ""
                        },
                        "type": "choropleth"
                      }
                    ],
                    "contour": [
                      {
                        "colorbar": {
                          "outlinewidth": 0,
                          "ticks": ""
                        },
                        "colorscale": [
                          [
                            0,
                            "#0d0887"
                          ],
                          [
                            0.1111111111111111,
                            "#46039f"
                          ],
                          [
                            0.2222222222222222,
                            "#7201a8"
                          ],
                          [
                            0.3333333333333333,
                            "#9c179e"
                          ],
                          [
                            0.4444444444444444,
                            "#bd3786"
                          ],
                          [
                            0.5555555555555556,
                            "#d8576b"
                          ],
                          [
                            0.6666666666666666,
                            "#ed7953"
                          ],
                          [
                            0.7777777777777778,
                            "#fb9f3a"
                          ],
                          [
                            0.8888888888888888,
                            "#fdca26"
                          ],
                          [
                            1,
                            "#f0f921"
                          ]
                        ],
                        "type": "contour"
                      }
                    ],
                    "contourcarpet": [
                      {
                        "colorbar": {
                          "outlinewidth": 0,
                          "ticks": ""
                        },
                        "type": "contourcarpet"
                      }
                    ],
                    "heatmap": [
                      {
                        "colorbar": {
                          "outlinewidth": 0,
                          "ticks": ""
                        },
                        "colorscale": [
                          [
                            0,
                            "#0d0887"
                          ],
                          [
                            0.1111111111111111,
                            "#46039f"
                          ],
                          [
                            0.2222222222222222,
                            "#7201a8"
                          ],
                          [
                            0.3333333333333333,
                            "#9c179e"
                          ],
                          [
                            0.4444444444444444,
                            "#bd3786"
                          ],
                          [
                            0.5555555555555556,
                            "#d8576b"
                          ],
                          [
                            0.6666666666666666,
                            "#ed7953"
                          ],
                          [
                            0.7777777777777778,
                            "#fb9f3a"
                          ],
                          [
                            0.8888888888888888,
                            "#fdca26"
                          ],
                          [
                            1,
                            "#f0f921"
                          ]
                        ],
                        "type": "heatmap"
                      }
                    ],
                    "heatmapgl": [
                      {
                        "colorbar": {
                          "outlinewidth": 0,
                          "ticks": ""
                        },
                        "colorscale": [
                          [
                            0,
                            "#0d0887"
                          ],
                          [
                            0.1111111111111111,
                            "#46039f"
                          ],
                          [
                            0.2222222222222222,
                            "#7201a8"
                          ],
                          [
                            0.3333333333333333,
                            "#9c179e"
                          ],
                          [
                            0.4444444444444444,
                            "#bd3786"
                          ],
                          [
                            0.5555555555555556,
                            "#d8576b"
                          ],
                          [
                            0.6666666666666666,
                            "#ed7953"
                          ],
                          [
                            0.7777777777777778,
                            "#fb9f3a"
                          ],
                          [
                            0.8888888888888888,
                            "#fdca26"
                          ],
                          [
                            1,
                            "#f0f921"
                          ]
                        ],
                        "type": "heatmapgl"
                      }
                    ],
                    "histogram": [
                      {
                        "marker": {
                          "pattern": {
                            "fillmode": "overlay",
                            "size": 10,
                            "solidity": 0.2
                          }
                        },
                        "type": "histogram"
                      }
                    ],
                    "histogram2d": [
                      {
                        "colorbar": {
                          "outlinewidth": 0,
                          "ticks": ""
                        },
                        "colorscale": [
                          [
                            0,
                            "#0d0887"
                          ],
                          [
                            0.1111111111111111,
                            "#46039f"
                          ],
                          [
                            0.2222222222222222,
                            "#7201a8"
                          ],
                          [
                            0.3333333333333333,
                            "#9c179e"
                          ],
                          [
                            0.4444444444444444,
                            "#bd3786"
                          ],
                          [
                            0.5555555555555556,
                            "#d8576b"
                          ],
                          [
                            0.6666666666666666,
                            "#ed7953"
                          ],
                          [
                            0.7777777777777778,
                            "#fb9f3a"
                          ],
                          [
                            0.8888888888888888,
                            "#fdca26"
                          ],
                          [
                            1,
                            "#f0f921"
                          ]
                        ],
                        "type": "histogram2d"
                      }
                    ],
                    "histogram2dcontour": [
                      {
                        "colorbar": {
                          "outlinewidth": 0,
                          "ticks": ""
                        },
                        "colorscale": [
                          [
                            0,
                            "#0d0887"
                          ],
                          [
                            0.1111111111111111,
                            "#46039f"
                          ],
                          [
                            0.2222222222222222,
                            "#7201a8"
                          ],
                          [
                            0.3333333333333333,
                            "#9c179e"
                          ],
                          [
                            0.4444444444444444,
                            "#bd3786"
                          ],
                          [
                            0.5555555555555556,
                            "#d8576b"
                          ],
                          [
                            0.6666666666666666,
                            "#ed7953"
                          ],
                          [
                            0.7777777777777778,
                            "#fb9f3a"
                          ],
                          [
                            0.8888888888888888,
                            "#fdca26"
                          ],
                          [
                            1,
                            "#f0f921"
                          ]
                        ],
                        "type": "histogram2dcontour"
                      }
                    ],
                    "mesh3d": [
                      {
                        "colorbar": {
                          "outlinewidth": 0,
                          "ticks": ""
                        },
                        "type": "mesh3d"
                      }
                    ],
                    "parcoords": [
                      {
                        "line": {
                          "colorbar": {
                            "outlinewidth": 0,
                            "ticks": ""
                          }
                        },
                        "type": "parcoords"
                      }
                    ],
                    "pie": [
                      {
                        "automargin": true,
                        "type": "pie"
                      }
                    ],
                    "scatter": [
                      {
                        "marker": {
                          "line": {
                            "color": "#283442"
                          }
                        },
                        "type": "scatter"
                      }
                    ],
                    "scatter3d": [
                      {
                        "line": {
                          "colorbar": {
                            "outlinewidth": 0,
                            "ticks": ""
                          }
                        },
                        "marker": {
                          "colorbar": {
                            "outlinewidth": 0,
                            "ticks": ""
                          }
                        },
                        "type": "scatter3d"
                      }
                    ],
                    "scattercarpet": [
                      {
                        "marker": {
                          "colorbar": {
                            "outlinewidth": 0,
                            "ticks": ""
                          }
                        },
                        "type": "scattercarpet"
                      }
                    ],
                    "scattergeo": [
                      {
                        "marker": {
                          "colorbar": {
                            "outlinewidth": 0,
                            "ticks": ""
                          }
                        },
                        "type": "scattergeo"
                      }
                    ],
                    "scattergl": [
                      {
                        "marker": {
                          "line": {
                            "color": "#283442"
                          }
                        },
                        "type": "scattergl"
                      }
                    ],
                    "scattermapbox": [
                      {
                        "marker": {
                          "colorbar": {
                            "outlinewidth": 0,
                            "ticks": ""
                          }
                        },
                        "type": "scattermapbox"
                      }
                    ],
                    "scatterpolar": [
                      {
                        "marker": {
                          "colorbar": {
                            "outlinewidth": 0,
                            "ticks": ""
                          }
                        },
                        "type": "scatterpolar"
                      }
                    ],
                    "scatterpolargl": [
                      {
                        "marker": {
                          "colorbar": {
                            "outlinewidth": 0,
                            "ticks": ""
                          }
                        },
                        "type": "scatterpolargl"
                      }
                    ],
                    "scatterternary": [
                      {
                        "marker": {
                          "colorbar": {
                            "outlinewidth": 0,
                            "ticks": ""
                          }
                        },
                        "type": "scatterternary"
                      }
                    ],
                    "surface": [
                      {
                        "colorbar": {
                          "outlinewidth": 0,
                          "ticks": ""
                        },
                        "colorscale": [
                          [
                            0,
                            "#0d0887"
                          ],
                          [
                            0.1111111111111111,
                            "#46039f"
                          ],
                          [
                            0.2222222222222222,
                            "#7201a8"
                          ],
                          [
                            0.3333333333333333,
                            "#9c179e"
                          ],
                          [
                            0.4444444444444444,
                            "#bd3786"
                          ],
                          [
                            0.5555555555555556,
                            "#d8576b"
                          ],
                          [
                            0.6666666666666666,
                            "#ed7953"
                          ],
                          [
                            0.7777777777777778,
                            "#fb9f3a"
                          ],
                          [
                            0.8888888888888888,
                            "#fdca26"
                          ],
                          [
                            1,
                            "#f0f921"
                          ]
                        ],
                        "type": "surface"
                      }
                    ],
                    "table": [
                      {
                        "cells": {
                          "fill": {
                            "color": "#506784"
                          },
                          "line": {
                            "color": "rgb(17,17,17)"
                          }
                        },
                        "header": {
                          "fill": {
                            "color": "#2a3f5f"
                          },
                          "line": {
                            "color": "rgb(17,17,17)"
                          }
                        },
                        "type": "table"
                      }
                    ]
                  },
                  "layout": {
                    "annotationdefaults": {
                      "arrowcolor": "#f2f5fa",
                      "arrowhead": 0,
                      "arrowwidth": 1
                    },
                    "autotypenumbers": "strict",
                    "coloraxis": {
                      "colorbar": {
                        "outlinewidth": 0,
                        "ticks": ""
                      }
                    },
                    "colorscale": {
                      "diverging": [
                        [
                          0,
                          "#8e0152"
                        ],
                        [
                          0.1,
                          "#c51b7d"
                        ],
                        [
                          0.2,
                          "#de77ae"
                        ],
                        [
                          0.3,
                          "#f1b6da"
                        ],
                        [
                          0.4,
                          "#fde0ef"
                        ],
                        [
                          0.5,
                          "#f7f7f7"
                        ],
                        [
                          0.6,
                          "#e6f5d0"
                        ],
                        [
                          0.7,
                          "#b8e186"
                        ],
                        [
                          0.8,
                          "#7fbc41"
                        ],
                        [
                          0.9,
                          "#4d9221"
                        ],
                        [
                          1,
                          "#276419"
                        ]
                      ],
                      "sequential": [
                        [
                          0,
                          "#0d0887"
                        ],
                        [
                          0.1111111111111111,
                          "#46039f"
                        ],
                        [
                          0.2222222222222222,
                          "#7201a8"
                        ],
                        [
                          0.3333333333333333,
                          "#9c179e"
                        ],
                        [
                          0.4444444444444444,
                          "#bd3786"
                        ],
                        [
                          0.5555555555555556,
                          "#d8576b"
                        ],
                        [
                          0.6666666666666666,
                          "#ed7953"
                        ],
                        [
                          0.7777777777777778,
                          "#fb9f3a"
                        ],
                        [
                          0.8888888888888888,
                          "#fdca26"
                        ],
                        [
                          1,
                          "#f0f921"
                        ]
                      ],
                      "sequentialminus": [
                        [
                          0,
                          "#0d0887"
                        ],
                        [
                          0.1111111111111111,
                          "#46039f"
                        ],
                        [
                          0.2222222222222222,
                          "#7201a8"
                        ],
                        [
                          0.3333333333333333,
                          "#9c179e"
                        ],
                        [
                          0.4444444444444444,
                          "#bd3786"
                        ],
                        [
                          0.5555555555555556,
                          "#d8576b"
                        ],
                        [
                          0.6666666666666666,
                          "#ed7953"
                        ],
                        [
                          0.7777777777777778,
                          "#fb9f3a"
                        ],
                        [
                          0.8888888888888888,
                          "#fdca26"
                        ],
                        [
                          1,
                          "#f0f921"
                        ]
                      ]
                    },
                    "colorway": [
                      "#636efa",
                      "#EF553B",
                      "#00cc96",
                      "#ab63fa",
                      "#FFA15A",
                      "#19d3f3",
                      "#FF6692",
                      "#B6E880",
                      "#FF97FF",
                      "#FECB52"
                    ],
                    "font": {
                      "color": "#f2f5fa"
                    },
                    "geo": {
                      "bgcolor": "rgb(17,17,17)",
                      "lakecolor": "rgb(17,17,17)",
                      "landcolor": "rgb(17,17,17)",
                      "showlakes": true,
                      "showland": true,
                      "subunitcolor": "#506784"
                    },
                    "hoverlabel": {
                      "align": "left"
                    },
                    "hovermode": "closest",
                    "mapbox": {
                      "style": "dark"
                    },
                    "paper_bgcolor": "rgb(17,17,17)",
                    "plot_bgcolor": "rgb(17,17,17)",
                    "polar": {
                      "angularaxis": {
                        "gridcolor": "#506784",
                        "linecolor": "#506784",
                        "ticks": ""
                      },
                      "bgcolor": "rgb(17,17,17)",
                      "radialaxis": {
                        "gridcolor": "#506784",
                        "linecolor": "#506784",
                        "ticks": ""
                      }
                    },
                    "scene": {
                      "xaxis": {
                        "backgroundcolor": "rgb(17,17,17)",
                        "gridcolor": "#506784",
                        "gridwidth": 2,
                        "linecolor": "#506784",
                        "showbackground": true,
                        "ticks": "",
                        "zerolinecolor": "#C8D4E3"
                      },
                      "yaxis": {
                        "backgroundcolor": "rgb(17,17,17)",
                        "gridcolor": "#506784",
                        "gridwidth": 2,
                        "linecolor": "#506784",
                        "showbackground": true,
                        "ticks": "",
                        "zerolinecolor": "#C8D4E3"
                      },
                      "zaxis": {
                        "backgroundcolor": "rgb(17,17,17)",
                        "gridcolor": "#506784",
                        "gridwidth": 2,
                        "linecolor": "#506784",
                        "showbackground": true,
                        "ticks": "",
                        "zerolinecolor": "#C8D4E3"
                      }
                    },
                    "shapedefaults": {
                      "line": {
                        "color": "#f2f5fa"
                      }
                    },
                    "sliderdefaults": {
                      "bgcolor": "#C8D4E3",
                      "bordercolor": "rgb(17,17,17)",
                      "borderwidth": 1,
                      "tickwidth": 0
                    },
                    "ternary": {
                      "aaxis": {
                        "gridcolor": "#506784",
                        "linecolor": "#506784",
                        "ticks": ""
                      },
                      "baxis": {
                        "gridcolor": "#506784",
                        "linecolor": "#506784",
                        "ticks": ""
                      },
                      "bgcolor": "rgb(17,17,17)",
                      "caxis": {
                        "gridcolor": "#506784",
                        "linecolor": "#506784",
                        "ticks": ""
                      }
                    },
                    "title": {
                      "x": 0.05
                    },
                    "updatemenudefaults": {
                      "bgcolor": "#506784",
                      "borderwidth": 0
                    },
                    "xaxis": {
                      "automargin": true,
                      "gridcolor": "#283442",
                      "linecolor": "#506784",
                      "ticks": "",
                      "title": {
                        "standoff": 15
                      },
                      "zerolinecolor": "#283442",
                      "zerolinewidth": 2
                    },
                    "yaxis": {
                      "automargin": true,
                      "gridcolor": "#283442",
                      "linecolor": "#506784",
                      "ticks": "",
                      "title": {
                        "standoff": 15
                      },
                      "zerolinecolor": "#283442",
                      "zerolinewidth": 2
                    }
                  }
                },
                "title": {
                  "text": "CO2 Emissions per capita Over Time"
                },
                "xaxis": {
                  "title": {
                    "text": "Year"
                  }
                },
                "yaxis": {
                  "title": {
                    "text": "CO2 Emissions (tons per capita)"
                  }
                }
              }
            }
          },
          "metadata": {},
          "output_type": "display_data"
        },
        {
          "data": {
            "application/vnd.plotly.v1+json": {
              "config": {
                "plotlyServerURL": "https://plot.ly"
              },
              "data": [
                {
                  "line": {
                    "color": "red"
                  },
                  "mode": "lines+markers",
                  "name": "Sea Level Rise (mm)",
                  "type": "scatter",
                  "x": [
                    2000,
                    2001,
                    2002,
                    2003,
                    2004,
                    2005,
                    2006,
                    2007,
                    2008,
                    2009,
                    2010,
                    2011,
                    2012,
                    2013,
                    2014,
                    2015,
                    2016,
                    2017,
                    2018,
                    2019,
                    2020,
                    2021,
                    2022,
                    2023
                  ],
                  "y": [
                    2.939622641509434,
                    3.273170731707317,
                    2.952941176470588,
                    2.9341463414634146,
                    2.79,
                    2.937837837837838,
                    3.0564102564102567,
                    2.8225000000000002,
                    3.0305555555555554,
                    2.7606060606060603,
                    3.1300000000000003,
                    3.027272727272727,
                    2.95,
                    2.97741935483871,
                    3.122727272727273,
                    3.0534883720930237,
                    3.007843137254902,
                    2.875,
                    3.0217391304347827,
                    3.2,
                    3.309302325581396,
                    3.0869565217391304,
                    2.96,
                    3.007142857142857
                  ]
                }
              ],
              "layout": {
                "template": {
                  "data": {
                    "bar": [
                      {
                        "error_x": {
                          "color": "#f2f5fa"
                        },
                        "error_y": {
                          "color": "#f2f5fa"
                        },
                        "marker": {
                          "line": {
                            "color": "rgb(17,17,17)",
                            "width": 0.5
                          },
                          "pattern": {
                            "fillmode": "overlay",
                            "size": 10,
                            "solidity": 0.2
                          }
                        },
                        "type": "bar"
                      }
                    ],
                    "barpolar": [
                      {
                        "marker": {
                          "line": {
                            "color": "rgb(17,17,17)",
                            "width": 0.5
                          },
                          "pattern": {
                            "fillmode": "overlay",
                            "size": 10,
                            "solidity": 0.2
                          }
                        },
                        "type": "barpolar"
                      }
                    ],
                    "carpet": [
                      {
                        "aaxis": {
                          "endlinecolor": "#A2B1C6",
                          "gridcolor": "#506784",
                          "linecolor": "#506784",
                          "minorgridcolor": "#506784",
                          "startlinecolor": "#A2B1C6"
                        },
                        "baxis": {
                          "endlinecolor": "#A2B1C6",
                          "gridcolor": "#506784",
                          "linecolor": "#506784",
                          "minorgridcolor": "#506784",
                          "startlinecolor": "#A2B1C6"
                        },
                        "type": "carpet"
                      }
                    ],
                    "choropleth": [
                      {
                        "colorbar": {
                          "outlinewidth": 0,
                          "ticks": ""
                        },
                        "type": "choropleth"
                      }
                    ],
                    "contour": [
                      {
                        "colorbar": {
                          "outlinewidth": 0,
                          "ticks": ""
                        },
                        "colorscale": [
                          [
                            0,
                            "#0d0887"
                          ],
                          [
                            0.1111111111111111,
                            "#46039f"
                          ],
                          [
                            0.2222222222222222,
                            "#7201a8"
                          ],
                          [
                            0.3333333333333333,
                            "#9c179e"
                          ],
                          [
                            0.4444444444444444,
                            "#bd3786"
                          ],
                          [
                            0.5555555555555556,
                            "#d8576b"
                          ],
                          [
                            0.6666666666666666,
                            "#ed7953"
                          ],
                          [
                            0.7777777777777778,
                            "#fb9f3a"
                          ],
                          [
                            0.8888888888888888,
                            "#fdca26"
                          ],
                          [
                            1,
                            "#f0f921"
                          ]
                        ],
                        "type": "contour"
                      }
                    ],
                    "contourcarpet": [
                      {
                        "colorbar": {
                          "outlinewidth": 0,
                          "ticks": ""
                        },
                        "type": "contourcarpet"
                      }
                    ],
                    "heatmap": [
                      {
                        "colorbar": {
                          "outlinewidth": 0,
                          "ticks": ""
                        },
                        "colorscale": [
                          [
                            0,
                            "#0d0887"
                          ],
                          [
                            0.1111111111111111,
                            "#46039f"
                          ],
                          [
                            0.2222222222222222,
                            "#7201a8"
                          ],
                          [
                            0.3333333333333333,
                            "#9c179e"
                          ],
                          [
                            0.4444444444444444,
                            "#bd3786"
                          ],
                          [
                            0.5555555555555556,
                            "#d8576b"
                          ],
                          [
                            0.6666666666666666,
                            "#ed7953"
                          ],
                          [
                            0.7777777777777778,
                            "#fb9f3a"
                          ],
                          [
                            0.8888888888888888,
                            "#fdca26"
                          ],
                          [
                            1,
                            "#f0f921"
                          ]
                        ],
                        "type": "heatmap"
                      }
                    ],
                    "heatmapgl": [
                      {
                        "colorbar": {
                          "outlinewidth": 0,
                          "ticks": ""
                        },
                        "colorscale": [
                          [
                            0,
                            "#0d0887"
                          ],
                          [
                            0.1111111111111111,
                            "#46039f"
                          ],
                          [
                            0.2222222222222222,
                            "#7201a8"
                          ],
                          [
                            0.3333333333333333,
                            "#9c179e"
                          ],
                          [
                            0.4444444444444444,
                            "#bd3786"
                          ],
                          [
                            0.5555555555555556,
                            "#d8576b"
                          ],
                          [
                            0.6666666666666666,
                            "#ed7953"
                          ],
                          [
                            0.7777777777777778,
                            "#fb9f3a"
                          ],
                          [
                            0.8888888888888888,
                            "#fdca26"
                          ],
                          [
                            1,
                            "#f0f921"
                          ]
                        ],
                        "type": "heatmapgl"
                      }
                    ],
                    "histogram": [
                      {
                        "marker": {
                          "pattern": {
                            "fillmode": "overlay",
                            "size": 10,
                            "solidity": 0.2
                          }
                        },
                        "type": "histogram"
                      }
                    ],
                    "histogram2d": [
                      {
                        "colorbar": {
                          "outlinewidth": 0,
                          "ticks": ""
                        },
                        "colorscale": [
                          [
                            0,
                            "#0d0887"
                          ],
                          [
                            0.1111111111111111,
                            "#46039f"
                          ],
                          [
                            0.2222222222222222,
                            "#7201a8"
                          ],
                          [
                            0.3333333333333333,
                            "#9c179e"
                          ],
                          [
                            0.4444444444444444,
                            "#bd3786"
                          ],
                          [
                            0.5555555555555556,
                            "#d8576b"
                          ],
                          [
                            0.6666666666666666,
                            "#ed7953"
                          ],
                          [
                            0.7777777777777778,
                            "#fb9f3a"
                          ],
                          [
                            0.8888888888888888,
                            "#fdca26"
                          ],
                          [
                            1,
                            "#f0f921"
                          ]
                        ],
                        "type": "histogram2d"
                      }
                    ],
                    "histogram2dcontour": [
                      {
                        "colorbar": {
                          "outlinewidth": 0,
                          "ticks": ""
                        },
                        "colorscale": [
                          [
                            0,
                            "#0d0887"
                          ],
                          [
                            0.1111111111111111,
                            "#46039f"
                          ],
                          [
                            0.2222222222222222,
                            "#7201a8"
                          ],
                          [
                            0.3333333333333333,
                            "#9c179e"
                          ],
                          [
                            0.4444444444444444,
                            "#bd3786"
                          ],
                          [
                            0.5555555555555556,
                            "#d8576b"
                          ],
                          [
                            0.6666666666666666,
                            "#ed7953"
                          ],
                          [
                            0.7777777777777778,
                            "#fb9f3a"
                          ],
                          [
                            0.8888888888888888,
                            "#fdca26"
                          ],
                          [
                            1,
                            "#f0f921"
                          ]
                        ],
                        "type": "histogram2dcontour"
                      }
                    ],
                    "mesh3d": [
                      {
                        "colorbar": {
                          "outlinewidth": 0,
                          "ticks": ""
                        },
                        "type": "mesh3d"
                      }
                    ],
                    "parcoords": [
                      {
                        "line": {
                          "colorbar": {
                            "outlinewidth": 0,
                            "ticks": ""
                          }
                        },
                        "type": "parcoords"
                      }
                    ],
                    "pie": [
                      {
                        "automargin": true,
                        "type": "pie"
                      }
                    ],
                    "scatter": [
                      {
                        "marker": {
                          "line": {
                            "color": "#283442"
                          }
                        },
                        "type": "scatter"
                      }
                    ],
                    "scatter3d": [
                      {
                        "line": {
                          "colorbar": {
                            "outlinewidth": 0,
                            "ticks": ""
                          }
                        },
                        "marker": {
                          "colorbar": {
                            "outlinewidth": 0,
                            "ticks": ""
                          }
                        },
                        "type": "scatter3d"
                      }
                    ],
                    "scattercarpet": [
                      {
                        "marker": {
                          "colorbar": {
                            "outlinewidth": 0,
                            "ticks": ""
                          }
                        },
                        "type": "scattercarpet"
                      }
                    ],
                    "scattergeo": [
                      {
                        "marker": {
                          "colorbar": {
                            "outlinewidth": 0,
                            "ticks": ""
                          }
                        },
                        "type": "scattergeo"
                      }
                    ],
                    "scattergl": [
                      {
                        "marker": {
                          "line": {
                            "color": "#283442"
                          }
                        },
                        "type": "scattergl"
                      }
                    ],
                    "scattermapbox": [
                      {
                        "marker": {
                          "colorbar": {
                            "outlinewidth": 0,
                            "ticks": ""
                          }
                        },
                        "type": "scattermapbox"
                      }
                    ],
                    "scatterpolar": [
                      {
                        "marker": {
                          "colorbar": {
                            "outlinewidth": 0,
                            "ticks": ""
                          }
                        },
                        "type": "scatterpolar"
                      }
                    ],
                    "scatterpolargl": [
                      {
                        "marker": {
                          "colorbar": {
                            "outlinewidth": 0,
                            "ticks": ""
                          }
                        },
                        "type": "scatterpolargl"
                      }
                    ],
                    "scatterternary": [
                      {
                        "marker": {
                          "colorbar": {
                            "outlinewidth": 0,
                            "ticks": ""
                          }
                        },
                        "type": "scatterternary"
                      }
                    ],
                    "surface": [
                      {
                        "colorbar": {
                          "outlinewidth": 0,
                          "ticks": ""
                        },
                        "colorscale": [
                          [
                            0,
                            "#0d0887"
                          ],
                          [
                            0.1111111111111111,
                            "#46039f"
                          ],
                          [
                            0.2222222222222222,
                            "#7201a8"
                          ],
                          [
                            0.3333333333333333,
                            "#9c179e"
                          ],
                          [
                            0.4444444444444444,
                            "#bd3786"
                          ],
                          [
                            0.5555555555555556,
                            "#d8576b"
                          ],
                          [
                            0.6666666666666666,
                            "#ed7953"
                          ],
                          [
                            0.7777777777777778,
                            "#fb9f3a"
                          ],
                          [
                            0.8888888888888888,
                            "#fdca26"
                          ],
                          [
                            1,
                            "#f0f921"
                          ]
                        ],
                        "type": "surface"
                      }
                    ],
                    "table": [
                      {
                        "cells": {
                          "fill": {
                            "color": "#506784"
                          },
                          "line": {
                            "color": "rgb(17,17,17)"
                          }
                        },
                        "header": {
                          "fill": {
                            "color": "#2a3f5f"
                          },
                          "line": {
                            "color": "rgb(17,17,17)"
                          }
                        },
                        "type": "table"
                      }
                    ]
                  },
                  "layout": {
                    "annotationdefaults": {
                      "arrowcolor": "#f2f5fa",
                      "arrowhead": 0,
                      "arrowwidth": 1
                    },
                    "autotypenumbers": "strict",
                    "coloraxis": {
                      "colorbar": {
                        "outlinewidth": 0,
                        "ticks": ""
                      }
                    },
                    "colorscale": {
                      "diverging": [
                        [
                          0,
                          "#8e0152"
                        ],
                        [
                          0.1,
                          "#c51b7d"
                        ],
                        [
                          0.2,
                          "#de77ae"
                        ],
                        [
                          0.3,
                          "#f1b6da"
                        ],
                        [
                          0.4,
                          "#fde0ef"
                        ],
                        [
                          0.5,
                          "#f7f7f7"
                        ],
                        [
                          0.6,
                          "#e6f5d0"
                        ],
                        [
                          0.7,
                          "#b8e186"
                        ],
                        [
                          0.8,
                          "#7fbc41"
                        ],
                        [
                          0.9,
                          "#4d9221"
                        ],
                        [
                          1,
                          "#276419"
                        ]
                      ],
                      "sequential": [
                        [
                          0,
                          "#0d0887"
                        ],
                        [
                          0.1111111111111111,
                          "#46039f"
                        ],
                        [
                          0.2222222222222222,
                          "#7201a8"
                        ],
                        [
                          0.3333333333333333,
                          "#9c179e"
                        ],
                        [
                          0.4444444444444444,
                          "#bd3786"
                        ],
                        [
                          0.5555555555555556,
                          "#d8576b"
                        ],
                        [
                          0.6666666666666666,
                          "#ed7953"
                        ],
                        [
                          0.7777777777777778,
                          "#fb9f3a"
                        ],
                        [
                          0.8888888888888888,
                          "#fdca26"
                        ],
                        [
                          1,
                          "#f0f921"
                        ]
                      ],
                      "sequentialminus": [
                        [
                          0,
                          "#0d0887"
                        ],
                        [
                          0.1111111111111111,
                          "#46039f"
                        ],
                        [
                          0.2222222222222222,
                          "#7201a8"
                        ],
                        [
                          0.3333333333333333,
                          "#9c179e"
                        ],
                        [
                          0.4444444444444444,
                          "#bd3786"
                        ],
                        [
                          0.5555555555555556,
                          "#d8576b"
                        ],
                        [
                          0.6666666666666666,
                          "#ed7953"
                        ],
                        [
                          0.7777777777777778,
                          "#fb9f3a"
                        ],
                        [
                          0.8888888888888888,
                          "#fdca26"
                        ],
                        [
                          1,
                          "#f0f921"
                        ]
                      ]
                    },
                    "colorway": [
                      "#636efa",
                      "#EF553B",
                      "#00cc96",
                      "#ab63fa",
                      "#FFA15A",
                      "#19d3f3",
                      "#FF6692",
                      "#B6E880",
                      "#FF97FF",
                      "#FECB52"
                    ],
                    "font": {
                      "color": "#f2f5fa"
                    },
                    "geo": {
                      "bgcolor": "rgb(17,17,17)",
                      "lakecolor": "rgb(17,17,17)",
                      "landcolor": "rgb(17,17,17)",
                      "showlakes": true,
                      "showland": true,
                      "subunitcolor": "#506784"
                    },
                    "hoverlabel": {
                      "align": "left"
                    },
                    "hovermode": "closest",
                    "mapbox": {
                      "style": "dark"
                    },
                    "paper_bgcolor": "rgb(17,17,17)",
                    "plot_bgcolor": "rgb(17,17,17)",
                    "polar": {
                      "angularaxis": {
                        "gridcolor": "#506784",
                        "linecolor": "#506784",
                        "ticks": ""
                      },
                      "bgcolor": "rgb(17,17,17)",
                      "radialaxis": {
                        "gridcolor": "#506784",
                        "linecolor": "#506784",
                        "ticks": ""
                      }
                    },
                    "scene": {
                      "xaxis": {
                        "backgroundcolor": "rgb(17,17,17)",
                        "gridcolor": "#506784",
                        "gridwidth": 2,
                        "linecolor": "#506784",
                        "showbackground": true,
                        "ticks": "",
                        "zerolinecolor": "#C8D4E3"
                      },
                      "yaxis": {
                        "backgroundcolor": "rgb(17,17,17)",
                        "gridcolor": "#506784",
                        "gridwidth": 2,
                        "linecolor": "#506784",
                        "showbackground": true,
                        "ticks": "",
                        "zerolinecolor": "#C8D4E3"
                      },
                      "zaxis": {
                        "backgroundcolor": "rgb(17,17,17)",
                        "gridcolor": "#506784",
                        "gridwidth": 2,
                        "linecolor": "#506784",
                        "showbackground": true,
                        "ticks": "",
                        "zerolinecolor": "#C8D4E3"
                      }
                    },
                    "shapedefaults": {
                      "line": {
                        "color": "#f2f5fa"
                      }
                    },
                    "sliderdefaults": {
                      "bgcolor": "#C8D4E3",
                      "bordercolor": "rgb(17,17,17)",
                      "borderwidth": 1,
                      "tickwidth": 0
                    },
                    "ternary": {
                      "aaxis": {
                        "gridcolor": "#506784",
                        "linecolor": "#506784",
                        "ticks": ""
                      },
                      "baxis": {
                        "gridcolor": "#506784",
                        "linecolor": "#506784",
                        "ticks": ""
                      },
                      "bgcolor": "rgb(17,17,17)",
                      "caxis": {
                        "gridcolor": "#506784",
                        "linecolor": "#506784",
                        "ticks": ""
                      }
                    },
                    "title": {
                      "x": 0.05
                    },
                    "updatemenudefaults": {
                      "bgcolor": "#506784",
                      "borderwidth": 0
                    },
                    "xaxis": {
                      "automargin": true,
                      "gridcolor": "#283442",
                      "linecolor": "#506784",
                      "ticks": "",
                      "title": {
                        "standoff": 15
                      },
                      "zerolinecolor": "#283442",
                      "zerolinewidth": 2
                    },
                    "yaxis": {
                      "automargin": true,
                      "gridcolor": "#283442",
                      "linecolor": "#506784",
                      "ticks": "",
                      "title": {
                        "standoff": 15
                      },
                      "zerolinecolor": "#283442",
                      "zerolinewidth": 2
                    }
                  }
                },
                "title": {
                  "text": "Sea Level Rise Over Time"
                },
                "xaxis": {
                  "title": {
                    "text": "Year"
                  }
                },
                "yaxis": {
                  "title": {
                    "text": "Sea Level Rise (mm)"
                  }
                }
              }
            }
          },
          "metadata": {},
          "output_type": "display_data"
        }
      ],
      "source": [
        "# Check the original DataFrame before grouping\n",
        "print(df.columns)\n",
        "\n",
        "# Group by 'Year' and aggregate the necessary columns\n",
        "df_grouped = df.groupby(\"Year\", as_index=False).agg({\n",
        "    'Population': 'sum',  # Make sure to aggregate the 'Population' column\n",
        "    'CO2_Emissions_tons_per_capita': 'mean',\n",
        "    'Sea_Level_Rise_mm': 'mean'\n",
        "})\n",
        "\n",
        "# Reset index to ensure 'Year' is a column (if it becomes an index during grouping)\n",
        "df_grouped = df_grouped.reset_index()\n",
        "\n",
        "# Check if 'Year' and 'Population' are now available as columns\n",
        "print(df_grouped.columns)\n",
        "\n",
        "# Plot for Population\n",
        "fig_population = go.Figure()\n",
        "fig_population.add_trace(go.Scatter(x=df_grouped[\"Year\"], y=df_grouped[\"Population\"],\n",
        "                                    mode='lines+markers', name='Population',\n",
        "                                    line=dict(color='blue')))\n",
        "\n",
        "fig_population.update_layout(\n",
        "    title=\"Population Over Time\",\n",
        "    xaxis_title=\"Year\",\n",
        "    yaxis_title=\"Population\",\n",
        "    template=\"plotly_dark\"\n",
        ")\n",
        "\n",
        "# Show the Population plot\n",
        "fig_population.show()\n",
        "\n",
        "# Plot for CO2 Emissions per capita\n",
        "fig_co2 = go.Figure()\n",
        "fig_co2.add_trace(go.Scatter(x=df_grouped[\"Year\"], y=df_grouped[\"CO2_Emissions_tons_per_capita\"],\n",
        "                             mode='lines+markers', name='CO2 Emissions per capita',\n",
        "                             line=dict(color='green')))\n",
        "\n",
        "fig_co2.update_layout(\n",
        "    title=\"CO2 Emissions per capita Over Time\",\n",
        "    xaxis_title=\"Year\",\n",
        "    yaxis_title=\"CO2 Emissions (tons per capita)\",\n",
        "    template=\"plotly_dark\"\n",
        ")\n",
        "\n",
        "# Show the CO2 Emissions plot\n",
        "fig_co2.show()\n",
        "\n",
        "# Plot for Sea Level Rise\n",
        "fig_sea_level = go.Figure()\n",
        "fig_sea_level.add_trace(go.Scatter(x=df_grouped[\"Year\"], y=df_grouped[\"Sea_Level_Rise_mm\"],\n",
        "                                  mode='lines+markers', name='Sea Level Rise (mm)',\n",
        "                                  line=dict(color='red')))\n",
        "\n",
        "fig_sea_level.update_layout(\n",
        "    title=\"Sea Level Rise Over Time\",\n",
        "    xaxis_title=\"Year\",\n",
        "    yaxis_title=\"Sea Level Rise (mm)\",\n",
        "    template=\"plotly_dark\"\n",
        ")\n",
        "\n",
        "# Show the Sea Level Rise plot\n",
        "fig_sea_level.show()"
      ]
    },
    {
      "cell_type": "markdown",
      "metadata": {},
      "source": [
        "# # Hypotesis Testing"
      ]
    },
    {
      "cell_type": "markdown",
      "metadata": {},
      "source": [
        "# Hypothesis Testing Approach:\n",
        "\n",
        "1. Average temperature has increased over the years\n",
        "\n",
        "Test: Perform a trend analysis on the Avg_Temperature_degC column over the Year.\n",
        "Conclusion: If a statistically significant positive trend is found, the hypothesis is supported.\n",
        "\n",
        "\n",
        "2. Countries with a higher percentage of renewable energy have lower CO2 emissions\n",
        "\n",
        "Test: Calculate the correlation between Renewable_Energy_pct and CO2_Emissions_tons_per_capita.\n",
        "Conclusion: A significant negative correlation would support the hypothesis.\n",
        "\n",
        "3. A decrease in forest area percentage leads to an increase in extreme weather events\n",
        "\n",
        "Test: Check the correlation between Forest_Area_pct and Extreme_Weather_Events.\n",
        "Conclusion: A significant negative correlation supports the hypothesis.\n",
        "\n",
        "4. Higher population growth contributes to increased CO2 emissions and rising sea levels\n",
        "\n",
        "Test: Examine correlations between Population and both CO2_Emissions_tons_per_capita and Sea_Level_Rise_mm.\n",
        "Conclusion: A significant positive correlation supports the hypothesis."
      ]
    },
    {
      "cell_type": "code",
      "execution_count": 17,
      "metadata": {},
      "outputs": [
        {
          "data": {
            "image/png": "[encoded data removed]",
            "text/plain": [
              "<Figure size 1000x500 with 1 Axes>"
            ]
          },
          "metadata": {},
          "output_type": "display_data"
        },
        {
          "data": {
            "text/plain": [
              "{'Temperature Trend': {'Slope': 0.027903755280360786,\n",
              "  'p-value': 0.4641492472762294,\n",
              "  'R-squared': 0.024608422325123284},\n",
              " 'Renewable Energy vs CO2': {'Correlation': -0.023355211312462067,\n",
              "  'p-value': 0.46067639298576524},\n",
              " 'Forest Area vs Extreme Weather': {'Correlation': -0.009291346694551545,\n",
              "  'p-value': 0.7691728387758204},\n",
              " 'Population vs CO2': {'Correlation': 0.01152918821945057,\n",
              "  'p-value': 0.7157526829953251},\n",
              " 'Population vs Sea Level Rise': {'Correlation': -0.0002768608278726078,\n",
              "  'p-value': 0.9930232601679404}}"
            ]
          },
          "execution_count": 17,
          "metadata": {},
          "output_type": "execute_result"
        }
      ],
      "source": [
        "import seaborn as sns\n",
        "import matplotlib.pyplot as plt\n",
        "import scipy.stats as stats\n",
        "\n",
        "# 1. Checking temperature trend over years\n",
        "temp_trend = df.groupby(\"Year\")[\"Avg_Temperature_degC\"].mean()\n",
        "slope, intercept, r_value, p_value, std_err = stats.linregress(temp_trend.index, temp_trend.values)\n",
        "\n",
        "# 2. Correlation between renewable energy and CO2 emissions\n",
        "renewable_co2_corr, renewable_co2_pval = stats.pearsonr(df[\"Renewable_Energy_pct\"], df[\"CO2_Emissions_tons_per_capita\"])\n",
        "\n",
        "# 3. Correlation between forest area percentage and extreme weather events\n",
        "forest_weather_corr, forest_weather_pval = stats.pearsonr(df[\"Forest_Area_pct\"], df[\"Extreme_Weather_Events\"])\n",
        "\n",
        "# 4. Correlation between population and CO2 emissions & sea level rise\n",
        "pop_co2_corr, pop_co2_pval = stats.pearsonr(df[\"Population\"], df[\"CO2_Emissions_tons_per_capita\"])\n",
        "pop_sea_corr, pop_sea_pval = stats.pearsonr(df[\"Population\"], df[\"Sea_Level_Rise_mm\"])\n",
        "\n",
        "# Plot temperature trend\n",
        "plt.figure(figsize=(10, 5))\n",
        "sns.regplot(x=temp_trend.index, y=temp_trend.values, scatter_kws={\"s\": 10}, line_kws={\"color\": \"red\"})\n",
        "plt.xlabel(\"Year\")\n",
        "plt.ylabel(\"Average Temperature (°C)\")\n",
        "plt.title(\"Trend of Average Temperature Over Years\")\n",
        "plt.show()\n",
        "\n",
        "# Display results\n",
        "{\n",
        "    \"Temperature Trend\": {\"Slope\": slope, \"p-value\": p_value, \"R-squared\": r_value**2},\n",
        "    \"Renewable Energy vs CO2\": {\"Correlation\": renewable_co2_corr, \"p-value\": renewable_co2_pval},\n",
        "    \"Forest Area vs Extreme Weather\": {\"Correlation\": forest_weather_corr, \"p-value\": forest_weather_pval},\n",
        "    \"Population vs CO2\": {\"Correlation\": pop_co2_corr, \"p-value\": pop_co2_pval},\n",
        "    \"Population vs Sea Level Rise\": {\"Correlation\": pop_sea_corr, \"p-value\": pop_sea_pval},\n",
        "}\n"
      ]
    },
    {
      "cell_type": "markdown",
      "metadata": {},
      "source": [
        "Conclusion for Each Hypothesis:\n",
        "\n",
        "1. Average temperature has increased over the years\n",
        "\n",
        "The regression analysis shows a slight positive trend (slope = 0.028°C per year), but the p-value (0.464) suggests it is not statistically significant.\n",
        "Conclusion: The data does not provide strong evidence to support the hypothesis.\n",
        "\n",
        "2. Countries with a higher percentage of renewable energy have lower CO2 emissions\n",
        "\n",
        "The correlation coefficient is -0.023, indicating a very weak negative relationship. The p-value (0.461) suggests this correlation is not statistically significant.\n",
        "Conclusion: The hypothesis is not strongly supported by this dataset.\n",
        "\n",
        "3. A decrease in forest area percentage leads to an increase in extreme weather events\n",
        "\n",
        "The correlation coefficient is -0.009, which is extremely weak, and the p-value (0.769) suggests no significant relationship.\n",
        "Conclusion: The data does not support this hypothesis.\n",
        "\n",
        "4. Higher population growth contributes to increased CO2 emissions and rising sea levels\n",
        "\n",
        "The correlation between population and CO2 emissions is very weak (0.012, p = 0.716).\n",
        "The correlation between population and sea level rise is nearly zero (-0.0003, p = 0.993).\n",
        "Conclusion: No strong statistical evidence supports this hypothesis in this dataset."
      ]
    },
    {
      "cell_type": "markdown",
      "metadata": {},
      "source": [
        "# Refine analysis\n",
        "\n",
        "* Checking for non-linear relationship using scatter plots and polynomial regression "
      ]
    },
    {
      "cell_type": "code",
      "execution_count": 18,
      "metadata": {},
      "outputs": [
        {
          "data": {
            "image/png": "[encoded data removed]",
            "text/plain": [
              "<Figure size 1200x1000 with 4 Axes>"
            ]
          },
          "metadata": {},
          "output_type": "display_data"
        },
        {
          "data": {
            "text/html": [
              "<table class=\"simpletable\">\n",
              "<caption>OLS Regression Results</caption>\n",
              "<tr>\n",
              "  <th>Dep. Variable:</th>    <td>Avg_Temperature_degC</td> <th>  R-squared:         </th> <td>   0.001</td>\n",
              "</tr>\n",
              "<tr>\n",
              "  <th>Model:</th>                     <td>OLS</td>         <th>  Adj. R-squared:    </th> <td>  -0.003</td>\n",
              "</tr>\n",
              "<tr>\n",
              "  <th>Method:</th>               <td>Least Squares</td>    <th>  F-statistic:       </th> <td>  0.2112</td>\n",
              "</tr>\n",
              "<tr>\n",
              "  <th>Date:</th>               <td>Fri, 21 Mar 2025</td>   <th>  Prob (F-statistic):</th>  <td> 0.932</td> \n",
              "</tr>\n",
              "<tr>\n",
              "  <th>Time:</th>                   <td>14:14:56</td>       <th>  Log-Likelihood:    </th> <td> -3563.1</td>\n",
              "</tr>\n",
              "<tr>\n",
              "  <th>No. Observations:</th>        <td>  1000</td>        <th>  AIC:               </th> <td>   7136.</td>\n",
              "</tr>\n",
              "<tr>\n",
              "  <th>Df Residuals:</th>            <td>   995</td>        <th>  BIC:               </th> <td>   7161.</td>\n",
              "</tr>\n",
              "<tr>\n",
              "  <th>Df Model:</th>                <td>     4</td>        <th>                     </th>     <td> </td>   \n",
              "</tr>\n",
              "<tr>\n",
              "  <th>Covariance Type:</th>        <td>nonrobust</td>      <th>                     </th>     <td> </td>   \n",
              "</tr>\n",
              "</table>\n",
              "<table class=\"simpletable\">\n",
              "<tr>\n",
              "                <td></td>                   <th>coef</th>     <th>std err</th>      <th>t</th>      <th>P>|t|</th>  <th>[0.025</th>    <th>0.975]</th>  \n",
              "</tr>\n",
              "<tr>\n",
              "  <th>const</th>                         <td>  -27.2376</td> <td>   76.491</td> <td>   -0.356</td> <td> 0.722</td> <td> -177.340</td> <td>  122.865</td>\n",
              "</tr>\n",
              "<tr>\n",
              "  <th>Year</th>                          <td>    0.0235</td> <td>    0.038</td> <td>    0.617</td> <td> 0.537</td> <td>   -0.051</td> <td>    0.098</td>\n",
              "</tr>\n",
              "<tr>\n",
              "  <th>CO2_Emissions_tons_per_capita</th> <td>    0.0183</td> <td>    0.048</td> <td>    0.379</td> <td> 0.705</td> <td>   -0.076</td> <td>    0.113</td>\n",
              "</tr>\n",
              "<tr>\n",
              "  <th>Forest_Area_pct</th>               <td>   -0.0081</td> <td>    0.016</td> <td>   -0.522</td> <td> 0.602</td> <td>   -0.039</td> <td>    0.022</td>\n",
              "</tr>\n",
              "<tr>\n",
              "  <th>Population</th>                    <td> 3.774e-11</td> <td> 6.63e-10</td> <td>    0.057</td> <td> 0.955</td> <td>-1.26e-09</td> <td> 1.34e-09</td>\n",
              "</tr>\n",
              "</table>\n",
              "<table class=\"simpletable\">\n",
              "<tr>\n",
              "  <th>Omnibus:</th>       <td>587.647</td> <th>  Durbin-Watson:     </th> <td>   1.979</td>\n",
              "</tr>\n",
              "<tr>\n",
              "  <th>Prob(Omnibus):</th> <td> 0.000</td>  <th>  Jarque-Bera (JB):  </th> <td>  57.080</td>\n",
              "</tr>\n",
              "<tr>\n",
              "  <th>Skew:</th>          <td> 0.002</td>  <th>  Prob(JB):          </th> <td>4.03e-13</td>\n",
              "</tr>\n",
              "<tr>\n",
              "  <th>Kurtosis:</th>      <td> 1.830</td>  <th>  Cond. No.          </th> <td>2.31e+11</td>\n",
              "</tr>\n",
              "</table><br/><br/>Notes:<br/>[1] Standard Errors assume that the covariance matrix of the errors is correctly specified.<br/>[2] The condition number is large, 2.31e+11. This might indicate that there are<br/>strong multicollinearity or other numerical problems."
            ],
            "text/latex": [
              "\\begin{center}\n",
              "\\begin{tabular}{lclc}\n",
              "\\toprule\n",
              "\\textbf{Dep. Variable:}                    & Avg\\_Temperature\\_degC & \\textbf{  R-squared:         } &     0.001   \\\\\n",
              "\\textbf{Model:}                            &          OLS           & \\textbf{  Adj. R-squared:    } &    -0.003   \\\\\n",
              "\\textbf{Method:}                           &     Least Squares      & \\textbf{  F-statistic:       } &    0.2112   \\\\\n",
              "\\textbf{Date:}                             &    Fri, 21 Mar 2025    & \\textbf{  Prob (F-statistic):} &    0.932    \\\\\n",
              "\\textbf{Time:}                             &        14:14:56        & \\textbf{  Log-Likelihood:    } &   -3563.1   \\\\\n",
              "\\textbf{No. Observations:}                 &           1000         & \\textbf{  AIC:               } &     7136.   \\\\\n",
              "\\textbf{Df Residuals:}                     &            995         & \\textbf{  BIC:               } &     7161.   \\\\\n",
              "\\textbf{Df Model:}                         &              4         & \\textbf{                     } &             \\\\\n",
              "\\textbf{Covariance Type:}                  &       nonrobust        & \\textbf{                     } &             \\\\\n",
              "\\bottomrule\n",
              "\\end{tabular}\n",
              "\\begin{tabular}{lcccccc}\n",
              "                                           & \\textbf{coef} & \\textbf{std err} & \\textbf{t} & \\textbf{P$> |$t$|$} & \\textbf{[0.025} & \\textbf{0.975]}  \\\\\n",
              "\\midrule\n",
              "\\textbf{const}                             &     -27.2376  &       76.491     &    -0.356  &         0.722        &     -177.340    &      122.865     \\\\\n",
              "\\textbf{Year}                              &       0.0235  &        0.038     &     0.617  &         0.537        &       -0.051    &        0.098     \\\\\n",
              "\\textbf{CO2\\_Emissions\\_tons\\_per\\_capita} &       0.0183  &        0.048     &     0.379  &         0.705        &       -0.076    &        0.113     \\\\\n",
              "\\textbf{Forest\\_Area\\_pct}                 &      -0.0081  &        0.016     &    -0.522  &         0.602        &       -0.039    &        0.022     \\\\\n",
              "\\textbf{Population}                        &    3.774e-11  &     6.63e-10     &     0.057  &         0.955        &    -1.26e-09    &     1.34e-09     \\\\\n",
              "\\bottomrule\n",
              "\\end{tabular}\n",
              "\\begin{tabular}{lclc}\n",
              "\\textbf{Omnibus:}       & 587.647 & \\textbf{  Durbin-Watson:     } &    1.979  \\\\\n",
              "\\textbf{Prob(Omnibus):} &   0.000 & \\textbf{  Jarque-Bera (JB):  } &   57.080  \\\\\n",
              "\\textbf{Skew:}          &   0.002 & \\textbf{  Prob(JB):          } & 4.03e-13  \\\\\n",
              "\\textbf{Kurtosis:}      &   1.830 & \\textbf{  Cond. No.          } & 2.31e+11  \\\\\n",
              "\\bottomrule\n",
              "\\end{tabular}\n",
              "%\\caption{OLS Regression Results}\n",
              "\\end{center}\n",
              "\n",
              "Notes: \\newline\n",
              " [1] Standard Errors assume that the covariance matrix of the errors is correctly specified. \\newline\n",
              " [2] The condition number is large, 2.31e+11. This might indicate that there are \\newline\n",
              " strong multicollinearity or other numerical problems."
            ],
            "text/plain": [
              "<class 'statsmodels.iolib.summary.Summary'>\n",
              "\"\"\"\n",
              "                             OLS Regression Results                             \n",
              "================================================================================\n",
              "Dep. Variable:     Avg_Temperature_degC   R-squared:                       0.001\n",
              "Model:                              OLS   Adj. R-squared:                 -0.003\n",
              "Method:                   Least Squares   F-statistic:                    0.2112\n",
              "Date:                  Fri, 21 Mar 2025   Prob (F-statistic):              0.932\n",
              "Time:                          14:14:56   Log-Likelihood:                -3563.1\n",
              "No. Observations:                  1000   AIC:                             7136.\n",
              "Df Residuals:                       995   BIC:                             7161.\n",
              "Df Model:                             4                                         \n",
              "Covariance Type:              nonrobust                                         \n",
              "=================================================================================================\n",
              "                                    coef    std err          t      P>|t|      [0.025      0.975]\n",
              "-------------------------------------------------------------------------------------------------\n",
              "const                           -27.2376     76.491     -0.356      0.722    -177.340     122.865\n",
              "Year                              0.0235      0.038      0.617      0.537      -0.051       0.098\n",
              "CO2_Emissions_tons_per_capita     0.0183      0.048      0.379      0.705      -0.076       0.113\n",
              "Forest_Area_pct                  -0.0081      0.016     -0.522      0.602      -0.039       0.022\n",
              "Population                     3.774e-11   6.63e-10      0.057      0.955   -1.26e-09    1.34e-09\n",
              "==============================================================================\n",
              "Omnibus:                      587.647   Durbin-Watson:                   1.979\n",
              "Prob(Omnibus):                  0.000   Jarque-Bera (JB):               57.080\n",
              "Skew:                           0.002   Prob(JB):                     4.03e-13\n",
              "Kurtosis:                       1.830   Cond. No.                     2.31e+11\n",
              "==============================================================================\n",
              "\n",
              "Notes:\n",
              "[1] Standard Errors assume that the covariance matrix of the errors is correctly specified.\n",
              "[2] The condition number is large, 2.31e+11. This might indicate that there are\n",
              "strong multicollinearity or other numerical problems.\n",
              "\"\"\""
            ]
          },
          "execution_count": 18,
          "metadata": {},
          "output_type": "execute_result"
        }
      ],
      "source": [
        "# Scatter plots for potential non-linear relationships\n",
        "fig, axes = plt.subplots(2, 2, figsize=(12, 10))\n",
        "\n",
        "# Renewable Energy vs CO2 Emissions\n",
        "sns.scatterplot(x=df[\"Renewable_Energy_pct\"], y=df[\"CO2_Emissions_tons_per_capita\"], ax=axes[0, 0])\n",
        "axes[0, 0].set_title(\"Renewable Energy vs CO2 Emissions\")\n",
        "\n",
        "# Forest Area vs Extreme Weather Events\n",
        "sns.scatterplot(x=df[\"Forest_Area_pct\"], y=df[\"Extreme_Weather_Events\"], ax=axes[0, 1])\n",
        "axes[0, 1].set_title(\"Forest Area % vs Extreme Weather Events\")\n",
        "\n",
        "# Population vs CO2 Emissions\n",
        "sns.scatterplot(x=df[\"Population\"], y=df[\"CO2_Emissions_tons_per_capita\"], ax=axes[1, 0])\n",
        "axes[1, 0].set_title(\"Population vs CO2 Emissions\")\n",
        "\n",
        "# Population vs Sea Level Rise\n",
        "sns.scatterplot(x=df[\"Population\"], y=df[\"Sea_Level_Rise_mm\"], ax=axes[1, 1])\n",
        "axes[1, 1].set_title(\"Population vs Sea Level Rise\")\n",
        "\n",
        "plt.tight_layout()\n",
        "plt.show()\n",
        "\n",
        "# Multiple regression model: Temperature change over time accounting for other factors\n",
        "import statsmodels.api as sm\n",
        "\n",
        "# Independent variables\n",
        "X = df[[\"Year\", \"CO2_Emissions_tons_per_capita\", \"Forest_Area_pct\", \"Population\"]]\n",
        "X = sm.add_constant(X)  # Add intercept\n",
        "\n",
        "# Dependent variable\n",
        "y = df[\"Avg_Temperature_degC\"]\n",
        "\n",
        "# Fit regression model\n",
        "model = sm.OLS(y, X).fit()\n",
        "model_summary = model.summary()\n",
        "\n",
        "model_summary\n"
      ]
    },
    {
      "cell_type": "markdown",
      "metadata": {},
      "source": [
        "Refined Analysis and Updated Conclusions:\n",
        "\n",
        "1. Non-linear Relationships & Scatter Plots:\n",
        "\n",
        "The scatter plots do not indicate clear non-linear trends.\n",
        "The spread of data suggests weak relationships between variables.\n",
        "\n",
        "2. Multiple Regression Analysis (Temperature vs. Other Factors):\n",
        "\n",
        "R² = 0.001 → The model explains almost none of the variation in temperature.\n",
        "Year (Slope = 0.0235, p = 0.537): No significant trend over time.\n",
        "CO2 Emissions (p = 0.705), Forest Area (p = 0.602), Population (p = 0.955): None show statistically significant effects on temperature.\n",
        "\n",
        "* Updated Hypothesis Conclusions:\n",
        "\n",
        "1. Average temperature has increased over the years\n",
        "\n",
        "Regression analysis still does not support a significant increase.\n",
        "Conclusion: No strong evidence in this dataset.\n",
        "\n",
        "2. Countries with a higher percentage of renewable energy have lower CO2 emissions\n",
        "\n",
        "The scatter plot shows no strong trend.\n",
        "Conclusion: Data does not support a strong relationship.\n",
        "\n",
        "3. A decrease in forest area percentage leads to an increase in extreme weather events\n",
        "\n",
        "No significant correlation.\n",
        "Conclusion: The hypothesis is not supported.\n",
        "\n",
        "4. Higher population growth contributes to increased CO2 emissions and rising sea levels\n",
        "\n",
        "Population shows no meaningful relationship with CO2 or sea level rise.\n",
        "Conclusion: Data does not support the hypothesis."
      ]
    }
  ],
  "metadata": {
    "accelerator": "GPU",
    "colab": {
      "name": "Data Practitioner Jupyter Notebook.ipynb",
      "provenance": [],
      "toc_visible": true
    },
    "kernelspec": {
      "display_name": ".venv",
      "language": "python",
      "name": "python3"
    },
    "language_info": {
      "codemirror_mode": {
        "name": "ipython",
        "version": 3
      },
      "file_extension": ".py",
      "mimetype": "text/x-python",
      "name": "python",
      "nbconvert_exporter": "python",
      "pygments_lexer": "ipython3",
      "version": "3.12.8"
    },
    "orig_nbformat": 2
  },
  "nbformat": 4,
  "nbformat_minor": 2
}
