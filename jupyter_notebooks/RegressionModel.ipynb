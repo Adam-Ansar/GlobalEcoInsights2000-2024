{
 "cells": [
  {
   "cell_type": "markdown",
   "metadata": {},
   "source": [
    "# Change working directory\n",
    "* We are assuming you will store the notebooks in a subfolder, therefore when running the notebook in the editor, you will need to change the working directory.\n",
    "\n",
    "We need to change the working directory from its current folder to its parent folder\n",
    "* We access the current directory with os.getcwd()"
   ]
  },
  {
   "cell_type": "code",
   "execution_count": 2,
   "metadata": {},
   "outputs": [
    {
     "data": {
      "text/plain": [
       "'c:\\\\Users\\\\mukti\\\\Desktop\\\\codeInstitute\\\\GlobalEcoInsights\\\\GlobalEcoInsights2000-2024\\\\jupyter_notebooks'"
      ]
     },
     "execution_count": 2,
     "metadata": {},
     "output_type": "execute_result"
    }
   ],
   "source": [
    "import os\n",
    "current_dir = os.getcwd()\n",
    "current_dir"
   ]
  },
  {
   "cell_type": "markdown",
   "metadata": {},
   "source": [
    "We want to make the parent of the current directory the new current directory\n",
    "* os.path.dirname() gets the parent directory\n",
    "* os.chir() defines the new current directory"
   ]
  },
  {
   "cell_type": "code",
   "execution_count": 3,
   "metadata": {},
   "outputs": [
    {
     "name": "stdout",
     "output_type": "stream",
     "text": [
      "You set a new current directory\n"
     ]
    }
   ],
   "source": [
    "os.chdir(os.path.dirname(current_dir))\n",
    "print(\"You set a new current directory\")"
   ]
  },
  {
   "cell_type": "markdown",
   "metadata": {},
   "source": [
    "Confirm the new current directory"
   ]
  },
  {
   "cell_type": "code",
   "execution_count": 4,
   "metadata": {},
   "outputs": [
    {
     "data": {
      "text/plain": [
       "'c:\\\\Users\\\\mukti\\\\Desktop\\\\codeInstitute\\\\GlobalEcoInsights\\\\GlobalEcoInsights2000-2024'"
      ]
     },
     "execution_count": 4,
     "metadata": {},
     "output_type": "execute_result"
    }
   ],
   "source": [
    "current_dir = os.getcwd()\n",
    "current_dir"
   ]
  },
  {
   "cell_type": "markdown",
   "metadata": {},
   "source": [
    "# Section 3"
   ]
  },
  {
   "cell_type": "markdown",
   "metadata": {},
   "source": [
    "### Build a Predictive Model using Regression Analysis\n",
    "\n",
    "• Use Linear Regression Regression models to predict - \n",
    "   * CO2 emissions per capita based on population.\n",
    "   * Sea level rise based on CO2 emissions and population.\n",
    "• Evaluate Model Performance:\n",
    "   * Train-test split, RMSE, R² score for accuracy."
   ]
  },
  {
   "cell_type": "code",
   "execution_count": 5,
   "metadata": {},
   "outputs": [
    {
     "name": "stdout",
     "output_type": "stream",
     "text": [
      "CO2 Emissions Prediction:\n",
      "Mean Squared Error: 32.75128285255626\n",
      "R2 Score: -0.004314668947038802\n",
      "\n",
      "Sea Level Rise Prediction:\n",
      "Mean Squared Error: 1.2671316370634944\n",
      "R2 Score: -0.025404975338411795\n"
     ]
    }
   ],
   "source": [
    "# Import the required libraries\n",
    "import pandas as pd\n",
    "from sklearn.model_selection import train_test_split\n",
    "from sklearn.linear_model import LinearRegression\n",
    "from sklearn.metrics import mean_squared_error, r2_score\n",
    "\n",
    "# Load the dataset\n",
    "file_path = \"temperature_cleaned.csv\"\n",
    "df = pd.read_csv(file_path)\n",
    "\n",
    "# Predict CO2 Emissions based on Population\n",
    "def predict_co2_emissions(data):\n",
    "    X = data[['Population']]\n",
    "    y = data['CO2_Emissions_tons_per_capita']\n",
    "    X_train, X_test, y_train, y_test = train_test_split(X, y, test_size=0.2, random_state=42)\n",
    "\n",
    "    model = LinearRegression()\n",
    "    model.fit(X_train, y_train)\n",
    "    y_pred = model.predict(X_test)\n",
    "\n",
    "    print(\"CO2 Emissions Prediction:\")\n",
    "    print(\"Mean Squared Error:\", mean_squared_error(y_test, y_pred))\n",
    "    print(\"R2 Score:\", r2_score(y_test, y_pred))\n",
    "\n",
    "# Predict Sea Level Rise based on Population and CO2 Emissions\n",
    "def predict_sea_level_rise(data):\n",
    "    X = data[['Population', 'CO2_Emissions_tons_per_capita']]\n",
    "    y = data['Sea_Level_Rise_mm']\n",
    "    X_train, X_test, y_train, y_test = train_test_split(X, y, test_size=0.2, random_state=42)\n",
    "\n",
    "    model = LinearRegression()\n",
    "    model.fit(X_train, y_train)\n",
    "    y_pred = model.predict(X_test)\n",
    "\n",
    "    print(\"\\nSea Level Rise Prediction:\")\n",
    "    print(\"Mean Squared Error:\", mean_squared_error(y_test, y_pred))\n",
    "    print(\"R2 Score:\", r2_score(y_test, y_pred))\n",
    "\n",
    "# Run predictions\n",
    "predict_co2_emissions(df)\n",
    "predict_sea_level_rise(df)"
   ]
  },
  {
   "cell_type": "markdown",
   "metadata": {},
   "source": [
    "#### Key Insights - \n",
    "* CO₂ Emissions Prediction:\n",
    "MSE (Mean Squared Error): 32.75\n",
    "R² Score: -0.0043 (very low, indicating poor predictive power)\n",
    "* Sea Level Rise Prediction:\n",
    "MSE: 1.27\n",
    "R² Score: -0.0254 (also poor predictive power)"
   ]
  },
  {
   "cell_type": "markdown",
   "metadata": {},
   "source": [
    "### Improved Linear Regression Analysis incorporting additional variables\n",
    "The low R² values suggest that population alone is not a strong predictor of CO₂ emissions or sea level rise.\n",
    "Other factors like industrialization, energy sources, and geographical factors likely have a stronger impact.\n",
    "We could improve the model by incorporating additional variables such as renewable energy use, forest area, and extreme weather events."
   ]
  },
  {
   "cell_type": "code",
   "execution_count": 6,
   "metadata": {},
   "outputs": [
    {
     "name": "stdout",
     "output_type": "stream",
     "text": [
      "CO2 Emissions Prediction:\n",
      "Mean Squared Error: 32.70480410002796\n",
      "R2 Score: -0.00288940285383954\n",
      "\n",
      "Sea Level Rise Prediction:\n",
      "Mean Squared Error: 1.265130061284075\n",
      "R2 Score: -0.02378523378773134\n"
     ]
    }
   ],
   "source": [
    "# import libraries\n",
    "import pandas as pd\n",
    "from sklearn.model_selection import train_test_split\n",
    "from sklearn.linear_model import LinearRegression\n",
    "from sklearn.metrics import mean_squared_error, r2_score\n",
    "\n",
    "# Load the dataset\n",
    "file_path = \"temperature_cleaned.csv\"\n",
    "df = pd.read_csv(file_path)\n",
    "\n",
    "# Predict CO2 Emissions based on multiple features\n",
    "def predict_co2_emissions(data):\n",
    "    X = data[['Population', 'Avg_Temperature_degC', 'Renewable_Energy_pct', 'Extreme_Weather_Events', 'Forest_Area_pct']]\n",
    "    y = data['CO2_Emissions_tons_per_capita']\n",
    "    X_train, X_test, y_train, y_test = train_test_split(X, y, test_size=0.2, random_state=42)\n",
    "\n",
    "    model = LinearRegression()\n",
    "    model.fit(X_train, y_train)\n",
    "    y_pred = model.predict(X_test)\n",
    "\n",
    "    print(\"CO2 Emissions Prediction:\")\n",
    "    print(\"Mean Squared Error:\", mean_squared_error(y_test, y_pred))\n",
    "    print(\"R2 Score:\", r2_score(y_test, y_pred))\n",
    "\n",
    "# Predict Sea Level Rise based on multiple features\n",
    "def predict_sea_level_rise(data):\n",
    "    X = data[['Population', 'CO2_Emissions_tons_per_capita', 'Avg_Temperature_degC', 'Renewable_Energy_pct', 'Extreme_Weather_Events', 'Forest_Area_pct']]\n",
    "    y = data['Sea_Level_Rise_mm']\n",
    "    X_train, X_test, y_train, y_test = train_test_split(X, y, test_size=0.2, random_state=42)\n",
    "\n",
    "    model = LinearRegression()\n",
    "    model.fit(X_train, y_train)\n",
    "    y_pred = model.predict(X_test)\n",
    "\n",
    "    print(\"\\nSea Level Rise Prediction:\")\n",
    "    print(\"Mean Squared Error:\", mean_squared_error(y_test, y_pred))\n",
    "    print(\"R2 Score:\", r2_score(y_test, y_pred))\n",
    "\n",
    "# Run predictions\n",
    "predict_co2_emissions(df)\n",
    "predict_sea_level_rise(df)"
   ]
  },
  {
   "cell_type": "markdown",
   "metadata": {},
   "source": [
    "#### Key Insights for Improved Regression Analysis Model\n",
    "\n",
    "* Enhanced Predictive Power -\n",
    "By incorporating additional features like average temperature, renewable energy percentage, extreme weather events, and forest area percentage, the model can capture more nuanced relationships, leading to better predictions.\n",
    "\n",
    "* CO₂ Emissions Prediction -\n",
    "The model now uses multiple relevant factors beyond population, making it more reflective of real-world CO₂ emission patterns. Industrial and environmental factors can significantly improve the accuracy.\n",
    "\n",
    "* Sea Level Rise Prediction -\n",
    "Including CO₂ emissions as a predictor alongside other environmental factors provides a more robust prediction. This reflects the interconnected relationship between emissions, temperature rise, and sea level changes.\n",
    "\n",
    "* Model Evaluation -\n",
    "With the use of Mean Squared Error (MSE) and R² Score, you can evaluate how well the model is performing. A lower MSE and higher R² indicate a more accurate model."
   ]
  }
 ],
 "metadata": {
  "kernelspec": {
   "display_name": ".venv",
   "language": "python",
   "name": "python3"
  },
  "language_info": {
   "codemirror_mode": {
    "name": "ipython",
    "version": 3
   },
   "file_extension": ".py",
   "mimetype": "text/x-python",
   "name": "python",
   "nbconvert_exporter": "python",
   "pygments_lexer": "ipython3",
   "version": "3.12.8"
  }
 },
 "nbformat": 4,
 "nbformat_minor": 2
}
