{
  "cells": [
    {
      "cell_type": "markdown",
      "metadata": {
        "id": "0aStgWSO0E0E"
      },
      "source": [
        "# **GlobalEcoInsights**"
      ]
    },
    {
      "cell_type": "markdown",
      "metadata": {
        "id": "1eLEkw5O0ECa"
      },
      "source": [
        "## Objectives\n",
        "\n",
        "* The objective  of this project is to provide actionable insights into the effects of climate change by identifying trends and correlations within the dataset. These insights can support policy decisions, promote sustainable practices, and increase public awareness of climate-related issues.\n",
        "\n",
        "## Inputs\n",
        "\n",
        "* Dataset download from kaggle \n",
        "\n",
        "## Outputs\n",
        "\n",
        "* Write here which files, code or artefacts you generate by the end of the notebook \n",
        "\n",
        "## Additional Comments\n",
        "\n",
        "* If you have any additional comments that don't fit in the previous bullets, please state them here. \n",
        "\n"
      ]
    },
    {
      "cell_type": "markdown",
      "metadata": {
        "id": "9uWZXH9LwoQg"
      },
      "source": [
        "---"
      ]
    },
    {
      "cell_type": "markdown",
      "metadata": {
        "id": "cqP-UeN-z3i2"
      },
      "source": [
        "# Change working directory"
      ]
    },
    {
      "cell_type": "markdown",
      "metadata": {},
      "source": [
        "* We are assuming you will store the notebooks in a subfolder, therefore when running the notebook in the editor, you will need to change the working directory"
      ]
    },
    {
      "cell_type": "markdown",
      "metadata": {
        "id": "aOGIGS-uz3i2"
      },
      "source": [
        "We need to change the working directory from its current folder to its parent folder\n",
        "* We access the current directory with os.getcwd()"
      ]
    },
    {
      "cell_type": "code",
      "execution_count": 1,
      "metadata": {
        "id": "wZfF_j-Bz3i4",
        "outputId": "66943449-1436-4c3d-85c7-b85f9f78349b"
      },
      "outputs": [
        {
          "data": {
            "text/plain": [
              "'c:\\\\Users\\\\mukti\\\\Desktop\\\\codeInstitute\\\\GlobalEcoInsights\\\\GlobalEcoInsights2000-2024\\\\jupyter_notebooks'"
            ]
          },
          "execution_count": 1,
          "metadata": {},
          "output_type": "execute_result"
        }
      ],
      "source": [
        "import os\n",
        "current_dir = os.getcwd()\n",
        "current_dir"
      ]
    },
    {
      "cell_type": "markdown",
      "metadata": {
        "id": "9MWW8E7lz3i7"
      },
      "source": [
        "We want to make the parent of the current directory the new current directory\n",
        "* os.path.dirname() gets the parent directory\n",
        "* os.chir() defines the new current directory"
      ]
    },
    {
      "cell_type": "code",
      "execution_count": 2,
      "metadata": {
        "id": "TwHsQRWjz3i9",
        "outputId": "86849db3-cd2f-4cc5-ebb8-2d0caafa1a2c"
      },
      "outputs": [
        {
          "name": "stdout",
          "output_type": "stream",
          "text": [
            "You set a new current directory\n"
          ]
        }
      ],
      "source": [
        "os.chdir(os.path.dirname(current_dir))\n",
        "print(\"You set a new current directory\")"
      ]
    },
    {
      "cell_type": "markdown",
      "metadata": {
        "id": "M_xPk_Ijz3i-"
      },
      "source": [
        "Confirm the new current directory"
      ]
    },
    {
      "cell_type": "code",
      "execution_count": 3,
      "metadata": {
        "id": "vz3S-_kjz3jA",
        "outputId": "00b79ae4-75d0-4a96-d193-ac9ef9847ea2"
      },
      "outputs": [
        {
          "data": {
            "text/plain": [
              "'c:\\\\Users\\\\mukti\\\\Desktop\\\\codeInstitute\\\\GlobalEcoInsights\\\\GlobalEcoInsights2000-2024'"
            ]
          },
          "execution_count": 3,
          "metadata": {},
          "output_type": "execute_result"
        }
      ],
      "source": [
        "current_dir = os.getcwd()\n",
        "current_dir"
      ]
    },
    {
      "cell_type": "markdown",
      "metadata": {
        "id": "-mavJ8DibrcQ"
      },
      "source": [
        "# Section 1 - ETL"
      ]
    },
    {
      "cell_type": "markdown",
      "metadata": {},
      "source": [
        "Section 1 content"
      ]
    },
    {
      "cell_type": "code",
      "execution_count": 4,
      "metadata": {},
      "outputs": [],
      "source": [
        "import pandas as pd\n",
        "import numpy as np\n",
        "import seaborn as sns\n",
        "import matplotlib.pyplot as plt \n",
        "import streamlit as st"
      ]
    },
    {
      "cell_type": "markdown",
      "metadata": {},
      "source": [
        "### Importance of Importing Libraries for Data Analytics\n",
        "\n",
        "\n",
        "Data analytics requires importing libraries because they offer ready-made functions and tools that make complex tasks easier. The `pandas`, `numpy`, and `matplotlib` libraries facilitate efficient data manipulation tasks while providing statistical analysis capabilities and visualization tools. Through time efficiency and coding effort reduction these libraries establish accuracy so analysts can concentrate on insights derivation instead of recreating the wheel.l.\n"
      ]
    },
    {
      "cell_type": "markdown",
      "metadata": {},
      "source": [
        "Begin data exploration"
      ]
    },
    {
      "cell_type": "code",
      "execution_count": 5,
      "metadata": {},
      "outputs": [
        {
          "data": {
            "text/html": [
              "<div>\n",
              "<style scoped>\n",
              "    .dataframe tbody tr th:only-of-type {\n",
              "        vertical-align: middle;\n",
              "    }\n",
              "\n",
              "    .dataframe tbody tr th {\n",
              "        vertical-align: top;\n",
              "    }\n",
              "\n",
              "    .dataframe thead th {\n",
              "        text-align: right;\n",
              "    }\n",
              "</style>\n",
              "<table border=\"1\" class=\"dataframe\">\n",
              "  <thead>\n",
              "    <tr style=\"text-align: right;\">\n",
              "      <th></th>\n",
              "      <th>Year</th>\n",
              "      <th>Country</th>\n",
              "      <th>Avg_Temperature_degC</th>\n",
              "      <th>CO2_Emissions_tons_per_capita</th>\n",
              "      <th>Sea_Level_Rise_mm</th>\n",
              "      <th>Rainfall_mm</th>\n",
              "      <th>Population</th>\n",
              "      <th>Renewable_Energy_pct</th>\n",
              "      <th>Extreme_Weather_Events</th>\n",
              "      <th>Forest_Area_pct</th>\n",
              "    </tr>\n",
              "  </thead>\n",
              "  <tbody>\n",
              "    <tr>\n",
              "      <th>0</th>\n",
              "      <td>2006</td>\n",
              "      <td>UK</td>\n",
              "      <td>8.9</td>\n",
              "      <td>9.3</td>\n",
              "      <td>3.1</td>\n",
              "      <td>1441</td>\n",
              "      <td>530911230</td>\n",
              "      <td>20.4</td>\n",
              "      <td>14</td>\n",
              "      <td>59.8</td>\n",
              "    </tr>\n",
              "    <tr>\n",
              "      <th>1</th>\n",
              "      <td>2019</td>\n",
              "      <td>USA</td>\n",
              "      <td>31.0</td>\n",
              "      <td>4.8</td>\n",
              "      <td>4.2</td>\n",
              "      <td>2407</td>\n",
              "      <td>107364344</td>\n",
              "      <td>49.2</td>\n",
              "      <td>8</td>\n",
              "      <td>31.0</td>\n",
              "    </tr>\n",
              "    <tr>\n",
              "      <th>2</th>\n",
              "      <td>2014</td>\n",
              "      <td>France</td>\n",
              "      <td>33.9</td>\n",
              "      <td>2.8</td>\n",
              "      <td>2.2</td>\n",
              "      <td>1241</td>\n",
              "      <td>441101758</td>\n",
              "      <td>33.3</td>\n",
              "      <td>9</td>\n",
              "      <td>35.5</td>\n",
              "    </tr>\n",
              "    <tr>\n",
              "      <th>3</th>\n",
              "      <td>2010</td>\n",
              "      <td>Argentina</td>\n",
              "      <td>5.9</td>\n",
              "      <td>1.8</td>\n",
              "      <td>3.2</td>\n",
              "      <td>1892</td>\n",
              "      <td>1069669579</td>\n",
              "      <td>23.7</td>\n",
              "      <td>7</td>\n",
              "      <td>17.7</td>\n",
              "    </tr>\n",
              "    <tr>\n",
              "      <th>4</th>\n",
              "      <td>2007</td>\n",
              "      <td>Germany</td>\n",
              "      <td>26.9</td>\n",
              "      <td>5.6</td>\n",
              "      <td>2.4</td>\n",
              "      <td>1743</td>\n",
              "      <td>124079175</td>\n",
              "      <td>12.5</td>\n",
              "      <td>4</td>\n",
              "      <td>17.4</td>\n",
              "    </tr>\n",
              "  </tbody>\n",
              "</table>\n",
              "</div>"
            ],
            "text/plain": [
              "   Year    Country  Avg_Temperature_degC  CO2_Emissions_tons_per_capita  \\\n",
              "0  2006         UK                   8.9                            9.3   \n",
              "1  2019        USA                  31.0                            4.8   \n",
              "2  2014     France                  33.9                            2.8   \n",
              "3  2010  Argentina                   5.9                            1.8   \n",
              "4  2007    Germany                  26.9                            5.6   \n",
              "\n",
              "   Sea_Level_Rise_mm  Rainfall_mm  Population  Renewable_Energy_pct  \\\n",
              "0                3.1         1441   530911230                  20.4   \n",
              "1                4.2         2407   107364344                  49.2   \n",
              "2                2.2         1241   441101758                  33.3   \n",
              "3                3.2         1892  1069669579                  23.7   \n",
              "4                2.4         1743   124079175                  12.5   \n",
              "\n",
              "   Extreme_Weather_Events  Forest_Area_pct  \n",
              "0                      14             59.8  \n",
              "1                       8             31.0  \n",
              "2                       9             35.5  \n",
              "3                       7             17.7  \n",
              "4                       4             17.4  "
            ]
          },
          "execution_count": 5,
          "metadata": {},
          "output_type": "execute_result"
        }
      ],
      "source": [
        "# Load the dataset into a pandas dataframe\n",
        "df = pd.read_csv('temperature.csv')\n",
        "\n",
        "# Load the first 5 rows of the dataset\n",
        "df.head()"
      ]
    },
    {
      "cell_type": "code",
      "execution_count": 6,
      "metadata": {},
      "outputs": [
        {
          "name": "stdout",
          "output_type": "stream",
          "text": [
            "<class 'pandas.core.frame.DataFrame'>\n",
            "RangeIndex: 1000 entries, 0 to 999\n",
            "Data columns (total 10 columns):\n",
            " #   Column                         Non-Null Count  Dtype  \n",
            "---  ------                         --------------  -----  \n",
            " 0   Year                           1000 non-null   int64  \n",
            " 1   Country                        1000 non-null   object \n",
            " 2   Avg_Temperature_degC           1000 non-null   float64\n",
            " 3   CO2_Emissions_tons_per_capita  1000 non-null   float64\n",
            " 4   Sea_Level_Rise_mm              1000 non-null   float64\n",
            " 5   Rainfall_mm                    1000 non-null   int64  \n",
            " 6   Population                     1000 non-null   int64  \n",
            " 7   Renewable_Energy_pct           1000 non-null   float64\n",
            " 8   Extreme_Weather_Events         1000 non-null   int64  \n",
            " 9   Forest_Area_pct                1000 non-null   float64\n",
            "dtypes: float64(5), int64(4), object(1)\n",
            "memory usage: 78.3+ KB\n"
          ]
        }
      ],
      "source": [
        "# Get information about the dataset\n",
        "df.info()"
      ]
    },
    {
      "cell_type": "markdown",
      "metadata": {},
      "source": [
        "### Results of `df.head()` and `df.info()`\n",
        "\n",
        "* **`df.head()`**:\n",
        "- The `df.head()` function shows the top 5 rows from the dataset.\n",
        "- The function shows a brief overview of the data structure with examples of column names and sample data values.\n",
        "- This command assists users in examining data content alongside format while identifying issues such as unexpected data types and values.\n",
        "- This function helps confirm that the dataset loading process was successful.\n",
        "\n",
        "* **`df.info()`**:\n",
        "- Provides a concise summary of the dataset.\n",
        "- The command reveals the complete dataset dimensions with the total row and column counts alongside names and data types for each column.\n",
        "- The count of non-null entries in each column appears here so you can identify missing values.\n",
        "- The feature displays memory consumption which allows users to optimize performance while handling large datasets.\n",
        "- This tool helps users evaluate their dataset's structure and assess its preparedness for analysis."
      ]
    },
    {
      "cell_type": "code",
      "execution_count": 7,
      "metadata": {},
      "outputs": [
        {
          "data": {
            "text/plain": [
              "(1000, 10)"
            ]
          },
          "execution_count": 7,
          "metadata": {},
          "output_type": "execute_result"
        }
      ],
      "source": [
        "# Display the shape of the dataframe\n",
        "df.shape\n"
      ]
    },
    {
      "cell_type": "code",
      "execution_count": 8,
      "metadata": {},
      "outputs": [
        {
          "data": {
            "text/html": [
              "<div>\n",
              "<style scoped>\n",
              "    .dataframe tbody tr th:only-of-type {\n",
              "        vertical-align: middle;\n",
              "    }\n",
              "\n",
              "    .dataframe tbody tr th {\n",
              "        vertical-align: top;\n",
              "    }\n",
              "\n",
              "    .dataframe thead th {\n",
              "        text-align: right;\n",
              "    }\n",
              "</style>\n",
              "<table border=\"1\" class=\"dataframe\">\n",
              "  <thead>\n",
              "    <tr style=\"text-align: right;\">\n",
              "      <th></th>\n",
              "      <th>Year</th>\n",
              "      <th>Avg_Temperature_degC</th>\n",
              "      <th>CO2_Emissions_tons_per_capita</th>\n",
              "      <th>Sea_Level_Rise_mm</th>\n",
              "      <th>Rainfall_mm</th>\n",
              "      <th>Population</th>\n",
              "      <th>Renewable_Energy_pct</th>\n",
              "      <th>Extreme_Weather_Events</th>\n",
              "      <th>Forest_Area_pct</th>\n",
              "    </tr>\n",
              "  </thead>\n",
              "  <tbody>\n",
              "    <tr>\n",
              "      <th>count</th>\n",
              "      <td>1000.000000</td>\n",
              "      <td>1000.000000</td>\n",
              "      <td>1000.000000</td>\n",
              "      <td>1000.000000</td>\n",
              "      <td>1000.000000</td>\n",
              "      <td>1.000000e+03</td>\n",
              "      <td>1000.000000</td>\n",
              "      <td>1000.000000</td>\n",
              "      <td>1000.000000</td>\n",
              "    </tr>\n",
              "    <tr>\n",
              "      <th>mean</th>\n",
              "      <td>2011.432000</td>\n",
              "      <td>19.883100</td>\n",
              "      <td>10.425800</td>\n",
              "      <td>3.009600</td>\n",
              "      <td>1738.761000</td>\n",
              "      <td>7.053830e+08</td>\n",
              "      <td>27.300500</td>\n",
              "      <td>7.291000</td>\n",
              "      <td>40.572000</td>\n",
              "    </tr>\n",
              "    <tr>\n",
              "      <th>std</th>\n",
              "      <td>7.147199</td>\n",
              "      <td>8.542897</td>\n",
              "      <td>5.614665</td>\n",
              "      <td>1.146081</td>\n",
              "      <td>708.976616</td>\n",
              "      <td>4.093910e+08</td>\n",
              "      <td>12.970808</td>\n",
              "      <td>4.422655</td>\n",
              "      <td>17.398998</td>\n",
              "    </tr>\n",
              "    <tr>\n",
              "      <th>min</th>\n",
              "      <td>2000.000000</td>\n",
              "      <td>5.000000</td>\n",
              "      <td>0.500000</td>\n",
              "      <td>1.000000</td>\n",
              "      <td>501.000000</td>\n",
              "      <td>3.660891e+06</td>\n",
              "      <td>5.100000</td>\n",
              "      <td>0.000000</td>\n",
              "      <td>10.100000</td>\n",
              "    </tr>\n",
              "    <tr>\n",
              "      <th>25%</th>\n",
              "      <td>2005.000000</td>\n",
              "      <td>12.175000</td>\n",
              "      <td>5.575000</td>\n",
              "      <td>2.000000</td>\n",
              "      <td>1098.750000</td>\n",
              "      <td>3.436242e+08</td>\n",
              "      <td>16.100000</td>\n",
              "      <td>3.000000</td>\n",
              "      <td>25.600000</td>\n",
              "    </tr>\n",
              "    <tr>\n",
              "      <th>50%</th>\n",
              "      <td>2012.000000</td>\n",
              "      <td>20.100000</td>\n",
              "      <td>10.700000</td>\n",
              "      <td>3.000000</td>\n",
              "      <td>1726.000000</td>\n",
              "      <td>7.131166e+08</td>\n",
              "      <td>27.150000</td>\n",
              "      <td>8.000000</td>\n",
              "      <td>41.150000</td>\n",
              "    </tr>\n",
              "    <tr>\n",
              "      <th>75%</th>\n",
              "      <td>2018.000000</td>\n",
              "      <td>27.225000</td>\n",
              "      <td>15.400000</td>\n",
              "      <td>4.000000</td>\n",
              "      <td>2362.500000</td>\n",
              "      <td>1.073868e+09</td>\n",
              "      <td>38.925000</td>\n",
              "      <td>11.000000</td>\n",
              "      <td>55.800000</td>\n",
              "    </tr>\n",
              "    <tr>\n",
              "      <th>max</th>\n",
              "      <td>2023.000000</td>\n",
              "      <td>34.900000</td>\n",
              "      <td>20.000000</td>\n",
              "      <td>5.000000</td>\n",
              "      <td>2999.000000</td>\n",
              "      <td>1.397016e+09</td>\n",
              "      <td>50.000000</td>\n",
              "      <td>14.000000</td>\n",
              "      <td>70.000000</td>\n",
              "    </tr>\n",
              "  </tbody>\n",
              "</table>\n",
              "</div>"
            ],
            "text/plain": [
              "              Year  Avg_Temperature_degC  CO2_Emissions_tons_per_capita  \\\n",
              "count  1000.000000           1000.000000                    1000.000000   \n",
              "mean   2011.432000             19.883100                      10.425800   \n",
              "std       7.147199              8.542897                       5.614665   \n",
              "min    2000.000000              5.000000                       0.500000   \n",
              "25%    2005.000000             12.175000                       5.575000   \n",
              "50%    2012.000000             20.100000                      10.700000   \n",
              "75%    2018.000000             27.225000                      15.400000   \n",
              "max    2023.000000             34.900000                      20.000000   \n",
              "\n",
              "       Sea_Level_Rise_mm  Rainfall_mm    Population  Renewable_Energy_pct  \\\n",
              "count        1000.000000  1000.000000  1.000000e+03           1000.000000   \n",
              "mean            3.009600  1738.761000  7.053830e+08             27.300500   \n",
              "std             1.146081   708.976616  4.093910e+08             12.970808   \n",
              "min             1.000000   501.000000  3.660891e+06              5.100000   \n",
              "25%             2.000000  1098.750000  3.436242e+08             16.100000   \n",
              "50%             3.000000  1726.000000  7.131166e+08             27.150000   \n",
              "75%             4.000000  2362.500000  1.073868e+09             38.925000   \n",
              "max             5.000000  2999.000000  1.397016e+09             50.000000   \n",
              "\n",
              "       Extreme_Weather_Events  Forest_Area_pct  \n",
              "count             1000.000000      1000.000000  \n",
              "mean                 7.291000        40.572000  \n",
              "std                  4.422655        17.398998  \n",
              "min                  0.000000        10.100000  \n",
              "25%                  3.000000        25.600000  \n",
              "50%                  8.000000        41.150000  \n",
              "75%                 11.000000        55.800000  \n",
              "max                 14.000000        70.000000  "
            ]
          },
          "execution_count": 8,
          "metadata": {},
          "output_type": "execute_result"
        }
      ],
      "source": [
        "# Print descriptive statistics of the dataset\n",
        "df.describe()"
      ]
    },
    {
      "cell_type": "markdown",
      "metadata": {},
      "source": [
        "## Results of `df.shape` and `df.describe()`\n",
        "\n",
        "* **`df.shape`**:\n",
        "- The `df.shape` function gives you a quick look at the dimensions of your dataset by returning a tuple: `(number_of_rows, number_of_columns)`.\n",
        "- This is super handy for getting a sense of how big your data is, which is essential when you're diving into analysis.\n",
        "- For instance, if you see a shape of `(1000, 10)`, that tells you your dataset has 1000 rows and 10 columns.\n",
        "\n",
        "* **`df.describe()`**:\n",
        "- The `df.describe()` function provides a summary of descriptive statistics for the numerical columns in your dataset.\n",
        "- It covers important metrics like count, mean, standard deviation, minimum, 25th percentile, median (50th percentile), 75th percentile, and maximum values.\n",
        "- This overview is great for spotting how your data is distributed, identifying any outliers, and getting a feel for the range and central tendency of your numerical features.\n",
        "- It's a vital part of exploratory data analysis, helping you understand the statistical properties of your dataset."
      ]
    },
    {
      "cell_type": "code",
      "execution_count": 9,
      "metadata": {},
      "outputs": [
        {
          "data": {
            "text/plain": [
              "Year                               int64\n",
              "Country                           object\n",
              "Avg_Temperature_degC             float64\n",
              "CO2_Emissions_tons_per_capita    float64\n",
              "Sea_Level_Rise_mm                float64\n",
              "Rainfall_mm                        int64\n",
              "Population                         int64\n",
              "Renewable_Energy_pct             float64\n",
              "Extreme_Weather_Events             int64\n",
              "Forest_Area_pct                  float64\n",
              "dtype: object"
            ]
          },
          "execution_count": 9,
          "metadata": {},
          "output_type": "execute_result"
        }
      ],
      "source": [
        "# Check data types\n",
        "df.dtypes"
      ]
    },
    {
      "cell_type": "code",
      "execution_count": 10,
      "metadata": {},
      "outputs": [
        {
          "data": {
            "text/plain": [
              "Year                             0\n",
              "Country                          0\n",
              "Avg_Temperature_degC             0\n",
              "CO2_Emissions_tons_per_capita    0\n",
              "Sea_Level_Rise_mm                0\n",
              "Rainfall_mm                      0\n",
              "Population                       0\n",
              "Renewable_Energy_pct             0\n",
              "Extreme_Weather_Events           0\n",
              "Forest_Area_pct                  0\n",
              "dtype: int64"
            ]
          },
          "execution_count": 10,
          "metadata": {},
          "output_type": "execute_result"
        }
      ],
      "source": [
        "# Check for missing values\n",
        "df.isnull().sum()"
      ]
    },
    {
      "cell_type": "code",
      "execution_count": 11,
      "metadata": {},
      "outputs": [
        {
          "data": {
            "text/plain": [
              "0"
            ]
          },
          "execution_count": 11,
          "metadata": {},
          "output_type": "execute_result"
        }
      ],
      "source": [
        "# Check for duplicates\n",
        "df.duplicated().sum()"
      ]
    },
    {
      "cell_type": "code",
      "execution_count": 12,
      "metadata": {},
      "outputs": [
        {
          "data": {
            "text/plain": [
              "Country\n",
              "Indonesia         75\n",
              "Russia            74\n",
              "USA               73\n",
              "'South Africa'    73\n",
              "India             70\n",
              "Argentina         67\n",
              "China             67\n",
              "Brazil            67\n",
              "Canada            67\n",
              "France            66\n",
              "UK                65\n",
              "Japan             63\n",
              "Germany           61\n",
              "Australia         57\n",
              "Mexico            55\n",
              "Name: count, dtype: int64"
            ]
          },
          "execution_count": 12,
          "metadata": {},
          "output_type": "execute_result"
        }
      ],
      "source": [
        "# Check categorical columns\n",
        "df['Country'].value_counts()"
      ]
    },
    {
      "cell_type": "code",
      "execution_count": 13,
      "metadata": {},
      "outputs": [],
      "source": [
        "# Save the dataset\n",
        "df.to_csv('temperature_cleaned.csv', index=False)"
      ]
    },
    {
      "cell_type": "markdown",
      "metadata": {},
      "source": [
        "### Results of Checking `df['Country']`, Missing Values, Duplicates, and Data Types\n",
        "\n",
        "* **`df['Country'].value_counts()`**:\n",
        "- This function tallies up how many times each unique value appears in the `Country` column.\n",
        "- It gives us a clear picture of how data is spread across different countries, highlighting which ones are more or less represented in the dataset.\n",
        "- This insight is key for grasping the geographical scope of the dataset and spotting any potential imbalances.\n",
        "\n",
        "* **Checking for Missing Values (`df.isnull().sum()`)**:\n",
        "- This command sums up all the missing (null) values in each column.\n",
        "- It’s essential for pinpointing columns that have incomplete data, which is vital for deciding how to clean the data, whether that means filling in gaps or removing certain rows or columns.\n",
        "\n",
        "* **Checking for Duplicates (`df.duplicated().sum()`)**:\n",
        "- This function counts how many duplicate rows exist in the dataset.\n",
        "- Duplicate entries can distort analysis and lead to misleading conclusions, so finding and eliminating them is a crucial part of data preprocessing.\n",
        "\n",
        "* **Checking Data Types (`df.dtypes`)**:\n",
        "- This command shows the data type for each column in the dataset.\n",
        "- It’s important to make sure that columns are using the right data types (like numerical, categorical, or datetime) for effective analysis.\n",
        "- If the data types are off, we might need to convert them to ensure proper analysis or visualization."
      ]
    },
    {
      "cell_type": "code",
      "execution_count": 15,
      "metadata": {},
      "outputs": [
        {
          "name": "stdout",
          "output_type": "stream",
          "text": [
            "You saved the cleaned dataset\n"
          ]
        }
      ],
      "source": [
        "# Save the dataset\n",
        "df.to_csv('temperature_cleaned.csv', index=False)\n",
        "print(\"You saved the cleaned dataset\")"
      ]
    },
    {
      "cell_type": "markdown",
      "metadata": {
        "id": "ZY3l0-AxO93d"
      },
      "source": [
        "---"
      ]
    },
    {
      "cell_type": "markdown",
      "metadata": {
        "id": "uFQo3ycuO-v6"
      },
      "source": [
        "# Section 2 - Correlation analysis"
      ]
    },
    {
      "cell_type": "markdown",
      "metadata": {},
      "source": [
        "### Importance of Correlation Analysis in the Dataset\n",
        "\n",
        "Understanding how variables interrelate within a dataset can provide important insights on whether variables are correlated, and if so, to what degree they are positively or negatively correlated. Correlation analysis determines:\n",
        "- **Strength and Direction of Relationships**: Correlation analysis considers whether the variables have a positive or negative relationship, and to what extent.\n",
        "- **Feature Selection**: A correlation analysis can help identify duplicate features and allow selection of the most important features to include in the modeling process.\n",
        "- **Insights for Decision Making**: A correlation analysis can help identify dependencies and trends in the data that may be useful in making and informing decisions when identifying strategic pathways forward. \n",
        "- **Multicollinearity Mitigating**: Identifying high correlations among independent variable helps to provide information about causing multicollinearity to data, which may lead to performance detriments."
      ]
    },
    {
      "cell_type": "code",
      "execution_count": null,
      "metadata": {},
      "outputs": [],
      "source": [
        "# Calculate Pearson and Spearman correlations\n",
        "pearson_corr = df.corr(method='pearson')\n",
        "spearman_corr = df.corr(method='spearman')\n",
        "\n",
        "# Create side-by-side heatmaps\n",
        "fig, axes = plt.subplots(1, 2, figsize=(16, 6))\n",
        "\n",
        "# Pearson correlation heatmap\n",
        "sns.heatmap(pearson_corr, annot=True, cmap='coolwarm', ax=axes[0])\n",
        "axes[0].set_title('Pearson Correlation')\n",
        "\n",
        "# Spearman correlation heatmap\n",
        "sns.heatmap(spearman_corr, annot=True, cmap='coolwarm', ax=axes[1])\n",
        "axes[1].set_title('Spearman Correlation')\n",
        "\n",
        "plt.tight_layout()\n",
        "plt.show()"
      ]
    },
    {
      "cell_type": "code",
      "execution_count": null,
      "metadata": {},
      "outputs": [],
      "source": [
        "# Sort the correlation results by absolute correlation values in descending order\n",
        "top_3_correlations = sorted(\n",
        "    correlation_results.items(),\n",
        "    key=lambda x: abs(x[1]['correlation']),\n",
        "    reverse=True\n",
        ")[:3]\n",
        "\n",
        "# Display the top 3 correlations\n",
        "print(\"Top 3 Correlations:\")\n",
        "for idx, ((var1, var2), stats) in enumerate(top_3_correlations, start=1):\n",
        "    print(f\"Rank {idx}: '{var1}' and '{var2}' with a correlation coefficient of {stats['correlation']:.2f} and a p-value of {stats['p_value']:.2e}.\")\n",
        "\n",
        "# Sort the correlation results by absolute correlation values in ascending order\n",
        "weakest_3_correlations = sorted(\n",
        "    correlation_results.items(),\n",
        "    key=lambda x: abs(x[1]['correlation'])\n",
        ")[:3]\n",
        "\n",
        "# Display the weakest 3 correlations\n",
        "print(\"\\nWeakest 3 Correlations:\")\n",
        "for idx, ((var1, var2), stats) in enumerate(weakest_3_correlations, start=1):\n",
        "    print(f\"Weak Rank {idx}: '{var1}' and '{var2}' with a correlation coefficient of {stats['correlation']:.2f} and a p-value of {stats['p_value']:.2e}.\")\n"
      ]
    },
    {
      "cell_type": "markdown",
      "metadata": {},
      "source": [
        "---"
      ]
    },
    {
      "cell_type": "markdown",
      "metadata": {},
      "source": [
        "NOTE"
      ]
    },
    {
      "cell_type": "markdown",
      "metadata": {},
      "source": [
        "* You may add as many sections as you want, as long as it supports your project workflow.\n",
        "* All notebook's cells should be run top-down (you can't create a dynamic wherein a given point you need to go back to a previous cell to execute some task, like go back to a previous cell and refresh a variable content)"
      ]
    },
    {
      "cell_type": "markdown",
      "metadata": {},
      "source": [
        "---"
      ]
    },
    {
      "cell_type": "markdown",
      "metadata": {
        "id": "ltNetd085qHf"
      },
      "source": [
        "# Push files to Repo"
      ]
    },
    {
      "cell_type": "markdown",
      "metadata": {},
      "source": [
        "* In cases where you don't need to push files to Repo, you may replace this section with \"Conclusions and Next Steps\" and state your conclusions and next steps."
      ]
    },
    {
      "cell_type": "code",
      "execution_count": null,
      "metadata": {
        "id": "aKlnIozA4eQO",
        "outputId": "fd09bc1f-adb1-4511-f6ce-492a6af570c0"
      },
      "outputs": [],
      "source": [
        "import os\n",
        "try:\n",
        "  # create your folder here\n",
        "  # os.makedirs(name='')\n",
        "except Exception as e:\n",
        "  print(e)\n"
      ]
    }
  ],
  "metadata": {
    "accelerator": "GPU",
    "colab": {
      "name": "Data Practitioner Jupyter Notebook.ipynb",
      "provenance": [],
      "toc_visible": true
    },
    "kernelspec": {
      "display_name": ".venv",
      "language": "python",
      "name": "python3"
    },
    "language_info": {
      "codemirror_mode": {
        "name": "ipython",
        "version": 3
      },
      "file_extension": ".py",
      "mimetype": "text/x-python",
      "name": "python",
      "nbconvert_exporter": "python",
      "pygments_lexer": "ipython3",
      "version": "3.12.8"
    },
    "orig_nbformat": 2
  },
  "nbformat": 4,
  "nbformat_minor": 2
}
